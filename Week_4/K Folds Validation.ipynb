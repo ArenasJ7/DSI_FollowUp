{
 "cells": [
  {
   "cell_type": "markdown",
   "metadata": {},
   "source": [
    "# K Folds Validation"
   ]
  },
  {
   "cell_type": "markdown",
   "metadata": {},
   "source": [
    "### Part 1: Load and Split Data"
   ]
  },
  {
   "cell_type": "code",
   "execution_count": 86,
   "metadata": {},
   "outputs": [],
   "source": [
    "from sklearn.linear_model import LinearRegression\n",
    "from sklearn.model_selection import KFold\n",
    "from sklearn.model_selection import train_test_split\n",
    "from sklearn.model_selection import cross_val_score\n",
    "from sklearn.metrics import mean_squared_error\n",
    "import numpy as np\n",
    "from sklearn.datasets import load_boston\n",
    "import matplotlib.pyplot as plt"
   ]
  },
  {
   "cell_type": "code",
   "execution_count": 87,
   "metadata": {},
   "outputs": [],
   "source": [
    "boston = load_boston()\n",
    "X = boston.data # housing features\n",
    "y = boston.target # housing prices"
   ]
  },
  {
   "cell_type": "code",
   "execution_count": 88,
   "metadata": {},
   "outputs": [],
   "source": [
    "X_train, X_test, y_train, y_test = train_test_split(X, y, test_size=0.25)"
   ]
  },
  {
   "cell_type": "markdown",
   "metadata": {},
   "source": [
    "### Part 2: Train and Test Split Only (Bad Option)"
   ]
  },
  {
   "cell_type": "code",
   "execution_count": 89,
   "metadata": {},
   "outputs": [],
   "source": [
    "def RMSE(true, predicted):\n",
    "    \n",
    "    RMSE = np.mean((predicted - true)**2)\n",
    "    \n",
    "    return RMSE\n",
    "    "
   ]
  },
  {
   "cell_type": "code",
   "execution_count": 90,
   "metadata": {},
   "outputs": [
    {
     "name": "stdout",
     "output_type": "stream",
     "text": [
      "RMSE for training set  23.18507563958811\n",
      "RMSE for test set  19.187736841332438\n",
      "Difference between sklearn MSE and in house made function:  0.0\n"
     ]
    }
   ],
   "source": [
    "linear = LinearRegression()\n",
    "\n",
    "linear.fit(X_train, y_train)\n",
    "\n",
    "# Call predict to get the predicted values for training and test set\n",
    "train_predicted = linear.predict(X_train)\n",
    "test_predicted = linear.predict(X_test)\n",
    "\n",
    "# Calculate RMSE for training and test set\n",
    "print( 'RMSE for training set ', RMSE(y_train, train_predicted))\n",
    "print( 'RMSE for test set ', RMSE(y_test, test_predicted))\n",
    "\n",
    "print('Difference between sklearn MSE and in house made function: ', mean_squared_error(y_train, train_predicted) - RMSE(y_train, train_predicted))"
   ]
  },
  {
   "cell_type": "markdown",
   "metadata": {},
   "source": [
    "### Part 3: K-fold Cross Validation (Even Better Option)"
   ]
  },
  {
   "cell_type": "code",
   "execution_count": 91,
   "metadata": {},
   "outputs": [],
   "source": [
    "def crossVal(X_train, y_train, k):\n",
    "    \n",
    "    kf = KFold(n_splits = k, shuffle = True)\n",
    "    \n",
    "    RMSE_result = []\n",
    "    \n",
    "    for train, test in kf.split(X_train):\n",
    "        \n",
    "        linear = LinearRegression()\n",
    "        linear.fit(X_train[train], y_train[train])\n",
    "        \n",
    "        train_predicted = linear.predict(X_train[test])\n",
    "        \n",
    "        RMSE_result.append(RMSE(y_train[test], train_predicted))\n",
    "    \n",
    "    result = np.mean(RMSE_result)\n",
    "    \n",
    "    return result\n",
    "        \n",
    "        "
   ]
  },
  {
   "cell_type": "code",
   "execution_count": 92,
   "metadata": {},
   "outputs": [
    {
     "data": {
      "text/plain": [
       "25.18012963180427"
      ]
     },
     "execution_count": 92,
     "metadata": {},
     "output_type": "execute_result"
    }
   ],
   "source": [
    "crossVal(X_train, y_train, 5)"
   ]
  },
  {
   "cell_type": "code",
   "execution_count": 98,
   "metadata": {},
   "outputs": [
    {
     "data": {
      "text/plain": [
       "[<matplotlib.lines.Line2D at 0x1a18228a90>]"
      ]
     },
     "execution_count": 98,
     "metadata": {},
     "output_type": "execute_result"
    },
    {
     "data": {
      "image/png": "[encoded data removed]",
      "text/plain": [
       "<Figure size 432x288 with 1 Axes>"
      ]
     },
     "metadata": {
      "needs_background": "light"
     },
     "output_type": "display_data"
    }
   ],
   "source": [
    "plot_data = []\n",
    "\n",
    "for i in np.linspace(2, 12,11):\n",
    "    \n",
    "    i = int(i)\n",
    "    plot_data.append(crossVal(X_train, y_train, i))\n",
    "    \n",
    "fig, ax = plt.subplots()\n",
    "\n",
    "ax.plot(plot_data)"
   ]
  },
  {
   "cell_type": "code",
   "execution_count": null,
   "metadata": {},
   "outputs": [],
   "source": []
  }
 ],
 "metadata": {
  "kernelspec": {
   "display_name": "Python 3",
   "language": "python",
   "name": "python3"
  },
  "language_info": {
   "codemirror_mode": {
    "name": "ipython",
    "version": 3
   },
   "file_extension": ".py",
   "mimetype": "text/x-python",
   "name": "python",
   "nbconvert_exporter": "python",
   "pygments_lexer": "ipython3",
   "version": "3.7.3"
  }
 },
 "nbformat": 4,
 "nbformat_minor": 2
}
