{
 "cells": [
  {
   "cell_type": "code",
   "execution_count": 608,
   "metadata": {},
   "outputs": [],
   "source": [
    "import pyspark as ps\n",
    "\n",
    "spark = (ps.sql.SparkSession.builder \n",
    "        .master(\"local[4]\") \n",
    "        .appName(\"sparkSQL exercise\") \n",
    "        .getOrCreate()\n",
    "        )\n",
    "sc = spark.sparkContext"
   ]
  },
  {
   "cell_type": "code",
   "execution_count": 609,
   "metadata": {},
   "outputs": [],
   "source": [
    "data = spark.read.json('data/restaurants.json.gz')"
   ]
  },
  {
   "cell_type": "code",
   "execution_count": 610,
   "metadata": {},
   "outputs": [
    {
     "name": "stdout",
     "output_type": "stream",
     "text": [
      "+--------------------+--------+--------+----------+-----------+------------+-----------+------------+-----+-----+-------+------------------+\n",
      "|accepts_credit_cards|bar_type|city    |latitude  |longitude  |neighborhood|price_range|review_count|stars|state|takeout|takes_reservations|\n",
      "+--------------------+--------+--------+----------+-----------+------------+-----------+------------+-----+-----+-------+------------------+\n",
      "|true                |full_bar|Braddock|40.408735 |-79.8663507|null        |1          |11          |4.5  |PA   |true   |false             |\n",
      "|true                |full_bar|Carnegie|40.415517 |-80.067534 |Greentree   |1          |15          |4.0  |PA   |true   |false             |\n",
      "|true                |none    |Carnegie|40.3877323|-80.0928745|null        |1          |8           |3.5  |PA   |true   |false             |\n",
      "|true                |full_bar|Carnegie|40.3964688|-80.0849416|null        |2          |5           |4.0  |PA   |false  |false             |\n",
      "|false               |none    |Carnegie|40.3967441|-80.0847998|null        |1          |38          |4.5  |PA   |true   |false             |\n",
      "+--------------------+--------+--------+----------+-----------+------------+-----------+------------+-----+-----+-------+------------------+\n",
      "only showing top 5 rows\n",
      "\n"
     ]
    }
   ],
   "source": [
    "data.show(5, truncate = False)"
   ]
  },
  {
   "cell_type": "code",
   "execution_count": 611,
   "metadata": {},
   "outputs": [
    {
     "name": "stdout",
     "output_type": "stream",
     "text": [
      "root\n",
      " |-- accepts_credit_cards: boolean (nullable = true)\n",
      " |-- bar_type: string (nullable = true)\n",
      " |-- city: string (nullable = true)\n",
      " |-- latitude: double (nullable = true)\n",
      " |-- longitude: double (nullable = true)\n",
      " |-- neighborhood: string (nullable = true)\n",
      " |-- price_range: long (nullable = true)\n",
      " |-- review_count: long (nullable = true)\n",
      " |-- stars: double (nullable = true)\n",
      " |-- state: string (nullable = true)\n",
      " |-- takeout: boolean (nullable = true)\n",
      " |-- takes_reservations: boolean (nullable = true)\n",
      "\n"
     ]
    }
   ],
   "source": [
    "data.printSchema()"
   ]
  },
  {
   "cell_type": "code",
   "execution_count": 612,
   "metadata": {},
   "outputs": [],
   "source": [
    "from pyspark.ml.regression import LinearRegression, DecisionTreeRegressor\n",
    "from pyspark.sql.types import FloatType, DoubleType\n",
    "from pyspark.ml import Pipeline\n",
    "from pyspark.ml.feature import StringIndexer, OneHotEncoder, VectorAssembler, StandardScaler"
   ]
  },
  {
   "cell_type": "code",
   "execution_count": 613,
   "metadata": {},
   "outputs": [],
   "source": [
    "data = data.withColumn('accepts_credit_cards', data.accepts_credit_cards.astype(DoubleType()))\n",
    "data = data.withColumn('price_range', data.price_range.astype(DoubleType()))\n",
    "data = data.withColumn('review_count', data.review_count.astype(DoubleType()))\n",
    "data = data.withColumn('takeout', data.takes_reservations.astype(DoubleType()))\n",
    "data = data.withColumn('takes_reservations', data.takes_reservations.astype(DoubleType()))\n",
    "\n",
    "#data = data.dropna(how='any')\n",
    "#data = data.fillna({'bar_type':'unknown','city':'unknown','neighborhood':'unknown','state':'unknown'})"
   ]
  },
  {
   "cell_type": "code",
   "execution_count": 614,
   "metadata": {},
   "outputs": [],
   "source": [
    "train, test  = data.randomSplit([0.7,0.3])"
   ]
  },
  {
   "cell_type": "code",
   "execution_count": 615,
   "metadata": {},
   "outputs": [
    {
     "name": "stdout",
     "output_type": "stream",
     "text": [
      "+--------------------+-------------+-----------+----------+----------+------------+-----------+------------+-----+-----+-------+------------------+\n",
      "|accepts_credit_cards|     bar_type|       city|  latitude| longitude|neighborhood|price_range|review_count|stars|state|takeout|takes_reservations|\n",
      "+--------------------+-------------+-----------+----------+----------+------------+-----------+------------+-----+-----+-------+------------------+\n",
      "|                 0.0|beer_and_wine|Durmersheim|   48.9374|   8.27346|        null|        1.0|         3.0|  3.0|   BW|    0.0|               0.0|\n",
      "|                 0.0|beer_and_wine|  Edinburgh|55.9387706|-3.1787491|   Newington|        3.0|        12.0|  3.5|  EDH|    1.0|               1.0|\n",
      "|                 0.0|beer_and_wine|  Edinburgh|55.9426152| -3.182485|   Newington|        2.0|        26.0|  4.0|  EDH|    1.0|               1.0|\n",
      "|                 0.0|beer_and_wine|  Edinburgh|55.9444983|-3.1856957|   Newington|        1.0|        41.0|  4.0|  EDH|    0.0|               0.0|\n",
      "|                 0.0|beer_and_wine|  Edinburgh|55.9462845|-3.2056631|    Old Town|        2.0|         7.0|  4.0|  EDH|    1.0|               1.0|\n",
      "+--------------------+-------------+-----------+----------+----------+------------+-----------+------------+-----+-----+-------+------------------+\n",
      "only showing top 5 rows\n",
      "\n"
     ]
    }
   ],
   "source": [
    "train.show(5)"
   ]
  },
  {
   "cell_type": "code",
   "execution_count": 616,
   "metadata": {},
   "outputs": [
    {
     "name": "stdout",
     "output_type": "stream",
     "text": [
      "root\n",
      " |-- accepts_credit_cards: double (nullable = true)\n",
      " |-- bar_type: string (nullable = true)\n",
      " |-- city: string (nullable = true)\n",
      " |-- latitude: double (nullable = true)\n",
      " |-- longitude: double (nullable = true)\n",
      " |-- neighborhood: string (nullable = true)\n",
      " |-- price_range: double (nullable = true)\n",
      " |-- review_count: double (nullable = true)\n",
      " |-- stars: double (nullable = true)\n",
      " |-- state: string (nullable = true)\n",
      " |-- takeout: double (nullable = true)\n",
      " |-- takes_reservations: double (nullable = true)\n",
      "\n"
     ]
    }
   ],
   "source": [
    "train.printSchema()"
   ]
  },
  {
   "cell_type": "code",
   "execution_count": 617,
   "metadata": {},
   "outputs": [
    {
     "name": "stdout",
     "output_type": "stream",
     "text": [
      "+--------------------+-------------+-----------+----------+----------+------------+-----------+------------+-----+-----+-------+------------------+\n",
      "|accepts_credit_cards|bar_type     |city       |latitude  |longitude |neighborhood|price_range|review_count|stars|state|takeout|takes_reservations|\n",
      "+--------------------+-------------+-----------+----------+----------+------------+-----------+------------+-----+-----+-------+------------------+\n",
      "|0.0                 |beer_and_wine|Durmersheim|48.9374   |8.27346   |null        |1.0        |3.0         |3.0  |BW   |0.0    |0.0               |\n",
      "|0.0                 |beer_and_wine|Edinburgh  |55.9387706|-3.1787491|Newington   |3.0        |12.0        |3.5  |EDH  |1.0    |1.0               |\n",
      "|0.0                 |beer_and_wine|Edinburgh  |55.9426152|-3.182485 |Newington   |2.0        |26.0        |4.0  |EDH  |1.0    |1.0               |\n",
      "|0.0                 |beer_and_wine|Edinburgh  |55.9444983|-3.1856957|Newington   |1.0        |41.0        |4.0  |EDH  |0.0    |0.0               |\n",
      "|0.0                 |beer_and_wine|Edinburgh  |55.9462845|-3.2056631|Old Town    |2.0        |7.0         |4.0  |EDH  |1.0    |1.0               |\n",
      "+--------------------+-------------+-----------+----------+----------+------------+-----------+------------+-----+-----+-------+------------------+\n",
      "only showing top 5 rows\n",
      "\n"
     ]
    }
   ],
   "source": [
    "train.show(5, truncate= False)"
   ]
  },
  {
   "cell_type": "code",
   "execution_count": 618,
   "metadata": {},
   "outputs": [],
   "source": [
    "double_cols = ['accepts_credit_card','price_range', 'review_count','takeout','takes_reservations']\n",
    "str_cols = ['bar_type','city', 'neighborhood','state']\n",
    "str_cols_idx = list([cols+'_indexed' for cols in str_cols])\n",
    "str_cols_oh  = list([cols+'_one_hot' for cols in str_cols])"
   ]
  },
  {
   "cell_type": "code",
   "execution_count": 619,
   "metadata": {},
   "outputs": [],
   "source": [
    "indexer_1 = StringIndexer(inputCol = 'bar_type', outputCol = 'bar_type_index', handleInvalid = 'keep')\n",
    "indexer_2 = StringIndexer(inputCol = 'city', outputCol = 'city_index', handleInvalid = 'keep')\n",
    "indexer_3 = StringIndexer(inputCol = 'neighborhood', outputCol = 'neighborhood_index', handleInvalid = 'keep')\n",
    "indexer_4 = StringIndexer(inputCol = 'state', outputCol = 'state_index', handleInvalid = 'keep')\n",
    "\n",
    "one_hot_1 = OneHotEncoder(inputCol = 'bar_type_index', outputCol = 'bar_type_one_hot')\n",
    "one_hot_2 = OneHotEncoder(inputCol = 'city_index', outputCol = 'city_one_hot')\n",
    "one_hot_3 = OneHotEncoder(inputCol = 'neighborhood_index', outputCol = 'neighborhood_one_hot')\n",
    "one_hot_4 = OneHotEncoder(inputCol = 'state_index', outputCol = 'state_one_hot')\n",
    "             \n",
    "assembler = VectorAssembler(inputCols = ['accepts_credit_cards','bar_type_one_hot','city_one_hot','latitude','longitude','neighborhood_one_hot','price_range','review_count','state_one_hot','takeout','takes_reservations'], outputCol = 'features_1')\n",
    "normalize = StandardScaler(inputCol = 'features_1', outputCol = 'features')\n",
    "lr = LinearRegression(featuresCol = 'features',labelCol = 'stars',maxIter=10, regParam=0.3)\n",
    "dtr = DecisionTreeRegressor(featuresCol = 'features',labelCol = 'stars')\n",
    "\n",
    "pipeline = Pipeline(stages=[indexer_1,indexer_2,indexer_3,indexer_4, one_hot_1,one_hot_2,one_hot_3,one_hot_4, assembler,normalize,lr])\n",
    "pipeline_2 = Pipeline(stages=[indexer_1,indexer_2,indexer_3,indexer_4, one_hot_1,one_hot_2,one_hot_3,one_hot_4, assembler,normalize,dtr])\n",
    "model = pipeline.fit(train)\n",
    "model_2 = pipeline_2.fit(train)\n"
   ]
  },
  {
   "cell_type": "code",
   "execution_count": 620,
   "metadata": {},
   "outputs": [],
   "source": [
    "preds = model.transform(test)\n",
    "preds_2 = model_2.transform(test)"
   ]
  },
  {
   "cell_type": "code",
   "execution_count": 621,
   "metadata": {},
   "outputs": [
    {
     "name": "stdout",
     "output_type": "stream",
     "text": [
      "+------------------+-----+\n",
      "|        prediction|stars|\n",
      "+------------------+-----+\n",
      "| 4.207441030766111|  4.5|\n",
      "| 3.827138738945079|  3.5|\n",
      "|   3.8276021784282|  5.0|\n",
      "| 3.829054397342927|  3.5|\n",
      "|3.8300558260974196|  4.0|\n",
      "+------------------+-----+\n",
      "only showing top 5 rows\n",
      "\n"
     ]
    }
   ],
   "source": [
    "preds.select('prediction', 'stars').show(5)"
   ]
  },
  {
   "cell_type": "code",
   "execution_count": 622,
   "metadata": {},
   "outputs": [
    {
     "name": "stdout",
     "output_type": "stream",
     "text": [
      "+-----------------+-----+\n",
      "|       prediction|stars|\n",
      "+-----------------+-----+\n",
      "|3.807377049180328|  4.5|\n",
      "|3.807377049180328|  3.5|\n",
      "|3.807377049180328|  5.0|\n",
      "|3.807377049180328|  3.5|\n",
      "|3.807377049180328|  4.0|\n",
      "+-----------------+-----+\n",
      "only showing top 5 rows\n",
      "\n"
     ]
    }
   ],
   "source": [
    "preds_2.select('prediction','stars').show(5)"
   ]
  },
  {
   "cell_type": "code",
   "execution_count": 623,
   "metadata": {},
   "outputs": [],
   "source": [
    "from pyspark.ml.evaluation import RegressionEvaluator"
   ]
  },
  {
   "cell_type": "code",
   "execution_count": 624,
   "metadata": {},
   "outputs": [],
   "source": [
    "lr_evaluator = RegressionEvaluator(predictionCol ='prediction', labelCol ='stars', metricName='mse')\n",
    "dtr_evaluator = RegressionEvaluator(predictionCol ='prediction', labelCol ='stars', metricName='mse')"
   ]
  },
  {
   "cell_type": "code",
   "execution_count": 625,
   "metadata": {},
   "outputs": [
    {
     "data": {
      "text/plain": [
       "0.3942647916284995"
      ]
     },
     "execution_count": 625,
     "metadata": {},
     "output_type": "execute_result"
    }
   ],
   "source": [
    "lr_evaluator.evaluate(preds)"
   ]
  },
  {
   "cell_type": "code",
   "execution_count": 626,
   "metadata": {},
   "outputs": [
    {
     "data": {
      "text/plain": [
       "0.3756460138112749"
      ]
     },
     "execution_count": 626,
     "metadata": {},
     "output_type": "execute_result"
    }
   ],
   "source": [
    "dtr_evaluator.evaluate(preds_2)"
   ]
  },
  {
   "cell_type": "code",
   "execution_count": null,
   "metadata": {},
   "outputs": [],
   "source": []
  }
 ],
 "metadata": {
  "kernelspec": {
   "display_name": "Python 3",
   "language": "python",
   "name": "python3"
  },
  "language_info": {
   "codemirror_mode": {
    "name": "ipython",
    "version": 3
   },
   "file_extension": ".py",
   "mimetype": "text/x-python",
   "name": "python",
   "nbconvert_exporter": "python",
   "pygments_lexer": "ipython3",
   "version": "3.7.3"
  }
 },
 "nbformat": 4,
 "nbformat_minor": 4
}
