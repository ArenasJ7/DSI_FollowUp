{
 "cells": [
  {
   "cell_type": "markdown",
   "metadata": {},
   "source": [
    "# Probability Distributions Assignment"
   ]
  },
  {
   "cell_type": "code",
   "execution_count": 202,
   "metadata": {},
   "outputs": [],
   "source": [
    "import scipy.stats as stats\n",
    "import numpy as np\n",
    "import matplotlib.pyplot as plt"
   ]
  },
  {
   "cell_type": "markdown",
   "metadata": {},
   "source": [
    "1. A typist makes on average 2 mistakes per page. What is the probability of a particular page having no errors on it?"
   ]
  },
  {
   "cell_type": "markdown",
   "metadata": {},
   "source": [
    "This problem relates to a Poisson distribution given that we have a fixed rate for the mistakes. Therefore lambda = 2 and X = 0.\n",
    "\n",
    "We know that the rate of the typos is 2 per page, therefore lambda equals 2. Now we want to find the probability to fin 0 typos in one page. We do this using the Poisson probability mass function."
   ]
  },
  {
   "cell_type": "code",
   "execution_count": 19,
   "metadata": {},
   "outputs": [
    {
     "name": "stdout",
     "output_type": "stream",
     "text": [
      "P(X = 0) =  13.5\n"
     ]
    }
   ],
   "source": [
    "print('P(X = 0) = ',round(stats.poisson.pmf(0,2)*100,1))"
   ]
  },
  {
   "cell_type": "markdown",
   "metadata": {},
   "source": [
    "2. Components are packed in boxes of 20. The probability of any individual component being defective is 0.1. What is the probability of a box containing exactly 2 defective components?"
   ]
  },
  {
   "cell_type": "markdown",
   "metadata": {},
   "source": [
    "This is the case of binomial distribution. The type of data is discrete and we're given the probability of 20 choose 1.\n",
    "\n",
    "We use the binomial distribution to answer this question."
   ]
  },
  {
   "cell_type": "code",
   "execution_count": 53,
   "metadata": {},
   "outputs": [
    {
     "name": "stdout",
     "output_type": "stream",
     "text": [
      "P(X = 2) =  28.5\n"
     ]
    }
   ],
   "source": [
    "dist = stats.binom(20, 0.1)\n",
    "print('P(X = 2) = ', round(dist.pmf(2)*100,1))"
   ]
  },
  {
   "cell_type": "markdown",
   "metadata": {},
   "source": [
    "3. Components are packed in boxes of 20. The probability of any individual component being defective is 0.1. What is the probability of a box containing AT MOST 2 defective components?"
   ]
  },
  {
   "cell_type": "markdown",
   "metadata": {},
   "source": [
    "In this case we're not asked to find the probability of a given value but the cummlative probability at X = 2."
   ]
  },
  {
   "cell_type": "code",
   "execution_count": 77,
   "metadata": {},
   "outputs": [
    {
     "name": "stdout",
     "output_type": "stream",
     "text": [
      "P(X <= 2) =  67.7\n"
     ]
    }
   ],
   "source": [
    "dist = stats.binom(n=20,p= 0.1)\n",
    "print('P(X <= 2) = ', round(dist.cdf(2)*100,1))"
   ]
  },
  {
   "cell_type": "markdown",
   "metadata": {},
   "source": [
    "4. Patrons arrive at a local bar at a rate of 30 per hour. What is the probability that the bouncer can take a three minute bathroom break without missing the next patron?"
   ]
  },
  {
   "cell_type": "markdown",
   "metadata": {},
   "source": [
    "This case follows a Poisson distirbution with lambda = 1/2 shot per minute. Therefore we need to determine when X = 3."
   ]
  },
  {
   "cell_type": "code",
   "execution_count": 89,
   "metadata": {},
   "outputs": [
    {
     "name": "stdout",
     "output_type": "stream",
     "text": [
      "P(X = 0) =  1.3\n"
     ]
    }
   ],
   "source": [
    "print('P(X = 0) = ',round(stats.poisson.pmf(3,0.5)*100,1))"
   ]
  },
  {
   "cell_type": "code",
   "execution_count": 96,
   "metadata": {},
   "outputs": [
    {
     "data": {
      "text/plain": [
       "0.03125"
      ]
     },
     "execution_count": 96,
     "metadata": {},
     "output_type": "execute_result"
    }
   ],
   "source": []
  },
  {
   "cell_type": "markdown",
   "metadata": {},
   "source": [
    "## Part 2"
   ]
  },
  {
   "cell_type": "code",
   "execution_count": 178,
   "metadata": {},
   "outputs": [],
   "source": [
    "\n",
    "def prof_sample():\n",
    "    \n",
    "    nview_dist = stats.uniform(5000,1000)\n",
    "    con_dist = stats.binom(nview_dist.rvs(1),0.12)\n",
    "    wholesale_dist = stats.binom(con_dist.rvs(1),0.2)\n",
    "    nonwhole_dist = stats.binom(con_dist.rvs(1),0.8)\n",
    "    \n",
    "    profit = con_dist.rvs(1)*(wholesale_dist.rvs(1)/con_dist.rvs(1)*50 + nonwhole_dist.rvs(1)/con_dist.rvs(1)*60)\n",
    "    \n",
    "    return profit\n"
   ]
  },
  {
   "cell_type": "code",
   "execution_count": 196,
   "metadata": {},
   "outputs": [],
   "source": [
    "result = np.empty([10000,1])\n",
    "\n",
    "for i in range(10000):\n",
    "    \n",
    "    result[i,0] = prof_sample()[0]"
   ]
  },
  {
   "cell_type": "code",
   "execution_count": 224,
   "metadata": {},
   "outputs": [
    {
     "data": {
      "image/png": "[encoded data removed]",
      "text/plain": [
       "<Figure size 432x288 with 1 Axes>"
      ]
     },
     "metadata": {
      "needs_background": "light"
     },
     "output_type": "display_data"
    }
   ],
   "source": [
    "plt.hist(result, bins=50, edgecolor='red', density = True);"
   ]
  },
  {
   "cell_type": "code",
   "execution_count": 233,
   "metadata": {},
   "outputs": [
    {
     "data": {
      "text/plain": [
       "array([32253.60529433, 44414.34489924])"
      ]
     },
     "execution_count": 233,
     "metadata": {},
     "output_type": "execute_result"
    }
   ],
   "source": [
    "np.mean(result)\n",
    "midd_95 = np.array([np.mean(result)-2*np.std(result),np.mean(result)+2*np.std(result)])\n",
    "midd_95"
   ]
  }
 ],
 "metadata": {
  "kernelspec": {
   "display_name": "Python 3",
   "language": "python",
   "name": "python3"
  },
  "language_info": {
   "codemirror_mode": {
    "name": "ipython",
    "version": 3
   },
   "file_extension": ".py",
   "mimetype": "text/x-python",
   "name": "python",
   "nbconvert_exporter": "python",
   "pygments_lexer": "ipython3",
   "version": "3.7.3"
  }
 },
 "nbformat": 4,
 "nbformat_minor": 2
}
