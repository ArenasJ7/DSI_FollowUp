{
 "cells": [
  {
   "cell_type": "markdown",
   "metadata": {},
   "source": [
    "# Probability Distributions Assignment"
   ]
  },
  {
   "cell_type": "code",
   "execution_count": 2,
   "metadata": {},
   "outputs": [],
   "source": [
    "import scipy.stats as stats\n",
    "import numpy as np\n",
    "import matplotlib.pyplot as plt"
   ]
  },
  {
   "cell_type": "markdown",
   "metadata": {},
   "source": [
    "1. A typist makes on average 2 mistakes per page. What is the probability of a particular page having no errors on it?"
   ]
  },
  {
   "cell_type": "markdown",
   "metadata": {},
   "source": [
    "This problem relates to a Poisson distribution given that we have a fixed rate for the mistakes. Therefore lambda = 2 and X = 0.\n",
    "\n",
    "We know that the rate of the typos is 2 per page, therefore lambda equals 2. Now we want to find the probability to fin 0 typos in one page. We do this using the Poisson probability mass function."
   ]
  },
  {
   "cell_type": "code",
   "execution_count": 5,
   "metadata": {},
   "outputs": [
    {
     "name": "stdout",
     "output_type": "stream",
     "text": [
      "P(X = 0) =  13.5\n"
     ]
    }
   ],
   "source": [
    "print('P(X = 0) = ',round(stats.poisson.pmf(0,2)*100,1))"
   ]
  },
  {
   "cell_type": "markdown",
   "metadata": {},
   "source": [
    "2. Components are packed in boxes of 20. The probability of any individual component being defective is 0.1. What is the probability of a box containing exactly 2 defective components?"
   ]
  },
  {
   "cell_type": "markdown",
   "metadata": {},
   "source": [
    "This is the case of binomial distribution. The type of data is discrete and we're given the probability of 20 choose 1.\n",
    "\n",
    "We use the binomial distribution to answer this question."
   ]
  },
  {
   "cell_type": "code",
   "execution_count": 6,
   "metadata": {},
   "outputs": [
    {
     "name": "stdout",
     "output_type": "stream",
     "text": [
      "P(X = 2) =  28.5\n"
     ]
    }
   ],
   "source": [
    "dist = stats.binom(20, 0.1)\n",
    "print('P(X = 2) = ', round(dist.pmf(2)*100,1))"
   ]
  },
  {
   "cell_type": "markdown",
   "metadata": {},
   "source": [
    "3. Components are packed in boxes of 20. The probability of any individual component being defective is 0.1. What is the probability of a box containing AT MOST 2 defective components?"
   ]
  },
  {
   "cell_type": "markdown",
   "metadata": {},
   "source": [
    "In this case we're not asked to find the probability of a given value but the cummlative probability at X = 2."
   ]
  },
  {
   "cell_type": "code",
   "execution_count": 7,
   "metadata": {},
   "outputs": [
    {
     "name": "stdout",
     "output_type": "stream",
     "text": [
      "P(X <= 2) =  67.7\n"
     ]
    }
   ],
   "source": [
    "dist = stats.binom(n=20,p= 0.1)\n",
    "print('P(X <= 2) = ', round(dist.cdf(2)*100,1))"
   ]
  },
  {
   "cell_type": "markdown",
   "metadata": {},
   "source": [
    "4. Patrons arrive at a local bar at a rate of 30 per hour. What is the probability that the bouncer can take a three minute bathroom break without missing the next patron?"
   ]
  },
  {
   "cell_type": "markdown",
   "metadata": {},
   "source": [
    "This case follows a Poisson distirbution with lambda = 1/2 shot per minute. Therefore we need to determine when X = 3."
   ]
  },
  {
   "cell_type": "code",
   "execution_count": 8,
   "metadata": {},
   "outputs": [
    {
     "name": "stdout",
     "output_type": "stream",
     "text": [
      "P(X = 3) =  1.3\n"
     ]
    }
   ],
   "source": [
    "print('P(X = 3) = ',round(stats.poisson.pmf(3,0.5)*100,1))"
   ]
  },
  {
   "cell_type": "markdown",
   "metadata": {},
   "source": [
    "5. You need to find a tall person, at least 6 feet tall, to help you reach a cookie jar. 8% of the population is 6 feet or taller, and people pass by on average twice per minute. If you wait on the sidewalk, what is the probability that you will have to wait longer than ten minutes to get some cookies?\n",
    "\n",
    " "
   ]
  },
  {
   "cell_type": "markdown",
   "metadata": {},
   "source": [
    "This problem also follows an exponential distribution. We need adjust the rate (lambda) first so it makes sense for this problem. So we find 2 persons >= 6 ft tall every 25 people.\n",
    "\n",
    "Now, we know that a person passes at a rate of 2 person every minute. Adjusting this to the probability of getting a tall person we get 0.16 persons every minute. Then we compute 1 - P(X = 1), so the result is the probability of waiting 11 or more minutes.\n",
    "\n",
    "For this case exponential distribution takes theta as a parameter, this is 1/rate or 1/lambda."
   ]
  },
  {
   "cell_type": "code",
   "execution_count": 68,
   "metadata": {},
   "outputs": [
    {
     "name": "stdout",
     "output_type": "stream",
     "text": [
      "P(X >= 10) =  97.2\n"
     ]
    }
   ],
   "source": [
    "dist = stats.expon(0,1/0.16)\n",
    "print('P(X >= 10) = ', round((1-dist.pdf(11))*100,1))"
   ]
  },
  {
   "cell_type": "markdown",
   "metadata": {},
   "source": [
    "6. A harried passenger will be several minutes late for a scheduled 10 A.M. flight to NYC. Nevertheless, he might still make the flight, since boarding is always allowed until 10:10 A.M., and boarding is sometimes permitted up to 10:30 AM.\n",
    "\n",
    "Assuming the end time of the boarding interval is uniformly distributed over the above limits, find the probability that the passenger will make his flight, assuming he arrives at the boarding gate at 10:25."
   ]
  },
  {
   "cell_type": "markdown",
   "metadata": {},
   "source": [
    "In this case we know we have a uniform distribution of the event. So in this case we have a range of 20 minutes from the schedule time to the permitted time. Then we'll calculate the probability when X = 15."
   ]
  },
  {
   "cell_type": "code",
   "execution_count": 38,
   "metadata": {},
   "outputs": [
    {
     "name": "stdout",
     "output_type": "stream",
     "text": [
      "P(X = 15) =  5.0\n"
     ]
    }
   ],
   "source": [
    "dist = stats.uniform(0,20)\n",
    "print('P(X = 15) = ',round(dist.pdf(15)*100,1))"
   ]
  },
  {
   "cell_type": "markdown",
   "metadata": {},
   "source": [
    "7. Your cat starts to beg for dinner at 3:30 every day, and you suspect that it meows at a fixed rate. You've observed that about one fifth of the time your cat will not meow until 3:40, giving you 10 unexpected minutes of quiet. What is the probability your cat leaves you alone for 30 minutes?"
   ]
  },
  {
   "cell_type": "markdown",
   "metadata": {},
   "source": [
    "In this case the distribution is exponential. We know the probability that we have 10 spare minutes before the cat begs for food. With this information we can estimate the theta parameter of the distribution. So from the probability density function we solve for theta. And then use this value to determine the probability when X = 3."
   ]
  },
  {
   "cell_type": "code",
   "execution_count": 74,
   "metadata": {},
   "outputs": [
    {
     "data": {
      "image/png": "[encoded data removed]",
      "text/plain": [
       "<Figure size 432x288 with 1 Axes>"
      ]
     },
     "metadata": {
      "needs_background": "light"
     },
     "output_type": "display_data"
    }
   ],
   "source": [
    "for i in range(40):\n",
    "    result = np.log((i/5)**(i))\n",
    "    plt.scatter(i, result)\n",
    "    \n",
    "plt.hlines(-1,0,10)\n",
    "plt.ylim(-2,1);\n",
    "    "
   ]
  },
  {
   "cell_type": "markdown",
   "metadata": {},
   "source": [
    "From the graph above theta is close to 4."
   ]
  },
  {
   "cell_type": "code",
   "execution_count": 73,
   "metadata": {},
   "outputs": [
    {
     "name": "stdout",
     "output_type": "stream",
     "text": [
      "P(X=3) =  9.2\n"
     ]
    }
   ],
   "source": [
    "dist = stats.expon(0,4)\n",
    "print('P(X=3) = ',round(dist.pdf(4)*100,1))"
   ]
  },
  {
   "cell_type": "markdown",
   "metadata": {},
   "source": [
    "8. Somehow you ended up with two types of forks. There are the good forks, which are big and fit a healthy bite, but there are also these small, thin ones that you don't really understand what they are for, you should probably just get rid of them. You need two forks for you and your partner, and grab a fistful of 5. If there are 14 forks in the drawer, of which half are the good kind, what is the probability you have at least your two required good forks?"
   ]
  },
  {
   "cell_type": "markdown",
   "metadata": {},
   "source": [
    "This problem relates to a binomial distribition where it's necessary to determine the probability of choosing k items out of n items."
   ]
  },
  {
   "cell_type": "code",
   "execution_count": 72,
   "metadata": {},
   "outputs": [
    {
     "name": "stdout",
     "output_type": "stream",
     "text": [
      "P(X = 2) =  31.2\n"
     ]
    }
   ],
   "source": [
    "dist = stats.binom(5,0.5)\n",
    "print('P(X = 2) = ',round(dist.pmf(2)*100,1))"
   ]
  },
  {
   "cell_type": "markdown",
   "metadata": {},
   "source": [
    "## Part 2"
   ]
  },
  {
   "cell_type": "code",
   "execution_count": 178,
   "metadata": {},
   "outputs": [],
   "source": [
    "\n",
    "def prof_sample():\n",
    "    \n",
    "    nview_dist = stats.uniform(5000,1000)\n",
    "    con_dist = stats.binom(nview_dist.rvs(1),0.12)\n",
    "    wholesale_dist = stats.binom(con_dist.rvs(1),0.2)\n",
    "    nonwhole_dist = stats.binom(con_dist.rvs(1),0.8)\n",
    "    \n",
    "    profit = con_dist.rvs(1)*(wholesale_dist.rvs(1)/con_dist.rvs(1)*50 + nonwhole_dist.rvs(1)/con_dist.rvs(1)*60)\n",
    "    \n",
    "    return profit\n"
   ]
  },
  {
   "cell_type": "code",
   "execution_count": 196,
   "metadata": {},
   "outputs": [],
   "source": [
    "result = np.empty([10000,1])\n",
    "\n",
    "for i in range(10000):\n",
    "    \n",
    "    result[i,0] = prof_sample()[0]"
   ]
  },
  {
   "cell_type": "code",
   "execution_count": 224,
   "metadata": {},
   "outputs": [
    {
     "data": {
      "image/png": "[encoded data removed]",
      "text/plain": [
       "<Figure size 432x288 with 1 Axes>"
      ]
     },
     "metadata": {
      "needs_background": "light"
     },
     "output_type": "display_data"
    }
   ],
   "source": [
    "plt.hist(result, bins=50, edgecolor='red', density = True);"
   ]
  },
  {
   "cell_type": "code",
   "execution_count": 233,
   "metadata": {},
   "outputs": [
    {
     "data": {
      "text/plain": [
       "array([32253.60529433, 44414.34489924])"
      ]
     },
     "execution_count": 233,
     "metadata": {},
     "output_type": "execute_result"
    }
   ],
   "source": [
    "np.mean(result)\n",
    "midd_95 = np.array([np.mean(result)-2*np.std(result),np.mean(result)+2*np.std(result)])\n",
    "midd_95"
   ]
  },
  {
   "cell_type": "code",
   "execution_count": 61,
   "metadata": {},
   "outputs": [
    {
     "data": {
      "text/plain": [
       "7.5"
      ]
     },
     "execution_count": 61,
     "metadata": {},
     "output_type": "execute_result"
    }
   ],
   "source": [
    "np.array(range(16))*1/16\n",
    "np.sum(np.array(range(16))*1/16)"
   ]
  },
  {
   "cell_type": "code",
   "execution_count": 77,
   "metadata": {},
   "outputs": [
    {
     "data": {
      "text/plain": [
       "0.03146523851127825"
      ]
     },
     "execution_count": 77,
     "metadata": {},
     "output_type": "execute_result"
    }
   ],
   "source": [
    "dist = stats.binom(1000,0.005)\n",
    "1-dist.cdf(9)"
   ]
  },
  {
   "cell_type": "code",
   "execution_count": 85,
   "metadata": {},
   "outputs": [],
   "source": [
    "unif_data =  np.array([ 12.74150234,   7.48813381,  11.7510409 ,   5.93809414,\n",
    "                         4.68964288,   3.70627976,   3.46101127,   6.41408594,\n",
    "                        10.21747766,   8.71674398,   3.60720254,   9.65162582,\n",
    "                         6.58295132,   7.31954815,   7.49708025,   5.66849976,\n",
    "                         6.35144344,  12.08445868,   7.80220492,   9.83051264,\n",
    "                        12.19963228,   3.59743489,  11.4528373 ,   5.77606004,\n",
    "                        10.68932553,  10.41001181,  12.31509935,  12.31377402,\n",
    "                         9.99084698,   5.64170829,   4.8600061 ,   3.83064209,\n",
    "                         5.80984023,  11.87182268,   8.62335338,   5.27884731,\n",
    "                        12.12025134,   4.35138826,   4.26284551,   6.70120651,\n",
    "                        12.91554048,  10.58164179,  10.33635382,   9.18362962,\n",
    "                         7.06904495,  10.03298992,   5.95876344,   6.05199525,\n",
    "                        10.08473599,   9.1744051 ])"
   ]
  },
  {
   "cell_type": "code",
   "execution_count": 95,
   "metadata": {},
   "outputs": [
    {
     "name": "stdout",
     "output_type": "stream",
     "text": [
      "Log-Lik of Two Parameter Normal Model With mu=10, sigma_sq=1.0: -25.92\n",
      "Log-Lik of Two Parameter Normal Model With mu=10, sigma_sq=1.1: -24.88\n",
      "Log-Lik of Two Parameter Normal Model With mu=10, sigma_sq=1.2: -24.04\n",
      "Log-Lik of Two Parameter Normal Model With mu=11, sigma_sq=1.0: -14.96\n",
      "Log-Lik of Two Parameter Normal Model With mu=11, sigma_sq=1.1: -14.91\n",
      "Log-Lik of Two Parameter Normal Model With mu=11, sigma_sq=1.2: -14.91\n",
      "Log-Lik of Two Parameter Normal Model With mu=12, sigma_sq=1.0: -13.99\n",
      "Log-Lik of Two Parameter Normal Model With mu=12, sigma_sq=1.1: -14.03\n",
      "Log-Lik of Two Parameter Normal Model With mu=12, sigma_sq=1.2: -14.10\n"
     ]
    }
   ],
   "source": [
    "from scipy.stats import norm\n",
    "from itertools import product\n",
    "\n",
    "def log_likelihood_normal_two_parameters(mu, sigma_sq, data_in):\n",
    "    \"\"\"\n",
    "    Consume the parameters mu (mean) and sigma_sq (variance) of a normal\n",
    "    distribution, and compute the likelihood of a fixed dataset (data_in).\n",
    "    \"\"\"\n",
    "    normal = norm(mu, np.sqrt(sigma_sq))\n",
    "    likelihoods = [normal.pdf(datum) for datum in data_in]\n",
    "    return np.sum(np.log(likelihoods))\n",
    "\n",
    "data = np.array([ 12.1085187 ,  12.10867427,  11.21137858,  10.01311363,\n",
    "                  10.79744224,  13.19280269,  12.44086123,  11.88810057,\n",
    "                  10.70064104,  11.50382741])\n",
    "\n",
    "\n",
    "\n",
    "for mu,sigma_sq in product([10, 11, 12], [1.0, 1.1, 1.2]):\n",
    "    print(\"Log-Lik of Two Parameter Normal Model With mu={0}, sigma_sq={1}: {2:3.2f}\".format(\n",
    "        mu, sigma_sq, log_likelihood_normal_two_parameters(mu, sigma_sq, data)))"
   ]
  },
  {
   "cell_type": "code",
   "execution_count": 103,
   "metadata": {},
   "outputs": [
    {
     "data": {
      "text/plain": [
       "42350.30646276935"
      ]
     },
     "execution_count": 103,
     "metadata": {},
     "output_type": "execute_result"
    }
   ],
   "source": [
    "p=56330/226977\n",
    "56330*(1-p)"
   ]
  },
  {
   "cell_type": "code",
   "execution_count": 104,
   "metadata": {},
   "outputs": [
    {
     "data": {
      "text/plain": [
       "0.0011290441110788788"
      ]
     },
     "execution_count": 104,
     "metadata": {},
     "output_type": "execute_result"
    }
   ],
   "source": [
    "dist = stats.binom(108879,p)\n",
    "dist.pmf(27213)"
   ]
  },
  {
   "cell_type": "code",
   "execution_count": 105,
   "metadata": {},
   "outputs": [
    {
     "data": {
      "text/plain": [
       "0.9114657587436571"
      ]
     },
     "execution_count": 105,
     "metadata": {},
     "output_type": "execute_result"
    }
   ],
   "source": [
    "dist.cdf(27213)"
   ]
  },
  {
   "cell_type": "code",
   "execution_count": null,
   "metadata": {},
   "outputs": [],
   "source": []
  }
 ],
 "metadata": {
  "kernelspec": {
   "display_name": "Python 3",
   "language": "python",
   "name": "python3"
  },
  "language_info": {
   "codemirror_mode": {
    "name": "ipython",
    "version": 3
   },
   "file_extension": ".py",
   "mimetype": "text/x-python",
   "name": "python",
   "nbconvert_exporter": "python",
   "pygments_lexer": "ipython3",
   "version": "3.7.3"
  }
 },
 "nbformat": 4,
 "nbformat_minor": 2
}
