{
 "cells": [
  {
   "cell_type": "markdown",
   "metadata": {},
   "source": [
    "# Linela Algebra Assignment"
   ]
  },
  {
   "cell_type": "code",
   "execution_count": 275,
   "metadata": {},
   "outputs": [],
   "source": [
    "import numpy as np\n",
    "import pandas as pd\n",
    "import matplotlib.pyplot as plt\n",
    "from matplotlib.lines import Line2D\n"
   ]
  },
  {
   "cell_type": "markdown",
   "metadata": {},
   "source": [
    "## First Exercise"
   ]
  },
  {
   "cell_type": "code",
   "execution_count": 290,
   "metadata": {},
   "outputs": [
    {
     "data": {
      "text/plain": [
       "array([[0.7, 0.1, 0. ],\n",
       "       [0.2, 0.9, 0.2],\n",
       "       [0.1, 0. , 0.8]])"
      ]
     },
     "execution_count": 290,
     "metadata": {},
     "output_type": "execute_result"
    }
   ],
   "source": [
    "A = np.array([[0.7,0.1,0],[0.2,0.9,0.2],[0.1,0,0.8]])\n",
    "A"
   ]
  },
  {
   "cell_type": "code",
   "execution_count": 235,
   "metadata": {},
   "outputs": [
    {
     "data": {
      "text/plain": [
       "array([0.25, 0.2 , 0.55])"
      ]
     },
     "execution_count": 235,
     "metadata": {},
     "output_type": "execute_result"
    }
   ],
   "source": [
    "TO = np.array([.25,0.2,.55])\n",
    "TO"
   ]
  },
  {
   "cell_type": "code",
   "execution_count": 238,
   "metadata": {},
   "outputs": [
    {
     "data": {
      "text/plain": [
       "array([[0.175, 0.02 , 0.   ],\n",
       "       [0.05 , 0.18 , 0.11 ],\n",
       "       [0.025, 0.   , 0.44 ]])"
      ]
     },
     "execution_count": 238,
     "metadata": {},
     "output_type": "execute_result"
    }
   ],
   "source": [
    "A*TO"
   ]
  },
  {
   "cell_type": "code",
   "execution_count": 240,
   "metadata": {},
   "outputs": [
    {
     "data": {
      "text/plain": [
       "array([19.5, 34. , 46.5])"
      ]
     },
     "execution_count": 240,
     "metadata": {},
     "output_type": "execute_result"
    }
   ],
   "source": [
    "np.sum(A*TO, axis=1)*100"
   ]
  },
  {
   "cell_type": "markdown",
   "metadata": {},
   "source": [
    "### Assuming that all of the land started as residential"
   ]
  },
  {
   "cell_type": "code",
   "execution_count": 291,
   "metadata": {},
   "outputs": [
    {
     "data": {
      "text/plain": [
       "<matplotlib.legend.Legend at 0x1a1fdd0630>"
      ]
     },
     "execution_count": 291,
     "metadata": {},
     "output_type": "execute_result"
    },
    {
     "data": {
      "image/png": "[encoded data removed]",
      "text/plain": [
       "<Figure size 432x288 with 1 Axes>"
      ]
     },
     "metadata": {
      "needs_background": "light"
     },
     "output_type": "display_data"
    }
   ],
   "source": [
    "\n",
    "TO = np.array([0,0,1])\n",
    "\n",
    "\n",
    "# First 5 years\n",
    "new_TO = np.sum(A*TO, axis = 1)*100\n",
    "plt.scatter(x = 5, y = new_TO[0], marker = \"v\", c = \"blue\")\n",
    "plt.scatter(x = 5, y = new_TO[1], marker = \"*\", c = 'red')\n",
    "plt.scatter(x = 5, y = new_TO[2], marker = \".\", c = 'green')\n",
    "\n",
    "# Next 5\n",
    "\n",
    "new_TO = np.sum(A*new_TO, axis = 1)\n",
    "plt.scatter(x = 10, y = new_TO[0], marker = \"v\", c = \"blue\")\n",
    "plt.scatter(x = 10, y = new_TO[1], marker = \"*\", c = 'red')\n",
    "plt.scatter(x = 10, y = new_TO[2], marker = \".\", c = 'green')\n",
    "\n",
    "# Next 5\n",
    "\n",
    "new_TO = np.sum(A*new_TO, axis = 1)\n",
    "plt.scatter(x = 15, y = new_TO[0], marker = \"v\", c = \"blue\")\n",
    "plt.scatter(x = 15, y = new_TO[1], marker = \"*\", c = 'red')\n",
    "plt.scatter(x = 15, y = new_TO[2], marker = \".\", c = 'green')\n",
    "\n",
    "# Next 5\n",
    "\n",
    "new_TO = np.sum(A*new_TO, axis = 1)\n",
    "plt.scatter(x = 20, y = new_TO[0], marker = \"v\", c = \"blue\")\n",
    "plt.scatter(x = 20, y = new_TO[1], marker = \"*\", c = 'red')\n",
    "plt.scatter(x = 20, y = new_TO[2], marker = \".\", c = 'green')\n",
    "legend_elements = [Line2D([0],[0],marker = 'v', color = 'blue', label='Commercial'),\n",
    "                  Line2D([0],[0],marker = '*', color = 'red', label='Industrial'),\n",
    "                  Line2D([0],[0],marker='.',color='green',label='Residential')]\n",
    "plt.legend(handles=legend_elements)"
   ]
  },
  {
   "cell_type": "markdown",
   "metadata": {},
   "source": [
    "### Assuming land starts as commercial and industrial"
   ]
  },
  {
   "cell_type": "code",
   "execution_count": 295,
   "metadata": {},
   "outputs": [
    {
     "data": {
      "image/png": "[encoded data removed]",
      "text/plain": [
       "<Figure size 432x288 with 2 Axes>"
      ]
     },
     "metadata": {
      "needs_background": "light"
     },
     "output_type": "display_data"
    }
   ],
   "source": [
    "fig, ax = plt.subplots(1,2)\n",
    "\n",
    "TO_r = np.array([1,0,0])\n",
    "TO_i = np.array([0,1,0])\n",
    "\n",
    "for i, ax in enumerate(ax.flatten()):\n",
    "    \n",
    "    if i == 1:\n",
    "        # First 5 years\n",
    "        new_TO_r = np.sum(A*TO_r, axis = 1)*100\n",
    "        \n",
    "        plt.scatter(x = 5, y = new_TO_r[0], marker = \"v\", c = \"blue\")\n",
    "        plt.scatter(x = 5, y = new_TO_r[1], marker = \"*\", c = 'red')\n",
    "        plt.scatter(x = 5, y = new_TO_r[2], marker = \".\", c = 'green')\n",
    "\n",
    "        # Next 5\n",
    "\n",
    "        new_TO_r = np.sum(A*new_TO_r, axis = 1)\n",
    "        plt.scatter(x = 10, y = new_TO_r[0], marker = \"v\", c = \"blue\")\n",
    "        plt.scatter(x = 10, y = new_TO_r[1], marker = \"*\", c = 'red')\n",
    "        plt.scatter(x = 10, y = new_TO_r[2], marker = \".\", c = 'green')\n",
    "\n",
    "        # Next 5\n",
    "\n",
    "        new_TO_r = np.sum(A*new_TO_r, axis = 1)\n",
    "        plt.scatter(x = 15, y = new_TO_r[0], marker = \"v\", c = \"blue\")\n",
    "        plt.scatter(x = 15, y = new_TO_r[1], marker = \"*\", c = 'red')\n",
    "        plt.scatter(x = 15, y = new_TO_r[2], marker = \".\", c = 'green')\n",
    "\n",
    "        # Next 5\n",
    "\n",
    "        new_TO_r = np.sum(A*new_TO_r, axis = 1)\n",
    "        plt.scatter(x = 20, y = new_TO_r[0], marker = \"v\", c = \"blue\")\n",
    "        plt.scatter(x = 20, y = new_TO_r[1], marker = \"*\", c = 'red')\n",
    "        plt.scatter(x = 20, y = new_TO_r[2], marker = \".\", c = 'green')\n",
    "        legend_elements = [Line2D([0],[0],marker = 'v', color = 'blue', label='Commercial'),\n",
    "                  Line2D([0],[0],marker = '*', color = 'red', label='Industrial'),\n",
    "                  Line2D([0],[0],marker='.',color='green',label='Residential')]\n",
    "        plt.legend(handles=legend_elements)\n",
    "        \n",
    "    else:\n",
    "        \n",
    "        # First 5 years\n",
    "        new_TO_i = np.sum(A*TO_i, axis = 1)*100\n",
    "        ax.scatter(x = 5, y = new_TO_i[0], marker = \"v\", c = \"blue\")\n",
    "        ax.scatter(x = 5, y = new_TO_i[1], marker = \"*\", c = 'red')\n",
    "        ax.scatter(x = 5, y = new_TO_i[2], marker = \".\", c = 'green')\n",
    "        \n",
    "        # Next 5\n",
    "\n",
    "        new_TO_i = np.sum(A*new_TO_i, axis = 1)\n",
    "        ax.scatter(x = 10, y = new_TO_i[0], marker = \"v\", c = \"blue\")\n",
    "        ax.scatter(x = 10, y = new_TO_i[1], marker = \"*\", c = 'red')\n",
    "        ax.scatter(x = 10, y = new_TO_i[2], marker = \".\", c = 'green')\n",
    "\n",
    "        # Next 5\n",
    "\n",
    "        new_TO_i = np.sum(A*new_TO_i, axis = 1)\n",
    "        ax.scatter(x = 15, y = new_TO_i[0], marker = \"v\", c = \"blue\")\n",
    "        ax.scatter(x = 15, y = new_TO_i[1], marker = \"*\", c = 'red')\n",
    "        ax.scatter(x = 15, y = new_TO_i[2], marker = \".\", c = 'green')\n",
    "\n",
    "        # Next 5\n",
    "\n",
    "        new_TO_i = np.sum(A*new_TO_i, axis = 1)\n",
    "        ax.scatter(x = 20, y = new_TO_i[0], marker = \"v\", c = \"blue\")\n",
    "        ax.scatter(x = 20, y = new_TO_i[1], marker = \"*\", c = 'red')\n",
    "        ax.scatter(x = 20, y = new_TO_i[2], marker = \".\", c = 'green')\n",
    "        legend_elements = [Line2D([0],[0],marker = 'v', color = 'blue', label='Commercial'),\n",
    "                  Line2D([0],[0],marker = '*', color = 'red', label='Industrial'),\n",
    "                  Line2D([0],[0],marker='.',color='green',label='Residential')]\n",
    "        plt.legend(handles=legend_elements)\n",
    "        \n"
   ]
  },
  {
   "cell_type": "markdown",
   "metadata": {},
   "source": [
    "## Second Exercise"
   ]
  },
  {
   "cell_type": "code",
   "execution_count": 225,
   "metadata": {},
   "outputs": [
    {
     "data": {
      "text/plain": [
       "['sepal length (cm)',\n",
       " 'sepal width (cm)',\n",
       " 'petal length (cm)',\n",
       " 'petal width (cm)']"
      ]
     },
     "execution_count": 225,
     "metadata": {},
     "output_type": "execute_result"
    }
   ],
   "source": [
    "from sklearn import datasets\n",
    "iris = datasets.load_iris()\n",
    "iris.feature_names\n"
   ]
  },
  {
   "cell_type": "code",
   "execution_count": 32,
   "metadata": {},
   "outputs": [
    {
     "data": {
      "text/plain": [
       "Text(0.5, 1.0, \"Sepal's Width VS Length\")"
      ]
     },
     "execution_count": 32,
     "metadata": {},
     "output_type": "execute_result"
    },
    {
     "data": {
      "image/png": "[encoded data removed]",
      "text/plain": [
       "<Figure size 432x288 with 1 Axes>"
      ]
     },
     "metadata": {
      "needs_background": "light"
     },
     "output_type": "display_data"
    }
   ],
   "source": [
    "plt.scatter(x = iris.data[:,1], y = iris.data[:,0])\n",
    "plt.xlabel('Sepal Width')\n",
    "plt.ylabel('Sepal Length')\n",
    "plt.title(\"Sepal's Width VS Length\")\n"
   ]
  },
  {
   "cell_type": "code",
   "execution_count": 56,
   "metadata": {},
   "outputs": [
    {
     "data": {
      "text/plain": [
       "array([[5.84333333, 3.05733333, 3.758     , 1.19933333]])"
      ]
     },
     "execution_count": 56,
     "metadata": {},
     "output_type": "execute_result"
    }
   ],
   "source": [
    "means = np.empty([1,4])\n",
    "for i in range(len(iris.data[0,:])):\n",
    "    means[0,i] = np.mean(iris.data[:,i])\n",
    "\n",
    "means"
   ]
  },
  {
   "cell_type": "code",
   "execution_count": 69,
   "metadata": {},
   "outputs": [
    {
     "data": {
      "text/plain": [
       "<matplotlib.collections.PathCollection at 0x1a1bf9c908>"
      ]
     },
     "execution_count": 69,
     "metadata": {},
     "output_type": "execute_result"
    },
    {
     "data": {
      "image/png": "[encoded data removed]",
      "text/plain": [
       "<Figure size 432x288 with 1 Axes>"
      ]
     },
     "metadata": {
      "needs_background": "light"
     },
     "output_type": "display_data"
    }
   ],
   "source": [
    "plt.scatter(x = iris.data[:,1], y = iris.data[:,0])\n",
    "plt.xlabel('Sepal Width')\n",
    "plt.ylabel('Sepal Length')\n",
    "plt.title(\"Sepal's Width VS Length\")\n",
    "plt.scatter(x = means[0,1], y = means[0,0], marker =\"v\", s = 200)"
   ]
  },
  {
   "cell_type": "code",
   "execution_count": 129,
   "metadata": {},
   "outputs": [
    {
     "data": {
      "text/plain": [
       "2.8284271247461903"
      ]
     },
     "execution_count": 129,
     "metadata": {},
     "output_type": "execute_result"
    }
   ],
   "source": [
    "def euclidean_dist(x,y):\n",
    "    \n",
    "    if (x.shape[1] == 1) and (y.shape[1] == 1):\n",
    "        dist = np.linalg.norm(x-y)\n",
    "        return dist\n",
    "    \n",
    "    else:\n",
    "        print('The parameters are not column vectors')\n",
    "        \n",
    "   \n",
    "\n",
    "x = np.array([[1],[2]])\n",
    "y = np.array([[3],[4]])\n",
    "\n",
    "euclidean_dist(x,y)\n",
    "        "
   ]
  },
  {
   "cell_type": "code",
   "execution_count": 130,
   "metadata": {},
   "outputs": [
    {
     "data": {
      "text/plain": [
       "array([[0.98386991]])"
      ]
     },
     "execution_count": 130,
     "metadata": {},
     "output_type": "execute_result"
    }
   ],
   "source": [
    "def cosine_sim(x,y):\n",
    "    \n",
    "    if (x.shape[1] == 1) and (y.shape[1] == 1):\n",
    "        \n",
    "        result = ((x.transpose().dot(y)/(np.linalg.norm(x) * np.linalg.norm(y))))\n",
    "        return result\n",
    "    \n",
    "    else:\n",
    "        print('The parameters are not column vectors')\n",
    "        \n",
    "x = np.array([[1],[2]])\n",
    "y = np.array([[3],[4]])\n",
    "\n",
    "\n",
    "cosine_sim(x,y)\n",
    "\n",
    "\n",
    "    "
   ]
  },
  {
   "cell_type": "code",
   "execution_count": 301,
   "metadata": {},
   "outputs": [
    {
     "data": {
      "text/plain": [
       "(array([17., 26.,  7.,  8., 20., 27., 30.,  9.,  3.,  3.]),\n",
       " array([1.  , 1.41, 1.82, 2.23, 2.64, 3.05, 3.46, 3.87, 4.28, 4.69, 5.1 ]),\n",
       " <a list of 10 Patch objects>)"
      ]
     },
     "execution_count": 301,
     "metadata": {},
     "output_type": "execute_result"
    },
    {
     "data": {
      "image/png": "[encoded data removed]",
      "text/plain": [
       "<Figure size 432x288 with 1 Axes>"
      ]
     },
     "metadata": {
      "needs_background": "light"
     },
     "output_type": "display_data"
    }
   ],
   "source": [
    "def compute_dist(x, func):\n",
    "    \n",
    "    if func == euclidean_dist:\n",
    "        \n",
    "        count = 0\n",
    "        nrow = len(x[:,0])\n",
    "        ncol = 0\n",
    "        \n",
    "        for i in range(len(x[0,:])):\n",
    "            ncol = ncol + (len(x[0,:]) - i - 1)\n",
    "                       \n",
    "        result = np.empty([nrow, ncol])\n",
    "                       \n",
    "        for i in  range(len(x[0,:])):\n",
    "            for j in range(len(x[0,:])):\n",
    "                \n",
    "                if i < j:\n",
    "                    \n",
    "                    for m in range(nrow):\n",
    "                        \n",
    "                        n = x[m,i].reshape(1, 1)\n",
    "                        y = x[m,j].reshape(1, 1)\n",
    "                    \n",
    "                        result[m, count] = euclidean_dist(n,y)\n",
    "                    count += 1\n",
    "                        \n",
    "                else:\n",
    "                    \n",
    "                    pass\n",
    "\n",
    "        result = pd.DataFrame(result)\n",
    "        result.columns = ['Sepal Length - Width', 'Sepal Length - Petal Length',\n",
    "                      'Sepal Length - Petal Width','Sepal Width - Petal Length',\n",
    "                      'Sepal Width - Petal Width','Petal Length - Petal Width']\n",
    "        result['Sepal Length Mean'] = np.mean(x[:,0])\n",
    "        result['Sepal Width Mean'] = np.mean(x[:,1])\n",
    "        result['Petal Length Mean'] = np.mean(x[:,2])\n",
    "        result['Petal Width Mean'] = np.mean(x[:,3])\n",
    "        \n",
    "    else:\n",
    "        \n",
    "        count = 0\n",
    "        nrow = len(x[:,0])\n",
    "        ncol = 0\n",
    "        \n",
    "        for i in range(len(x[0,:])):\n",
    "            ncol = ncol + (len(x[0,:]) - i - 1)\n",
    "                       \n",
    "        result = np.empty([nrow, ncol])\n",
    "                       \n",
    "        for i in  range(len(x[0,:])):\n",
    "            for j in range(len(x[0,:])):\n",
    "                \n",
    "                if i < j:\n",
    "                    \n",
    "                    for m in range(nrow):\n",
    "                        \n",
    "                        n = x[m,i].reshape(1, 1)\n",
    "                        y = x[m,j].reshape(1, 1)\n",
    "                    \n",
    "                        result[m, count] = cosine_sim(n,y)\n",
    "                    count += 1\n",
    "                        \n",
    "                else:\n",
    "                    \n",
    "                    pass\n",
    "        \n",
    "        result = pd.DataFrame(result)\n",
    "    \n",
    "    return result\n",
    "\n",
    "euclidean_res = compute_dist(iris.data, euclidean_dist)\n",
    "#cosine_result = compute_dist(iris.data, cosine_sim)\n",
    "\n",
    "#cosine_result\n",
    "\n",
    "plt.hist(euclidean_res['Sepal Length - Width'])\n",
    "#euclidean_res"
   ]
  }
 ],
 "metadata": {
  "kernelspec": {
   "display_name": "Python 3",
   "language": "python",
   "name": "python3"
  },
  "language_info": {
   "codemirror_mode": {
    "name": "ipython",
    "version": 3
   },
   "file_extension": ".py",
   "mimetype": "text/x-python",
   "name": "python",
   "nbconvert_exporter": "python",
   "pygments_lexer": "ipython3",
   "version": "3.7.3"
  }
 },
 "nbformat": 4,
 "nbformat_minor": 2
}
