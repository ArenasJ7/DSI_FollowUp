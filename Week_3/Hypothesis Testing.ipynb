{
 "cells": [
  {
   "cell_type": "markdown",
   "metadata": {},
   "source": [
    "# Hypothesis Testing"
   ]
  },
  {
   "cell_type": "markdown",
   "metadata": {},
   "source": [
    "## Part 1. Analyzing Click Through Rate"
   ]
  },
  {
   "cell_type": "markdown",
   "metadata": {},
   "source": [
    "Load the data and take a brief analysis of its content."
   ]
  },
  {
   "cell_type": "code",
   "execution_count": 112,
   "metadata": {},
   "outputs": [
    {
     "data": {
      "text/html": [
       "<div>\n",
       "<style scoped>\n",
       "    .dataframe tbody tr th:only-of-type {\n",
       "        vertical-align: middle;\n",
       "    }\n",
       "\n",
       "    .dataframe tbody tr th {\n",
       "        vertical-align: top;\n",
       "    }\n",
       "\n",
       "    .dataframe thead th {\n",
       "        text-align: right;\n",
       "    }\n",
       "</style>\n",
       "<table border=\"1\" class=\"dataframe\">\n",
       "  <thead>\n",
       "    <tr style=\"text-align: right;\">\n",
       "      <th></th>\n",
       "      <th>Age</th>\n",
       "      <th>Gender</th>\n",
       "      <th>Impressions</th>\n",
       "      <th>Clicks</th>\n",
       "      <th>Signed_In</th>\n",
       "    </tr>\n",
       "  </thead>\n",
       "  <tbody>\n",
       "    <tr>\n",
       "      <th>0</th>\n",
       "      <td>36</td>\n",
       "      <td>0</td>\n",
       "      <td>3</td>\n",
       "      <td>0</td>\n",
       "      <td>1</td>\n",
       "    </tr>\n",
       "    <tr>\n",
       "      <th>1</th>\n",
       "      <td>73</td>\n",
       "      <td>1</td>\n",
       "      <td>3</td>\n",
       "      <td>0</td>\n",
       "      <td>1</td>\n",
       "    </tr>\n",
       "    <tr>\n",
       "      <th>2</th>\n",
       "      <td>30</td>\n",
       "      <td>0</td>\n",
       "      <td>3</td>\n",
       "      <td>0</td>\n",
       "      <td>1</td>\n",
       "    </tr>\n",
       "    <tr>\n",
       "      <th>3</th>\n",
       "      <td>49</td>\n",
       "      <td>1</td>\n",
       "      <td>3</td>\n",
       "      <td>0</td>\n",
       "      <td>1</td>\n",
       "    </tr>\n",
       "    <tr>\n",
       "      <th>4</th>\n",
       "      <td>47</td>\n",
       "      <td>1</td>\n",
       "      <td>11</td>\n",
       "      <td>0</td>\n",
       "      <td>1</td>\n",
       "    </tr>\n",
       "  </tbody>\n",
       "</table>\n",
       "</div>"
      ],
      "text/plain": [
       "   Age  Gender  Impressions  Clicks  Signed_In\n",
       "0   36       0            3       0          1\n",
       "1   73       1            3       0          1\n",
       "2   30       0            3       0          1\n",
       "3   49       1            3       0          1\n",
       "4   47       1           11       0          1"
      ]
     },
     "execution_count": 112,
     "metadata": {},
     "output_type": "execute_result"
    }
   ],
   "source": [
    "import pandas as pd\n",
    "import numpy as np\n",
    "import matplotlib.pyplot as plt\n",
    "from scipy import stats\n",
    "\n",
    "df_ctr = pd.read_csv('nyt1.csv')\n",
    "\n",
    "df_ctr.head(5)"
   ]
  },
  {
   "cell_type": "code",
   "execution_count": 113,
   "metadata": {},
   "outputs": [
    {
     "name": "stdout",
     "output_type": "stream",
     "text": [
      "<class 'pandas.core.frame.DataFrame'>\n",
      "RangeIndex: 458441 entries, 0 to 458440\n",
      "Data columns (total 5 columns):\n",
      "Age            458441 non-null int64\n",
      "Gender         458441 non-null int64\n",
      "Impressions    458441 non-null int64\n",
      "Clicks         458441 non-null int64\n",
      "Signed_In      458441 non-null int64\n",
      "dtypes: int64(5)\n",
      "memory usage: 17.5 MB\n"
     ]
    }
   ],
   "source": [
    "df_ctr.info()"
   ]
  },
  {
   "cell_type": "code",
   "execution_count": 114,
   "metadata": {},
   "outputs": [
    {
     "name": "stdout",
     "output_type": "stream",
     "text": [
      "Are NA values on our new columns (CTR)?  True\n",
      "[ 3 11  7  5  4  8  6  2  9  1 10  0 14 12 13 18 15 16 17 20]\n"
     ]
    }
   ],
   "source": [
    "df_ctr['CTR'] = df_ctr['Clicks'] / df_ctr['Impressions']\n",
    "\n",
    "print('Are NA values on our new columns (CTR)? ',df_ctr['CTR'].isna().any())\n",
    "print(df_ctr['Impressions'].unique())"
   ]
  },
  {
   "cell_type": "markdown",
   "metadata": {},
   "source": [
    "So we have some na values due 0 values of impressions. Rows with NA values will be dropped from the dataframe since it doesn't give us relavant information. We can't infer something where there are no impressions."
   ]
  },
  {
   "cell_type": "code",
   "execution_count": 115,
   "metadata": {},
   "outputs": [
    {
     "name": "stdout",
     "output_type": "stream",
     "text": [
      "0.0\n",
      "0\n"
     ]
    }
   ],
   "source": [
    "df_ctr_1 = df_ctr[df_ctr['Impressions'] == 0]\n",
    "\n",
    "print(df_ctr_1['Impressions'].mean())\n",
    "print(df_ctr_1['Clicks'].sum())"
   ]
  },
  {
   "cell_type": "code",
   "execution_count": 116,
   "metadata": {},
   "outputs": [
    {
     "name": "stdout",
     "output_type": "stream",
     "text": [
      "<class 'pandas.core.frame.DataFrame'>\n",
      "Int64Index: 455375 entries, 0 to 458440\n",
      "Data columns (total 6 columns):\n",
      "Age            455375 non-null int64\n",
      "Gender         455375 non-null int64\n",
      "Impressions    455375 non-null int64\n",
      "Clicks         455375 non-null int64\n",
      "Signed_In      455375 non-null int64\n",
      "CTR            455375 non-null float64\n",
      "dtypes: float64(1), int64(5)\n",
      "memory usage: 24.3 MB\n"
     ]
    }
   ],
   "source": [
    "df_ctr.dropna(inplace = True)\n",
    "\n",
    "df_ctr.info()"
   ]
  },
  {
   "cell_type": "code",
   "execution_count": 117,
   "metadata": {},
   "outputs": [
    {
     "data": {
      "image/png": "[encoded data removed]",
      "text/plain": [
       "<Figure size 1152x864 with 6 Axes>"
      ]
     },
     "metadata": {
      "needs_background": "light"
     },
     "output_type": "display_data"
    }
   ],
   "source": [
    "fig, ax = plt.subplots(3,2, figsize=(16,12))\n",
    "\n",
    "for col, ax in zip(df_ctr.columns, ax.flatten()):\n",
    "    \n",
    "    ax.hist(df_ctr[col], bins= 50)\n",
    "    ax.set_title('Histogram of '+ df_ctr[col].name)"
   ]
  },
  {
   "cell_type": "code",
   "execution_count": 118,
   "metadata": {},
   "outputs": [
    {
     "data": {
      "image/png": "[encoded data removed]",
      "text/plain": [
       "<Figure size 1440x2160 with 12 Axes>"
      ]
     },
     "metadata": {
      "needs_background": "light"
     },
     "output_type": "display_data"
    }
   ],
   "source": [
    "df_ctr_in = df_ctr[df_ctr['Signed_In']==1]\n",
    "df_ctr_out = df_ctr[df_ctr['Signed_In']==0]\n",
    "\n",
    "fig, ax = plt.subplots(6,2, figsize=(20,30))\n",
    "\n",
    "col_names = np.repeat(df_ctr.columns,2)    \n",
    "\n",
    "count = 0\n",
    "\n",
    "for col, ax in zip(col_names,ax.flatten()):\n",
    "    \n",
    "    if count % 2 == 0:\n",
    "        ax.hist(df_ctr_in[col], bins= 50)\n",
    "        ax.set_title('Histogram of '+ col)\n",
    "    \n",
    "    else:\n",
    "        \n",
    "        ax.hist(df_ctr_out[col], bins= 50)\n",
    "        ax.set_title('Histogram of '+ col)\n",
    "    \n",
    "    count += 1\n",
    "\n"
   ]
  },
  {
   "cell_type": "code",
   "execution_count": 172,
   "metadata": {},
   "outputs": [
    {
     "name": "stdout",
     "output_type": "stream",
     "text": [
      "P value =  0.0\n"
     ]
    }
   ],
   "source": [
    "res = stats.ttest_ind(df_ctr_in['CTR'], df_ctr_out['CTR'], equal_var=False)[1]\n",
    "print('P value = ', round(res,10))"
   ]
  },
  {
   "cell_type": "code",
   "execution_count": 164,
   "metadata": {},
   "outputs": [
    {
     "name": "stdout",
     "output_type": "stream",
     "text": [
      "P Value =  0.001\n"
     ]
    }
   ],
   "source": [
    "df_ctr_male = df_ctr_in[df_ctr_in['Gender'] == 1]\n",
    "df_ctr_female = df_ctr_in[df_ctr_in['Gender'] == 0]\n",
    "\n",
    "res = stats.ttest_ind(df_ctr_male['CTR'], df_ctr_female['CTR'], equal_var=False)[1]\n",
    "\n",
    "print('P Value = ', round(res,4))"
   ]
  },
  {
   "cell_type": "code",
   "execution_count": 127,
   "metadata": {},
   "outputs": [
    {
     "data": {
      "text/html": [
       "<div>\n",
       "<style scoped>\n",
       "    .dataframe tbody tr th:only-of-type {\n",
       "        vertical-align: middle;\n",
       "    }\n",
       "\n",
       "    .dataframe tbody tr th {\n",
       "        vertical-align: top;\n",
       "    }\n",
       "\n",
       "    .dataframe thead th {\n",
       "        text-align: right;\n",
       "    }\n",
       "</style>\n",
       "<table border=\"1\" class=\"dataframe\">\n",
       "  <thead>\n",
       "    <tr style=\"text-align: right;\">\n",
       "      <th></th>\n",
       "      <th>Age</th>\n",
       "      <th>Gender</th>\n",
       "      <th>Impressions</th>\n",
       "      <th>Clicks</th>\n",
       "      <th>Signed_In</th>\n",
       "      <th>CTR</th>\n",
       "      <th>Age_Group</th>\n",
       "    </tr>\n",
       "  </thead>\n",
       "  <tbody>\n",
       "    <tr>\n",
       "      <th>0</th>\n",
       "      <td>36</td>\n",
       "      <td>0</td>\n",
       "      <td>3</td>\n",
       "      <td>0</td>\n",
       "      <td>1</td>\n",
       "      <td>0.0</td>\n",
       "      <td>(34, 44]</td>\n",
       "    </tr>\n",
       "    <tr>\n",
       "      <th>1</th>\n",
       "      <td>73</td>\n",
       "      <td>1</td>\n",
       "      <td>3</td>\n",
       "      <td>0</td>\n",
       "      <td>1</td>\n",
       "      <td>0.0</td>\n",
       "      <td>(64, 1000]</td>\n",
       "    </tr>\n",
       "    <tr>\n",
       "      <th>2</th>\n",
       "      <td>30</td>\n",
       "      <td>0</td>\n",
       "      <td>3</td>\n",
       "      <td>0</td>\n",
       "      <td>1</td>\n",
       "      <td>0.0</td>\n",
       "      <td>(24, 34]</td>\n",
       "    </tr>\n",
       "    <tr>\n",
       "      <th>3</th>\n",
       "      <td>49</td>\n",
       "      <td>1</td>\n",
       "      <td>3</td>\n",
       "      <td>0</td>\n",
       "      <td>1</td>\n",
       "      <td>0.0</td>\n",
       "      <td>(44, 54]</td>\n",
       "    </tr>\n",
       "    <tr>\n",
       "      <th>4</th>\n",
       "      <td>47</td>\n",
       "      <td>1</td>\n",
       "      <td>11</td>\n",
       "      <td>0</td>\n",
       "      <td>1</td>\n",
       "      <td>0.0</td>\n",
       "      <td>(44, 54]</td>\n",
       "    </tr>\n",
       "  </tbody>\n",
       "</table>\n",
       "</div>"
      ],
      "text/plain": [
       "   Age  Gender  Impressions  Clicks  Signed_In  CTR   Age_Group\n",
       "0   36       0            3       0          1  0.0    (34, 44]\n",
       "1   73       1            3       0          1  0.0  (64, 1000]\n",
       "2   30       0            3       0          1  0.0    (24, 34]\n",
       "3   49       1            3       0          1  0.0    (44, 54]\n",
       "4   47       1           11       0          1  0.0    (44, 54]"
      ]
     },
     "execution_count": 127,
     "metadata": {},
     "output_type": "execute_result"
    }
   ],
   "source": [
    "bins = pd.IntervalIndex.from_tuples([(7,18),(18,24),(24,34),(34,44),(44,54),(54,64),(64,1000)])\n",
    "df_ctr['Age_Group'] = pd.cut(df_ctr['Age'],bins).values\n",
    "\n",
    "df_ctr_in = df_ctr[df_ctr['Signed_In'] == 1]\n",
    "\n",
    "df_ctr_in.head()\n",
    "\n",
    "\n"
   ]
  },
  {
   "cell_type": "code",
   "execution_count": 159,
   "metadata": {},
   "outputs": [],
   "source": [
    "results = pd.DataFrame(columns=['Age_Range','Mean_Diff','P_Value'])\n",
    "\n",
    "for i in range(len(bins)):\n",
    "    for j in range(len(bins)):\n",
    "        \n",
    "        test_data = df_ctr_in[df_ctr_in['Age_Group'] == bins[i]]\n",
    "        \n",
    "        if j > i:\n",
    "            \n",
    "            test2_data = df_ctr_in[df_ctr_in['Age_Group'] == bins[j]]\n",
    "            \n",
    "            result_dmean = test_data['CTR'].mean() - test2_data['CTR'].mean()\n",
    "            result_t_test = stats.ttest_ind(test_data['CTR'], test2_data['CTR'], equal_var = False)[1]\n",
    "            Age_Range_str = str(bins[i]) + ',' + str(bins[j])\n",
    "            \n",
    "            results = results.append({'Age_Range':Age_Range_str,'Mean_Diff':result_dmean,'P_Value':result_t_test}, ignore_index = True)\n",
    "            \n",
    "            \n",
    "\n",
    "result_sig = result[result['P_Value'] >= 0.05].sort_values('Mean_Diff')\n",
    "result_insig = result[result['P_Value'] <= 0.05].sort_values('Mean_Diff', ascending = True)"
   ]
  },
  {
   "cell_type": "code",
   "execution_count": 160,
   "metadata": {},
   "outputs": [
    {
     "data": {
      "text/html": [
       "<div>\n",
       "<style scoped>\n",
       "    .dataframe tbody tr th:only-of-type {\n",
       "        vertical-align: middle;\n",
       "    }\n",
       "\n",
       "    .dataframe tbody tr th {\n",
       "        vertical-align: top;\n",
       "    }\n",
       "\n",
       "    .dataframe thead th {\n",
       "        text-align: right;\n",
       "    }\n",
       "</style>\n",
       "<table border=\"1\" class=\"dataframe\">\n",
       "  <thead>\n",
       "    <tr style=\"text-align: right;\">\n",
       "      <th></th>\n",
       "      <th>Age_Range</th>\n",
       "      <th>Mean_Diff</th>\n",
       "      <th>P_Value</th>\n",
       "    </tr>\n",
       "  </thead>\n",
       "  <tbody>\n",
       "    <tr>\n",
       "      <th>7</th>\n",
       "      <td>(18, 24],(34, 44]</td>\n",
       "      <td>-0.000566</td>\n",
       "      <td>0.087470</td>\n",
       "    </tr>\n",
       "    <tr>\n",
       "      <th>6</th>\n",
       "      <td>(18, 24],(24, 34]</td>\n",
       "      <td>-0.000426</td>\n",
       "      <td>0.213658</td>\n",
       "    </tr>\n",
       "    <tr>\n",
       "      <th>8</th>\n",
       "      <td>(18, 24],(44, 54]</td>\n",
       "      <td>-0.000237</td>\n",
       "      <td>0.477902</td>\n",
       "    </tr>\n",
       "    <tr>\n",
       "      <th>11</th>\n",
       "      <td>(24, 34],(34, 44]</td>\n",
       "      <td>-0.000140</td>\n",
       "      <td>0.624662</td>\n",
       "    </tr>\n",
       "    <tr>\n",
       "      <th>12</th>\n",
       "      <td>(24, 34],(44, 54]</td>\n",
       "      <td>0.000189</td>\n",
       "      <td>0.514689</td>\n",
       "    </tr>\n",
       "    <tr>\n",
       "      <th>15</th>\n",
       "      <td>(34, 44],(44, 54]</td>\n",
       "      <td>0.000329</td>\n",
       "      <td>0.233928</td>\n",
       "    </tr>\n",
       "  </tbody>\n",
       "</table>\n",
       "</div>"
      ],
      "text/plain": [
       "            Age_Range  Mean_Diff   P_Value\n",
       "7   (18, 24],(34, 44]  -0.000566  0.087470\n",
       "6   (18, 24],(24, 34]  -0.000426  0.213658\n",
       "8   (18, 24],(44, 54]  -0.000237  0.477902\n",
       "11  (24, 34],(34, 44]  -0.000140  0.624662\n",
       "12  (24, 34],(44, 54]   0.000189  0.514689\n",
       "15  (34, 44],(44, 54]   0.000329  0.233928"
      ]
     },
     "execution_count": 160,
     "metadata": {},
     "output_type": "execute_result"
    }
   ],
   "source": [
    "result_sig"
   ]
  },
  {
   "cell_type": "markdown",
   "metadata": {},
   "source": [
    "From the previous table, it can be seen that the P values for the ranges (64, 1000], (54, 64] and (7, 18] are small. Therefore they don't appear in the table."
   ]
  },
  {
   "cell_type": "code",
   "execution_count": 161,
   "metadata": {},
   "outputs": [
    {
     "data": {
      "text/html": [
       "<div>\n",
       "<style scoped>\n",
       "    .dataframe tbody tr th:only-of-type {\n",
       "        vertical-align: middle;\n",
       "    }\n",
       "\n",
       "    .dataframe tbody tr th {\n",
       "        vertical-align: top;\n",
       "    }\n",
       "\n",
       "    .dataframe thead th {\n",
       "        text-align: right;\n",
       "    }\n",
       "</style>\n",
       "<table border=\"1\" class=\"dataframe\">\n",
       "  <thead>\n",
       "    <tr style=\"text-align: right;\">\n",
       "      <th></th>\n",
       "      <th>Age_Range</th>\n",
       "      <th>Mean_Diff</th>\n",
       "      <th>P_Value</th>\n",
       "    </tr>\n",
       "  </thead>\n",
       "  <tbody>\n",
       "    <tr>\n",
       "      <th>10</th>\n",
       "      <td>(18, 24],(64, 1000]</td>\n",
       "      <td>-0.020082</td>\n",
       "      <td>2.458627e-272</td>\n",
       "    </tr>\n",
       "    <tr>\n",
       "      <th>19</th>\n",
       "      <td>(44, 54],(64, 1000]</td>\n",
       "      <td>-0.019845</td>\n",
       "      <td>1.430923e-295</td>\n",
       "    </tr>\n",
       "    <tr>\n",
       "      <th>14</th>\n",
       "      <td>(24, 34],(64, 1000]</td>\n",
       "      <td>-0.019656</td>\n",
       "      <td>7.860398e-285</td>\n",
       "    </tr>\n",
       "    <tr>\n",
       "      <th>17</th>\n",
       "      <td>(34, 44],(64, 1000]</td>\n",
       "      <td>-0.019516</td>\n",
       "      <td>5.245541e-288</td>\n",
       "    </tr>\n",
       "    <tr>\n",
       "      <th>9</th>\n",
       "      <td>(18, 24],(54, 64]</td>\n",
       "      <td>-0.010586</td>\n",
       "      <td>1.007813e-130</td>\n",
       "    </tr>\n",
       "    <tr>\n",
       "      <th>18</th>\n",
       "      <td>(44, 54],(54, 64]</td>\n",
       "      <td>-0.010349</td>\n",
       "      <td>2.525271e-151</td>\n",
       "    </tr>\n",
       "    <tr>\n",
       "      <th>13</th>\n",
       "      <td>(24, 34],(54, 64]</td>\n",
       "      <td>-0.010160</td>\n",
       "      <td>5.668132e-141</td>\n",
       "    </tr>\n",
       "    <tr>\n",
       "      <th>16</th>\n",
       "      <td>(34, 44],(54, 64]</td>\n",
       "      <td>-0.010020</td>\n",
       "      <td>7.523228e-144</td>\n",
       "    </tr>\n",
       "    <tr>\n",
       "      <th>20</th>\n",
       "      <td>(54, 64],(64, 1000]</td>\n",
       "      <td>-0.009496</td>\n",
       "      <td>9.214903e-56</td>\n",
       "    </tr>\n",
       "    <tr>\n",
       "      <th>5</th>\n",
       "      <td>(7, 18],(64, 1000]</td>\n",
       "      <td>-0.003218</td>\n",
       "      <td>3.563408e-05</td>\n",
       "    </tr>\n",
       "    <tr>\n",
       "      <th>4</th>\n",
       "      <td>(7, 18],(54, 64]</td>\n",
       "      <td>0.006278</td>\n",
       "      <td>8.273993e-20</td>\n",
       "    </tr>\n",
       "    <tr>\n",
       "      <th>2</th>\n",
       "      <td>(7, 18],(34, 44]</td>\n",
       "      <td>0.016299</td>\n",
       "      <td>4.575147e-146</td>\n",
       "    </tr>\n",
       "    <tr>\n",
       "      <th>1</th>\n",
       "      <td>(7, 18],(24, 34]</td>\n",
       "      <td>0.016439</td>\n",
       "      <td>7.449266e-146</td>\n",
       "    </tr>\n",
       "    <tr>\n",
       "      <th>3</th>\n",
       "      <td>(7, 18],(44, 54]</td>\n",
       "      <td>0.016628</td>\n",
       "      <td>4.014382e-151</td>\n",
       "    </tr>\n",
       "    <tr>\n",
       "      <th>0</th>\n",
       "      <td>(7, 18],(18, 24]</td>\n",
       "      <td>0.016865</td>\n",
       "      <td>6.900980e-144</td>\n",
       "    </tr>\n",
       "  </tbody>\n",
       "</table>\n",
       "</div>"
      ],
      "text/plain": [
       "              Age_Range  Mean_Diff        P_Value\n",
       "10  (18, 24],(64, 1000]  -0.020082  2.458627e-272\n",
       "19  (44, 54],(64, 1000]  -0.019845  1.430923e-295\n",
       "14  (24, 34],(64, 1000]  -0.019656  7.860398e-285\n",
       "17  (34, 44],(64, 1000]  -0.019516  5.245541e-288\n",
       "9     (18, 24],(54, 64]  -0.010586  1.007813e-130\n",
       "18    (44, 54],(54, 64]  -0.010349  2.525271e-151\n",
       "13    (24, 34],(54, 64]  -0.010160  5.668132e-141\n",
       "16    (34, 44],(54, 64]  -0.010020  7.523228e-144\n",
       "20  (54, 64],(64, 1000]  -0.009496   9.214903e-56\n",
       "5    (7, 18],(64, 1000]  -0.003218   3.563408e-05\n",
       "4      (7, 18],(54, 64]   0.006278   8.273993e-20\n",
       "2      (7, 18],(34, 44]   0.016299  4.575147e-146\n",
       "1      (7, 18],(24, 34]   0.016439  7.449266e-146\n",
       "3      (7, 18],(44, 54]   0.016628  4.014382e-151\n",
       "0      (7, 18],(18, 24]   0.016865  6.900980e-144"
      ]
     },
     "execution_count": 161,
     "metadata": {},
     "output_type": "execute_result"
    }
   ],
   "source": [
    "result_insig"
   ]
  },
  {
   "cell_type": "markdown",
   "metadata": {},
   "source": [
    "The groups with the lowest difference between means are : (7, 18], (54, 64] and (64, 1000]. This makes sense since this age ranges are not quite the target customers for an online platform."
   ]
  },
  {
   "cell_type": "markdown",
   "metadata": {},
   "source": [
    "How much do you trust the stories you just told youself. Imagine that you observed the exact opposite situation than you actually did. Could you come up with a story to justify that?"
   ]
  },
  {
   "cell_type": "markdown",
   "metadata": {},
   "source": [
    "I don't trust my story with a 100% confidence since I'm making assumptions. I would need more data from another sites to determine if this was actually true. Also, it'll be good to know the type of industry that it's related to the website, this would make the story more credible.\n",
    "\n",
    "If the data was reversed and now the groups (7, 18], (54, 64] and (64, 1000] were statiscally significant, then I would say that this site relates to children's toys. Then the age ranges could be related to actual children and also grandparents that are buying gifts."
   ]
  },
  {
   "cell_type": "markdown",
   "metadata": {},
   "source": [
    "# Part 2: A / B Testing Landing Pages"
   ]
  },
  {
   "cell_type": "markdown",
   "metadata": {},
   "source": [
    "1. Design an experiment in order to decide if the new page has a 1% lift in sign-up rate as compared to the old page? Describe in detail the data collection scheme you would use for the experiment. Justify why the data will be collected that way."
   ]
  },
  {
   "cell_type": "markdown",
   "metadata": {},
   "source": [
    "The experiment would consist of getting the CTR from the two landing pages. These two landing pages would be shown to the users randomly so the data it's IID. It's important that the reuslting dataset contains the day of the week, so it's possible to analyze the behavior of CTR during weekdays and weekends."
   ]
  },
  {
   "cell_type": "markdown",
   "metadata": {},
   "source": [
    "2. Why is it useful to report the change in conversion in terms of lift instead of absolute difference in conversion?"
   ]
  },
  {
   "cell_type": "markdown",
   "metadata": {},
   "source": [
    "Because the lift it's closely related to the difference of the two groups mean CTR. Therefore if the differences in means between the two groups is larger to 0.1% (while statiscally significant) we can be sure that this change will represent at least a 1% lift."
   ]
  },
  {
   "cell_type": "markdown",
   "metadata": {},
   "source": [
    "3. State your null hypothesis and alternative hypothesis. Is your alternative hypothesis set up for a one-tailed or two-tailed test? Explain your choice."
   ]
  },
  {
   "cell_type": "markdown",
   "metadata": {},
   "source": [
    "The test should be two tailed, since we want to see if the difference between the 2 landing pages is positive or negative. In other words, keeping one landing page fixed, we want to see if a second landing page gets more or less CTR on average."
   ]
  },
  {
   "cell_type": "markdown",
   "metadata": {},
   "source": [
    "4. You ran a pilot experiment according to Question 1 for ~1 day (Tuesday). The collected data is in data/experiment.csv. Import the data into a pandas dataframe. Check the data for duplicates and clean the data as appropriate."
   ]
  },
  {
   "cell_type": "code",
   "execution_count": 182,
   "metadata": {},
   "outputs": [
    {
     "name": "stdout",
     "output_type": "stream",
     "text": [
      "user_id :  False\n",
      "ts :  False\n",
      "ab :  False\n",
      "landing_page :  False\n",
      "converted :  False\n"
     ]
    }
   ],
   "source": [
    "data = pd.read_csv('experiment.csv')\n",
    "\n",
    "for col in data.columns:\n",
    "    \n",
    "    print(str(col), ': ', data[col].isna().any())\n"
   ]
  },
  {
   "cell_type": "code",
   "execution_count": 183,
   "metadata": {},
   "outputs": [
    {
     "name": "stdout",
     "output_type": "stream",
     "text": [
      "user_id :  [4040615247 4365389205 4256174578 ... 9388248387 7696871995 4138279348]\n",
      "ts :  [1.3569984e+09 1.3569984e+09 1.3569984e+09 ... 1.3570848e+09 1.3570848e+09\n",
      " 1.3570848e+09]\n",
      "ab :  ['treatment' 'control']\n",
      "landing_page :  ['new_page' 'old_page']\n",
      "converted :  [0 1]\n"
     ]
    }
   ],
   "source": [
    "for col in data.columns:\n",
    "    \n",
    "    print(str(col), ': ', data[col].unique())"
   ]
  },
  {
   "cell_type": "code",
   "execution_count": 193,
   "metadata": {},
   "outputs": [
    {
     "name": "stdout",
     "output_type": "stream",
     "text": [
      "191148\n",
      "186388\n"
     ]
    }
   ],
   "source": [
    "print(len(data['user_id']))\n",
    "print(len(data['user_id'].unique()))\n"
   ]
  },
  {
   "cell_type": "code",
   "execution_count": 197,
   "metadata": {},
   "outputs": [
    {
     "data": {
      "text/html": [
       "<div>\n",
       "<style scoped>\n",
       "    .dataframe tbody tr th:only-of-type {\n",
       "        vertical-align: middle;\n",
       "    }\n",
       "\n",
       "    .dataframe tbody tr th {\n",
       "        vertical-align: top;\n",
       "    }\n",
       "\n",
       "    .dataframe thead th {\n",
       "        text-align: right;\n",
       "    }\n",
       "</style>\n",
       "<table border=\"1\" class=\"dataframe\">\n",
       "  <thead>\n",
       "    <tr style=\"text-align: right;\">\n",
       "      <th></th>\n",
       "      <th>user_id</th>\n",
       "      <th>ts</th>\n",
       "      <th>ab</th>\n",
       "      <th>landing_page</th>\n",
       "      <th>converted</th>\n",
       "    </tr>\n",
       "  </thead>\n",
       "  <tbody>\n",
       "    <tr>\n",
       "      <th>0</th>\n",
       "      <td>4040615247</td>\n",
       "      <td>1.356998e+09</td>\n",
       "      <td>treatment</td>\n",
       "      <td>new_page</td>\n",
       "      <td>0</td>\n",
       "    </tr>\n",
       "    <tr>\n",
       "      <th>1</th>\n",
       "      <td>4365389205</td>\n",
       "      <td>1.356998e+09</td>\n",
       "      <td>treatment</td>\n",
       "      <td>new_page</td>\n",
       "      <td>0</td>\n",
       "    </tr>\n",
       "    <tr>\n",
       "      <th>2</th>\n",
       "      <td>4256174578</td>\n",
       "      <td>1.356998e+09</td>\n",
       "      <td>treatment</td>\n",
       "      <td>new_page</td>\n",
       "      <td>0</td>\n",
       "    </tr>\n",
       "    <tr>\n",
       "      <th>3</th>\n",
       "      <td>8122359922</td>\n",
       "      <td>1.356998e+09</td>\n",
       "      <td>control</td>\n",
       "      <td>old_page</td>\n",
       "      <td>0</td>\n",
       "    </tr>\n",
       "    <tr>\n",
       "      <th>4</th>\n",
       "      <td>6077269891</td>\n",
       "      <td>1.356998e+09</td>\n",
       "      <td>control</td>\n",
       "      <td>old_page</td>\n",
       "      <td>0</td>\n",
       "    </tr>\n",
       "  </tbody>\n",
       "</table>\n",
       "</div>"
      ],
      "text/plain": [
       "      user_id            ts         ab landing_page  converted\n",
       "0  4040615247  1.356998e+09  treatment     new_page          0\n",
       "1  4365389205  1.356998e+09  treatment     new_page          0\n",
       "2  4256174578  1.356998e+09  treatment     new_page          0\n",
       "3  8122359922  1.356998e+09    control     old_page          0\n",
       "4  6077269891  1.356998e+09    control     old_page          0"
      ]
     },
     "execution_count": 197,
     "metadata": {},
     "output_type": "execute_result"
    }
   ],
   "source": [
    "np.sum(data.duplicated(subset='user_id'))\n",
    "data_clean = data[data.duplicated(subset='user_id') == False]\n",
    "\n",
    "data_clean.head()"
   ]
  },
  {
   "cell_type": "code",
   "execution_count": 255,
   "metadata": {},
   "outputs": [
    {
     "name": "stderr",
     "output_type": "stream",
     "text": [
      "/Library/anaconda3/lib/python3.7/site-packages/ipykernel_launcher.py:4: SettingWithCopyWarning: \n",
      "A value is trying to be set on a copy of a slice from a DataFrame.\n",
      "Try using .loc[row_indexer,col_indexer] = value instead\n",
      "\n",
      "See the caveats in the documentation: http://pandas.pydata.org/pandas-docs/stable/indexing.html#indexing-view-versus-copy\n",
      "  after removing the cwd from sys.path.\n",
      "/Library/anaconda3/lib/python3.7/site-packages/ipykernel_launcher.py:5: SettingWithCopyWarning: \n",
      "A value is trying to be set on a copy of a slice from a DataFrame.\n",
      "Try using .loc[row_indexer,col_indexer] = value instead\n",
      "\n",
      "See the caveats in the documentation: http://pandas.pydata.org/pandas-docs/stable/indexing.html#indexing-view-versus-copy\n",
      "  \"\"\"\n"
     ]
    },
    {
     "data": {
      "text/plain": [
       "1.0528235164106532"
      ]
     },
     "execution_count": 255,
     "metadata": {},
     "output_type": "execute_result"
    }
   ],
   "source": [
    "data_clean_new = data_clean[data_clean['landing_page'] == 'new_page']\n",
    "data_clean_old = data_clean[data_clean['landing_page'] == 'old_page']\n",
    "\n",
    "data_clean_old['CTR']  = data_clean_old['converted']/len(data_clean_old)\n",
    "data_clean_new['CTR']  = data_clean_new['converted']/len(data_clean_new)\n",
    "\n"
   ]
  },
  {
   "cell_type": "code",
   "execution_count": 264,
   "metadata": {},
   "outputs": [
    {
     "data": {
      "text/plain": [
       "(-0.6925144349016744, 0.7556928379774873, False)"
      ]
     },
     "execution_count": 264,
     "metadata": {},
     "output_type": "execute_result"
    }
   ],
   "source": [
    "from src.z_test import z_test\n",
    "\n",
    "z_test(data_clean_old['CTR'].sum(), data_clean_new['CTR'].sum(), len(data_clean_old), len(data_clean_new) ,effect_size = 0.001, alpha=0.05)\n"
   ]
  },
  {
   "cell_type": "markdown",
   "metadata": {},
   "source": [
    "The Z-test assumes that the data is normally distributed and that the variance is known.\n",
    "\n",
    "The P value for this test is 0.75 therefore greater than 0.05. This means that we should accept the null hypothesis that the mean CTR of the two pages is 0. Therefore it's not recommended to use the new landing page."
   ]
  },
  {
   "cell_type": "markdown",
   "metadata": {},
   "source": [
    "7. Why might it be a problem if you keep evaluating the p-value as more data comes in and stop when the p-value is significant?\n",
    "\n",
    "I'll next to be sure that the data is actually normally distributed and that the variance is actually known for both datasets."
   ]
  },
  {
   "cell_type": "code",
   "execution_count": null,
   "metadata": {},
   "outputs": [],
   "source": []
  }
 ],
 "metadata": {
  "kernelspec": {
   "display_name": "Python 3",
   "language": "python",
   "name": "python3"
  },
  "language_info": {
   "codemirror_mode": {
    "name": "ipython",
    "version": 3
   },
   "file_extension": ".py",
   "mimetype": "text/x-python",
   "name": "python",
   "nbconvert_exporter": "python",
   "pygments_lexer": "ipython3",
   "version": "3.7.3"
  }
 },
 "nbformat": 4,
 "nbformat_minor": 2
}
