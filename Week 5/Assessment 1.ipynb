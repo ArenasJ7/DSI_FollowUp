{
 "cells": [
  {
   "cell_type": "code",
   "execution_count": 5,
   "metadata": {},
   "outputs": [],
   "source": [
    "import matplotlib.pyplot as plt"
   ]
  },
  {
   "cell_type": "code",
   "execution_count": 231,
   "metadata": {},
   "outputs": [],
   "source": [
    "def roll_the_dice(n_simulations = 1000):\n",
    "    '''Two unbiased, six sided, dice are thrown one time and the sum of the\n",
    "    faces is observed (so if you rolled a 3 and a 1, the sum is 4). A\n",
    "    simulation estimates probability that the total score is an even number\n",
    "    or a number greater than 7.  This is an estimated probability, based on\n",
    "    rolling the two dice n_simulations times.\n",
    "\n",
    "    Parameters\n",
    "    ----------\n",
    "    n_simulations: float\n",
    "        Number of rolls of the dice\n",
    "\n",
    "    Returns\n",
    "    -------\n",
    "    float\n",
    "    '''\n",
    "    import numpy as np\n",
    "    from scipy import stats\n",
    "    \n",
    "    r = []\n",
    "    \n",
    "    for i in range(n_simulations):\n",
    "        \n",
    "        d_1 = np.random.randint(low = 1, high = 7)\n",
    "        d_2 = np.random.randint(low = 1,high = 7)\n",
    "        \n",
    "        n = d_1+d_2\n",
    "        r.append(n) \n",
    "        \n",
    "    dist = stats.norm(np.mean(r), np.std(r))\n",
    "    binom = stats.binom(n = n_simulations ,p = sum([1 if i%2 == 0 else 0for i in r])/len([1 if i%2 == 0 else 0for i in r]))\n",
    "    res = (1 - dist.cdf(8))\n",
    "    \n",
    "    return res, binom"
   ]
  },
  {
   "cell_type": "code",
   "execution_count": 232,
   "metadata": {},
   "outputs": [],
   "source": [
    "t, d = roll_the_dice()"
   ]
  },
  {
   "cell_type": "code",
   "execution_count": 233,
   "metadata": {},
   "outputs": [
    {
     "data": {
      "text/plain": [
       "0.33332837895020884"
      ]
     },
     "execution_count": 233,
     "metadata": {},
     "output_type": "execute_result"
    }
   ],
   "source": [
    "t"
   ]
  },
  {
   "cell_type": "code",
   "execution_count": 184,
   "metadata": {},
   "outputs": [],
   "source": [
    "import pandas as pd\n",
    "df = pd.read_csv('universities.csv')\n",
    "\n",
    "def pandas_query(df):\n",
    "    '''Returns a DataFrame containing the average size of each university\n",
    "    type ordered by average size in ascending order.\n",
    "\n",
    "    Function assumes the input DataFrame contains these columns:\n",
    "        name, address, Website, Type, Size\n",
    "\n",
    "    Parameters\n",
    "    ----------\n",
    "    df: Pandas DataFrame\n",
    "\n",
    "    Returns\n",
    "    -------\n",
    "    Pandas DataFrame\n",
    "    '''\n",
    "    \n",
    "    df_group = df.groupby('name')['Size'].mean().reset_index()\n",
    "    \n",
    "    df_final = df_group.sort_values(by = 'Size', ascending =  True).reset_index()\n",
    "    \n",
    "    \n",
    "    return df_group"
   ]
  },
  {
   "cell_type": "code",
   "execution_count": 44,
   "metadata": {},
   "outputs": [
    {
     "data": {
      "text/html": [
       "<div>\n",
       "<style scoped>\n",
       "    .dataframe tbody tr th:only-of-type {\n",
       "        vertical-align: middle;\n",
       "    }\n",
       "\n",
       "    .dataframe tbody tr th {\n",
       "        vertical-align: top;\n",
       "    }\n",
       "\n",
       "    .dataframe thead th {\n",
       "        text-align: right;\n",
       "    }\n",
       "</style>\n",
       "<table border=\"1\" class=\"dataframe\">\n",
       "  <thead>\n",
       "    <tr style=\"text-align: right;\">\n",
       "      <th></th>\n",
       "      <th>name</th>\n",
       "      <th>address</th>\n",
       "      <th>Website</th>\n",
       "      <th>Type</th>\n",
       "      <th>Size</th>\n",
       "    </tr>\n",
       "  </thead>\n",
       "  <tbody>\n",
       "    <tr>\n",
       "      <th>0</th>\n",
       "      <td>A T Still University of Health Sciences</td>\n",
       "      <td>800 W Jefferson, Kirksville, Missouri 63501</td>\n",
       "      <td>WWW.ATSU.EDU</td>\n",
       "      <td>4-year, Private not-for-profit</td>\n",
       "      <td>3480.0</td>\n",
       "    </tr>\n",
       "    <tr>\n",
       "      <th>1</th>\n",
       "      <td>Abilene Christian University</td>\n",
       "      <td>1600 Campus Court, Abilene, Texas 79699</td>\n",
       "      <td>www.acu.edu</td>\n",
       "      <td>4-year, Private not-for-profit</td>\n",
       "      <td>4669.0</td>\n",
       "    </tr>\n",
       "    <tr>\n",
       "      <th>2</th>\n",
       "      <td>Abraham Baldwin Agricultural College</td>\n",
       "      <td>2802 Moore Hwy, Tifton, Georgia 31793-2601</td>\n",
       "      <td>www.abac.edu</td>\n",
       "      <td>4-year, primarily associate's, Public</td>\n",
       "      <td>3600.0</td>\n",
       "    </tr>\n",
       "    <tr>\n",
       "      <th>3</th>\n",
       "      <td>Academy College</td>\n",
       "      <td>1101 E. 78th Street, Suite 100, Minneapolis, M...</td>\n",
       "      <td>www.academycollege.edu</td>\n",
       "      <td>4-year, primarily associate's, Private for-profit</td>\n",
       "      <td>165.0</td>\n",
       "    </tr>\n",
       "    <tr>\n",
       "      <th>4</th>\n",
       "      <td>Academy for Five Element Acupuncture</td>\n",
       "      <td>305 SE 2nd Ave, Gainesville, Florida 32601</td>\n",
       "      <td>www.acupuncturist.edu</td>\n",
       "      <td>4-year, Private not-for-profit</td>\n",
       "      <td>51.0</td>\n",
       "    </tr>\n",
       "  </tbody>\n",
       "</table>\n",
       "</div>"
      ],
      "text/plain": [
       "                                      name  \\\n",
       "0  A T Still University of Health Sciences   \n",
       "1             Abilene Christian University   \n",
       "2     Abraham Baldwin Agricultural College   \n",
       "3                          Academy College   \n",
       "4     Academy for Five Element Acupuncture   \n",
       "\n",
       "                                             address                 Website  \\\n",
       "0        800 W Jefferson, Kirksville, Missouri 63501            WWW.ATSU.EDU   \n",
       "1            1600 Campus Court, Abilene, Texas 79699             www.acu.edu   \n",
       "2         2802 Moore Hwy, Tifton, Georgia 31793-2601            www.abac.edu   \n",
       "3  1101 E. 78th Street, Suite 100, Minneapolis, M...  www.academycollege.edu   \n",
       "4         305 SE 2nd Ave, Gainesville, Florida 32601   www.acupuncturist.edu   \n",
       "\n",
       "                                                Type    Size  \n",
       "0                     4-year, Private not-for-profit  3480.0  \n",
       "1                     4-year, Private not-for-profit  4669.0  \n",
       "2              4-year, primarily associate's, Public  3600.0  \n",
       "3  4-year, primarily associate's, Private for-profit   165.0  \n",
       "4                     4-year, Private not-for-profit    51.0  "
      ]
     },
     "execution_count": 44,
     "metadata": {},
     "output_type": "execute_result"
    }
   ],
   "source": [
    "df.head()"
   ]
  },
  {
   "cell_type": "code",
   "execution_count": 57,
   "metadata": {},
   "outputs": [
    {
     "data": {
      "text/plain": [
       "0.046357401600000014"
      ]
     },
     "execution_count": 57,
     "metadata": {},
     "output_type": "execute_result"
    }
   ],
   "source": [
    "from scipy import stats\n",
    "\n",
    "dist = stats.binom(n = 10, p = 0.6)\n",
    "\n",
    "1 - dist.cdf(8)"
   ]
  },
  {
   "cell_type": "code",
   "execution_count": 63,
   "metadata": {},
   "outputs": [
    {
     "name": "stdout",
     "output_type": "stream",
     "text": [
      "18.35\n"
     ]
    },
    {
     "data": {
      "text/plain": [
       "86.9275"
      ]
     },
     "execution_count": 63,
     "metadata": {},
     "output_type": "execute_result"
    }
   ],
   "source": [
    "import numpy as np\n",
    "t = np.array([10, 25, 12, 35, 14, 18, 16, 15, 22, 10, 9, 11, 49, 20, 15, 9, 18, 19, 20, 20])\n",
    "\n",
    "print(t.mean())\n",
    "np.std(t)**2"
   ]
  },
  {
   "cell_type": "code",
   "execution_count": null,
   "metadata": {},
   "outputs": [],
   "source": []
  }
 ],
 "metadata": {
  "kernelspec": {
   "display_name": "Python 3",
   "language": "python",
   "name": "python3"
  },
  "language_info": {
   "codemirror_mode": {
    "name": "ipython",
    "version": 3
   },
   "file_extension": ".py",
   "mimetype": "text/x-python",
   "name": "python",
   "nbconvert_exporter": "python",
   "pygments_lexer": "ipython3",
   "version": "3.7.3"
  }
 },
 "nbformat": 4,
 "nbformat_minor": 2
}
