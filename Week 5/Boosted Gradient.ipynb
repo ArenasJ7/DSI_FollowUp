{
 "cells": [
  {
   "cell_type": "markdown",
   "metadata": {},
   "source": [
    "# Boosted Gradient"
   ]
  },
  {
   "cell_type": "markdown",
   "metadata": {},
   "source": [
    "## Libraries"
   ]
  },
  {
   "cell_type": "code",
   "execution_count": 72,
   "metadata": {},
   "outputs": [],
   "source": [
    "from sklearn.tree import DecisionTreeRegressor\n",
    "from sklearn.ensemble import RandomForestRegressor\n",
    "from sklearn.ensemble import GradientBoostingRegressor\n",
    "from sklearn.ensemble import AdaBoostRegressor\n",
    "from sklearn.datasets import load_boston\n",
    "from sklearn.model_selection import train_test_split, cross_val_score\n",
    "from sklearn.model_selection import GridSearchCV\n",
    "from sklearn.metrics import mean_squared_error, r2_score\n",
    "import matplotlib.pyplot as plt\n",
    "import numpy as np"
   ]
  },
  {
   "cell_type": "markdown",
   "metadata": {},
   "source": [
    "## Import the data"
   ]
  },
  {
   "cell_type": "code",
   "execution_count": 5,
   "metadata": {},
   "outputs": [],
   "source": [
    "boston = load_boston()\n",
    "# House Prices\n",
    "y = boston.target\n",
    "# The other 13 features\n",
    "X = boston.data"
   ]
  },
  {
   "cell_type": "code",
   "execution_count": 6,
   "metadata": {},
   "outputs": [],
   "source": [
    "X_train, X_test, y_train, y_test = train_test_split(X, y, test_size = 0.2, random_state = 1)"
   ]
  },
  {
   "cell_type": "code",
   "execution_count": 7,
   "metadata": {},
   "outputs": [],
   "source": [
    "rf = RandomForestRegressor(n_estimators=100,\n",
    "                            n_jobs=-1,\n",
    "                            random_state=1)\n",
    "\n",
    "gdbr = GradientBoostingRegressor(learning_rate=0.1,\n",
    "                                  loss='ls',\n",
    "                                  n_estimators=100,\n",
    "                                  random_state=1)\n",
    "\n",
    "abr = AdaBoostRegressor(DecisionTreeRegressor(),\n",
    "                         learning_rate=0.1,\n",
    "                         loss='linear',\n",
    "                         n_estimators=100,\n",
    "                         random_state=1)"
   ]
  },
  {
   "cell_type": "code",
   "execution_count": 25,
   "metadata": {},
   "outputs": [],
   "source": [
    "models = [rf, gdbr, abr]"
   ]
  },
  {
   "cell_type": "code",
   "execution_count": 197,
   "metadata": {},
   "outputs": [],
   "source": [
    "def models_cv(X_train, y_train, kfolds = 5):\n",
    "    \n",
    "    MSE = []\n",
    "    R2 = []\n",
    "    \n",
    "    MSE.append(-np.mean(cross_val_score(rf,X_train, y_train, cv = kfolds, scoring = 'neg_mean_squared_error')))\n",
    "    MSE.append(-np.mean(cross_val_score(gdbr,X_train, y_train, cv = kfolds, scoring = 'neg_mean_squared_error')))\n",
    "    MSE.append(-np.mean(cross_val_score(abr,X_train, y_train, cv = kfolds, scoring = 'neg_mean_squared_error')))\n",
    "    R2.append(np.mean(cross_val_score(rf, X_train, y_train, cv = kfolds, scoring = 'r2')))\n",
    "    R2.append(np.mean(cross_val_score(gdbr, X_train, y_train, cv = kfolds, scoring = 'r2')))\n",
    "    R2.append(np.mean(cross_val_score(abr, X_train, y_train, cv = kfolds, scoring = 'r2')))\n",
    "    \n",
    "    return MSE, R2 "
   ]
  },
  {
   "cell_type": "code",
   "execution_count": 198,
   "metadata": {},
   "outputs": [
    {
     "name": "stdout",
     "output_type": "stream",
     "text": [
      "RandomForestRegressor     Train CV| MSE:  9.8  | R2:  0.87\n",
      "GradientBoostingregressor Train CV| MSE:  10.86  | R2:  0.86\n",
      "AdaBoostRegressot         Train CV| MSE:  9.54  | R2:  0.88\n"
     ]
    }
   ],
   "source": [
    "MSE, R2 = models_cv(X_train, y_train, 5)\n",
    "\n",
    "\n",
    "print('RandomForestRegressor     Train CV| MSE: ', round(MSE[0],2) ,' | R2: ',round(R2[0],2))\n",
    "print('GradientBoostingregressor Train CV| MSE: ', round(MSE[1],2) ,' | R2: ',round(R2[1],2))\n",
    "print('AdaBoostRegressot         Train CV| MSE: ', round(MSE[2],2) ,' | R2: ', round(R2[2],2))\n",
    "    "
   ]
  },
  {
   "cell_type": "code",
   "execution_count": 82,
   "metadata": {},
   "outputs": [],
   "source": [
    "gdbr = GradientBoostingRegressor(learning_rate=1,\n",
    "                                  loss='ls',\n",
    "                                  n_estimators=100,\n",
    "                                  random_state=1)"
   ]
  },
  {
   "cell_type": "code",
   "execution_count": 163,
   "metadata": {},
   "outputs": [
    {
     "name": "stdout",
     "output_type": "stream",
     "text": [
      "RandomForestRegressor     Train CV| MSE:  9.8  | R2:  0.87\n",
      "GradientBoostingregressor Train CV| MSE:  10.86  | R2:  0.86\n",
      "AdaBoostRegressot         Train CV| MSE:  9.54  | R2:  0.88\n"
     ]
    }
   ],
   "source": [
    "MSE = models_cv(X_train, y_train)"
   ]
  },
  {
   "cell_type": "code",
   "execution_count": 191,
   "metadata": {},
   "outputs": [],
   "source": [
    "def stage_score_plot(estimator, X_train, y_train, X_test, y_test):\n",
    "    '''\n",
    "    Parameters: estimator: GradientBoostingRegressor or AdaBoostRegressor\n",
    "                X_train: 2d numpy array\n",
    "                y_train: 1d numpy array\n",
    "                X_test: 2d numpy array\n",
    "                y_test: 1d numpy array\n",
    "\n",
    "    Returns: A plot of the number of iterations vs the MSE for the model for\n",
    "    both the training set and test set.\n",
    "    '''\n",
    "   \n",
    "    r = estimator.fit(X_train, y_train) \n",
    "    pred_train = list(r.staged_predict(X_train))\n",
    "    pred_test = list(r.staged_predict(X_test))\n",
    "    score_train = np.zeros(len(pred_train))\n",
    "    score_test = np.zeros(len(pred_test))\n",
    "    \n",
    "    \n",
    "    for n,i in enumerate(pred_train):\n",
    "        \n",
    "        score_train[n] = mean_squared_error(y_train, pred_train[n])\n",
    "        \n",
    "    for n,i in enumerate(pred_train):\n",
    "        \n",
    "        score_test[n] = mean_squared_error(y_test, pred_test[n])\n",
    "        \n",
    "    plt.plot(np.arange(score_train.shape[0]), score_train, label=(str(estimator.__class__.__name__)+' Training Error'))\n",
    "    plt.plot(np.arange(score_test.shape[0]), score_test, label=(str(estimator.__class__.__name__)+' Testing Error'))\n",
    "    plt.legend(loc='upper right')    \n",
    "        "
   ]
  },
  {
   "cell_type": "code",
   "execution_count": 192,
   "metadata": {},
   "outputs": [
    {
     "data": {
      "image/png": "[encoded data removed]",
      "text/plain": [
       "<Figure size 432x288 with 1 Axes>"
      ]
     },
     "metadata": {
      "needs_background": "light"
     },
     "output_type": "display_data"
    }
   ],
   "source": [
    "gdbr = GradientBoostingRegressor(learning_rate=1,\n",
    "                                  loss='ls',\n",
    "                                  n_estimators=100,\n",
    "                                  random_state=1)\n",
    "\n",
    "stage_score_plot(gdbr, X_train, y_train, X_test, y_test)\n",
    "\n",
    "\n",
    "\n",
    "gdbr = GradientBoostingRegressor(learning_rate=0.1,\n",
    "                                  loss='ls',\n",
    "                                  n_estimators=100,\n",
    "                                  random_state=1)\n",
    "stage_score_plot(gdbr, X_train, y_train, X_test, y_test)"
   ]
  },
  {
   "cell_type": "code",
   "execution_count": 193,
   "metadata": {},
   "outputs": [
    {
     "name": "stdout",
     "output_type": "stream",
     "text": [
      "GDBR beats RF at:  50\n"
     ]
    },
    {
     "data": {
      "image/png": "[encoded data removed]",
      "text/plain": [
       "<Figure size 432x288 with 1 Axes>"
      ]
     },
     "metadata": {
      "needs_background": "light"
     },
     "output_type": "display_data"
    }
   ],
   "source": [
    "gdbr = GradientBoostingRegressor(learning_rate=0.1,\n",
    "                                  loss='ls',\n",
    "                                  n_estimators=100,\n",
    "                                  random_state=1)\n",
    "\n",
    "rf.fit(X_train, y_train)\n",
    "res = rf.predict(X_test)\n",
    "\n",
    "plt.axhline(mean_squared_error(y_test, res), ls = '--', label = 'Random Forest Test')\n",
    "\n",
    "\n",
    "r = gdbr.fit(X_train, y_train) \n",
    "pred_test = list(r.staged_predict(X_test))\n",
    "score_test = np.zeros(len(pred_test))\n",
    "\n",
    "for n,i in enumerate(pred_test):\n",
    "        \n",
    "        score_test[n] = gdbr.loss_(y_test, pred_test[n])\n",
    "        \n",
    "        if score_test[n] < mean_squared_error(y_test, res):\n",
    "        \n",
    "            plt.axvline(n, ls = '--', c = 'red')\n",
    "            break\n",
    "    \n",
    "\n",
    "\n",
    "print('GDBR beats RF at: ',n)\n",
    "stage_score_plot(gdbr, X_train, y_train, X_test, y_test)\n"
   ]
  },
  {
   "cell_type": "code",
   "execution_count": 195,
   "metadata": {},
   "outputs": [
    {
     "name": "stdout",
     "output_type": "stream",
     "text": [
      "AdaBoost beats RF at:  35\n"
     ]
    },
    {
     "data": {
      "image/png": "[encoded data removed]",
      "text/plain": [
       "<Figure size 432x288 with 1 Axes>"
      ]
     },
     "metadata": {
      "needs_background": "light"
     },
     "output_type": "display_data"
    }
   ],
   "source": [
    "abr = AdaBoostRegressor(DecisionTreeRegressor(),\n",
    "                         learning_rate=0.1,\n",
    "                         loss='linear',\n",
    "                         n_estimators=100,\n",
    "                         random_state=1)\n",
    "\n",
    "rf.fit(X_train, y_train)\n",
    "res = rf.predict(X_test)\n",
    "\n",
    "plt.axhline(mean_squared_error(y_test, res), ls = '--', label = 'Random Forest Test')\n",
    "\n",
    "\n",
    "r = abr.fit(X_train, y_train) \n",
    "pred_test = list(r.staged_predict(X_test))\n",
    "score_test = np.zeros(len(pred_test))\n",
    "\n",
    "for n,i in enumerate(pred_test):\n",
    "        \n",
    "        score_test[n] = mean_squared_error(y_test, pred_test[n])\n",
    "        \n",
    "        if score_test[n] < mean_squared_error(y_test, res):\n",
    "        \n",
    "            plt.axvline(n, ls = '--', c = 'red')\n",
    "            break\n",
    "    \n",
    "\n",
    "\n",
    "print('AdaBoost beats RF at: ',n)\n",
    "stage_score_plot(abr, X_train, y_train, X_test, y_test)"
   ]
  },
  {
   "cell_type": "code",
   "execution_count": 204,
   "metadata": {},
   "outputs": [
    {
     "name": "stderr",
     "output_type": "stream",
     "text": [
      "/Library/anaconda3/lib/python3.7/site-packages/sklearn/model_selection/_split.py:1978: FutureWarning: The default value of cv will change from 3 to 5 in version 0.22. Specify it explicitly to silence this warning.\n",
      "  warnings.warn(CV_WARNING, FutureWarning)\n",
      "[Parallel(n_jobs=-1)]: Using backend LokyBackend with 4 concurrent workers.\n"
     ]
    },
    {
     "name": "stdout",
     "output_type": "stream",
     "text": [
      "Fitting 3 folds for each of 288 candidates, totalling 864 fits\n"
     ]
    },
    {
     "name": "stderr",
     "output_type": "stream",
     "text": [
      "[Parallel(n_jobs=-1)]: Done 536 tasks      | elapsed:    7.6s\n"
     ]
    },
    {
     "name": "stdout",
     "output_type": "stream",
     "text": [
      "best parameters: {'bootstrap': True, 'max_depth': None, 'max_features': None, 'min_samples_leaf': 1, 'min_samples_split': 2, 'n_estimators': 40, 'random_state': 1}\n"
     ]
    },
    {
     "name": "stderr",
     "output_type": "stream",
     "text": [
      "[Parallel(n_jobs=-1)]: Done 864 out of 864 | elapsed:   13.1s finished\n",
      "/Library/anaconda3/lib/python3.7/site-packages/sklearn/model_selection/_search.py:813: DeprecationWarning: The default of the `iid` parameter will change from True to False in version 0.22 and will be removed in 0.24. This will change numeric results when test-set sizes are unequal.\n",
      "  DeprecationWarning)\n"
     ]
    }
   ],
   "source": [
    "random_forest_grid = {'max_depth': [3, None],\n",
    "                      'max_features': ['sqrt', 'log2', None],\n",
    "                      'min_samples_split': [2, 4],\n",
    "                      'min_samples_leaf': [1, 2, 4],\n",
    "                      'bootstrap': [True, False],\n",
    "                      'n_estimators': [10, 20, 40, 80],\n",
    "                      'random_state': [1]}\n",
    "\n",
    "rf_gridsearch = GridSearchCV(RandomForestRegressor(),\n",
    "                             random_forest_grid,\n",
    "                             n_jobs=-1,\n",
    "                             verbose=True,\n",
    "                             scoring='neg_mean_squared_error')\n",
    "rf_gridsearch.fit(X_train, y_train)\n",
    "\n",
    "print(\"best parameters:\", rf_gridsearch.best_params_)\n",
    "\n",
    "best_rf_model = rf_gridsearch.best_estimator_"
   ]
  },
  {
   "cell_type": "code",
   "execution_count": null,
   "metadata": {},
   "outputs": [],
   "source": []
  }
 ],
 "metadata": {
  "kernelspec": {
   "display_name": "Python 3",
   "language": "python",
   "name": "python3"
  },
  "language_info": {
   "codemirror_mode": {
    "name": "ipython",
    "version": 3
   },
   "file_extension": ".py",
   "mimetype": "text/x-python",
   "name": "python",
   "nbconvert_exporter": "python",
   "pygments_lexer": "ipython3",
   "version": "3.7.3"
  }
 },
 "nbformat": 4,
 "nbformat_minor": 2
}
