{
 "cells": [
  {
   "cell_type": "markdown",
   "metadata": {},
   "source": [
    "# Case study SQLite"
   ]
  },
  {
   "cell_type": "markdown",
   "metadata": {},
   "source": [
    "Load the necessary libraries for the analysis."
   ]
  },
  {
   "cell_type": "code",
   "execution_count": 221,
   "metadata": {},
   "outputs": [],
   "source": [
    "import sqlite3\n",
    "import pandas as pd\n",
    "import matplotlib.pyplot as plt\n",
    "import numpy as np"
   ]
  },
  {
   "cell_type": "markdown",
   "metadata": {},
   "source": [
    "Create a connection to the SQL database. Then read the Tweets table."
   ]
  },
  {
   "cell_type": "code",
   "execution_count": 222,
   "metadata": {},
   "outputs": [
    {
     "name": "stdout",
     "output_type": "stream",
     "text": [
      "[('Tweets',), ('positive',)]\n"
     ]
    }
   ],
   "source": [
    "\n",
    "con = sqlite3.connect('database.sqlite')\n",
    "cursor = con.cursor()\n",
    "cursor.execute(\"SELECT name FROM sqlite_master WHERE type='table';\")\n",
    "print(cursor.fetchall())\n",
    "\n"
   ]
  },
  {
   "cell_type": "code",
   "execution_count": 223,
   "metadata": {},
   "outputs": [
    {
     "data": {
      "text/html": [
       "<div>\n",
       "<style scoped>\n",
       "    .dataframe tbody tr th:only-of-type {\n",
       "        vertical-align: middle;\n",
       "    }\n",
       "\n",
       "    .dataframe tbody tr th {\n",
       "        vertical-align: top;\n",
       "    }\n",
       "\n",
       "    .dataframe thead th {\n",
       "        text-align: right;\n",
       "    }\n",
       "</style>\n",
       "<table border=\"1\" class=\"dataframe\">\n",
       "  <thead>\n",
       "    <tr style=\"text-align: right;\">\n",
       "      <th></th>\n",
       "      <th>tweet_id</th>\n",
       "      <th>airline_sentiment</th>\n",
       "      <th>airline_sentiment_confidence</th>\n",
       "      <th>negativereason</th>\n",
       "      <th>negativereason_confidence</th>\n",
       "      <th>airline</th>\n",
       "      <th>airline_sentiment_gold</th>\n",
       "      <th>name</th>\n",
       "      <th>negativereason_gold</th>\n",
       "      <th>retweet_count</th>\n",
       "      <th>text</th>\n",
       "      <th>tweet_coord</th>\n",
       "      <th>tweet_created</th>\n",
       "      <th>tweet_location</th>\n",
       "      <th>user_timezone</th>\n",
       "      <th>positive</th>\n",
       "    </tr>\n",
       "  </thead>\n",
       "  <tbody>\n",
       "    <tr>\n",
       "      <th>0</th>\n",
       "      <td>567588278875213824</td>\n",
       "      <td>neutral</td>\n",
       "      <td>1.0</td>\n",
       "      <td></td>\n",
       "      <td></td>\n",
       "      <td>Delta</td>\n",
       "      <td></td>\n",
       "      <td>JetBlueNews</td>\n",
       "      <td></td>\n",
       "      <td>0</td>\n",
       "      <td>@JetBlue's new CEO seeks the right balance to please passengers and Wall ... - Greenfield Daily Reporter http://t.co/LM3opxkxch</td>\n",
       "      <td></td>\n",
       "      <td>2015-02-16 23:36:05 -0800</td>\n",
       "      <td>USA</td>\n",
       "      <td>Sydney</td>\n",
       "      <td>no</td>\n",
       "    </tr>\n",
       "    <tr>\n",
       "      <th>1</th>\n",
       "      <td>567590027375702016</td>\n",
       "      <td>negative</td>\n",
       "      <td>1.0</td>\n",
       "      <td>Can't Tell</td>\n",
       "      <td>0.6503</td>\n",
       "      <td>Delta</td>\n",
       "      <td></td>\n",
       "      <td>nesi_1992</td>\n",
       "      <td></td>\n",
       "      <td>0</td>\n",
       "      <td>@JetBlue is REALLY getting on my nerves !! 😡😡 #nothappy</td>\n",
       "      <td></td>\n",
       "      <td>2015-02-16 23:43:02 -0800</td>\n",
       "      <td>undecided</td>\n",
       "      <td>Pacific Time (US &amp; Canada)</td>\n",
       "      <td>no</td>\n",
       "    </tr>\n",
       "    <tr>\n",
       "      <th>2</th>\n",
       "      <td>567591480085463040</td>\n",
       "      <td>negative</td>\n",
       "      <td>1.0</td>\n",
       "      <td>Late Flight</td>\n",
       "      <td>0.346</td>\n",
       "      <td>United</td>\n",
       "      <td></td>\n",
       "      <td>CPoutloud</td>\n",
       "      <td></td>\n",
       "      <td>0</td>\n",
       "      <td>@united yes. We waited in line for almost an hour to do so. Some passengers just left not wanting to wait past 1am.</td>\n",
       "      <td></td>\n",
       "      <td>2015-02-16 23:48:48 -0800</td>\n",
       "      <td>Washington, DC</td>\n",
       "      <td></td>\n",
       "      <td>no</td>\n",
       "    </tr>\n",
       "    <tr>\n",
       "      <th>3</th>\n",
       "      <td>567592368451248130</td>\n",
       "      <td>negative</td>\n",
       "      <td>1.0</td>\n",
       "      <td>Late Flight</td>\n",
       "      <td>1</td>\n",
       "      <td>United</td>\n",
       "      <td></td>\n",
       "      <td>brenduch</td>\n",
       "      <td></td>\n",
       "      <td>0</td>\n",
       "      <td>@united the we got into the gate at IAH on time and have given our seats and closed the flight. If you know people is arriving, have to wait</td>\n",
       "      <td></td>\n",
       "      <td>2015-02-16 23:52:20 -0800</td>\n",
       "      <td></td>\n",
       "      <td>Buenos Aires</td>\n",
       "      <td>no</td>\n",
       "    </tr>\n",
       "    <tr>\n",
       "      <th>4</th>\n",
       "      <td>567594449874587648</td>\n",
       "      <td>negative</td>\n",
       "      <td>1.0</td>\n",
       "      <td>Customer Service Issue</td>\n",
       "      <td>0.3451</td>\n",
       "      <td>Southwest</td>\n",
       "      <td></td>\n",
       "      <td>VahidESQ</td>\n",
       "      <td></td>\n",
       "      <td>0</td>\n",
       "      <td>@SouthwestAir its cool that my bags take a bit longer, dont give me baggage blue balls-turn the carousel on, tell me it's coming, then not.</td>\n",
       "      <td></td>\n",
       "      <td>2015-02-17 00:00:36 -0800</td>\n",
       "      <td>Los Angeles, CA</td>\n",
       "      <td>Pacific Time (US &amp; Canada)</td>\n",
       "      <td>no</td>\n",
       "    </tr>\n",
       "  </tbody>\n",
       "</table>\n",
       "</div>"
      ],
      "text/plain": [
       "             tweet_id airline_sentiment  airline_sentiment_confidence  \\\n",
       "0  567588278875213824           neutral                           1.0   \n",
       "1  567590027375702016          negative                           1.0   \n",
       "2  567591480085463040          negative                           1.0   \n",
       "3  567592368451248130          negative                           1.0   \n",
       "4  567594449874587648          negative                           1.0   \n",
       "\n",
       "           negativereason negativereason_confidence    airline  \\\n",
       "0                                                        Delta   \n",
       "1              Can't Tell                    0.6503      Delta   \n",
       "2             Late Flight                     0.346     United   \n",
       "3             Late Flight                         1     United   \n",
       "4  Customer Service Issue                    0.3451  Southwest   \n",
       "\n",
       "  airline_sentiment_gold         name negativereason_gold  retweet_count  \\\n",
       "0                         JetBlueNews                                  0   \n",
       "1                           nesi_1992                                  0   \n",
       "2                           CPoutloud                                  0   \n",
       "3                            brenduch                                  0   \n",
       "4                            VahidESQ                                  0   \n",
       "\n",
       "                                                                                                                                           text  \\\n",
       "0               @JetBlue's new CEO seeks the right balance to please passengers and Wall ... - Greenfield Daily Reporter http://t.co/LM3opxkxch   \n",
       "1                                                                                       @JetBlue is REALLY getting on my nerves !! 😡😡 #nothappy   \n",
       "2                           @united yes. We waited in line for almost an hour to do so. Some passengers just left not wanting to wait past 1am.   \n",
       "3  @united the we got into the gate at IAH on time and have given our seats and closed the flight. If you know people is arriving, have to wait   \n",
       "4   @SouthwestAir its cool that my bags take a bit longer, dont give me baggage blue balls-turn the carousel on, tell me it's coming, then not.   \n",
       "\n",
       "  tweet_coord              tweet_created   tweet_location  \\\n",
       "0              2015-02-16 23:36:05 -0800              USA   \n",
       "1              2015-02-16 23:43:02 -0800        undecided   \n",
       "2              2015-02-16 23:48:48 -0800   Washington, DC   \n",
       "3              2015-02-16 23:52:20 -0800                    \n",
       "4              2015-02-17 00:00:36 -0800  Los Angeles, CA   \n",
       "\n",
       "                user_timezone positive  \n",
       "0                      Sydney       no  \n",
       "1  Pacific Time (US & Canada)       no  \n",
       "2                                   no  \n",
       "3                Buenos Aires       no  \n",
       "4  Pacific Time (US & Canada)       no  "
      ]
     },
     "execution_count": 223,
     "metadata": {},
     "output_type": "execute_result"
    }
   ],
   "source": [
    "data=pd.read_sql_query(\"SELECT * FROM Tweets\",con)\n",
    "data.head()"
   ]
  },
  {
   "cell_type": "code",
   "execution_count": 200,
   "metadata": {},
   "outputs": [
    {
     "name": "stdout",
     "output_type": "stream",
     "text": [
      "<class 'pandas.core.frame.DataFrame'>\n",
      "RangeIndex: 14485 entries, 0 to 14484\n",
      "Data columns (total 15 columns):\n",
      "tweet_id                        14485 non-null int64\n",
      "airline_sentiment               14485 non-null object\n",
      "airline_sentiment_confidence    14485 non-null float64\n",
      "negativereason                  14485 non-null object\n",
      "negativereason_confidence       14485 non-null object\n",
      "airline                         14485 non-null object\n",
      "airline_sentiment_gold          14485 non-null object\n",
      "name                            14485 non-null object\n",
      "negativereason_gold             14485 non-null object\n",
      "retweet_count                   14485 non-null int64\n",
      "text                            14485 non-null object\n",
      "tweet_coord                     14485 non-null object\n",
      "tweet_created                   14485 non-null object\n",
      "tweet_location                  14485 non-null object\n",
      "user_timezone                   14485 non-null object\n",
      "dtypes: float64(1), int64(2), object(12)\n",
      "memory usage: 1.7+ MB\n"
     ]
    }
   ],
   "source": [
    "data.info()"
   ]
  },
  {
   "cell_type": "code",
   "execution_count": 201,
   "metadata": {},
   "outputs": [
    {
     "data": {
      "text/plain": [
       "array(['neutral', 'negative', 'positive'], dtype=object)"
      ]
     },
     "execution_count": 201,
     "metadata": {},
     "output_type": "execute_result"
    }
   ],
   "source": [
    "data['airline_sentiment'].unique()"
   ]
  },
  {
   "cell_type": "code",
   "execution_count": 202,
   "metadata": {},
   "outputs": [
    {
     "data": {
      "text/plain": [
       "array(['', 'Customer Service Issue', 'Cancelled Flight',\n",
       "       'Cancelled Flight\\nCustomer Service Issue',\n",
       "       'Lost Luggage\\nDamaged Luggage', 'Late Flight', 'Bad Flight',\n",
       "       \"Can't Tell\", \"Customer Service Issue\\nCan't Tell\",\n",
       "       'Customer Service Issue\\nLost Luggage',\n",
       "       'Late Flight\\nLost Luggage', 'Flight Attendant Complaints',\n",
       "       'Late Flight\\nFlight Attendant Complaints',\n",
       "       'Late Flight\\nCancelled Flight'], dtype=object)"
      ]
     },
     "execution_count": 202,
     "metadata": {},
     "output_type": "execute_result"
    }
   ],
   "source": [
    "data['negativereason_gold'].unique()"
   ]
  },
  {
   "cell_type": "code",
   "execution_count": 203,
   "metadata": {},
   "outputs": [],
   "source": [
    "neu_data = data[data['airline_sentiment'] == 'neutral']\n",
    "neg_data =  data[data['airline_sentiment'] == 'negative']\n",
    "pos_data = data[data['airline_sentiment'] == 'positive']"
   ]
  },
  {
   "cell_type": "code",
   "execution_count": 204,
   "metadata": {},
   "outputs": [
    {
     "name": "stdout",
     "output_type": "stream",
     "text": [
      "<class 'pandas.core.frame.DataFrame'>\n",
      "Int64Index: 3069 entries, 0 to 14481\n",
      "Data columns (total 15 columns):\n",
      "tweet_id                        3069 non-null int64\n",
      "airline_sentiment               3069 non-null object\n",
      "airline_sentiment_confidence    3069 non-null float64\n",
      "negativereason                  3069 non-null object\n",
      "negativereason_confidence       3069 non-null object\n",
      "airline                         3069 non-null object\n",
      "airline_sentiment_gold          3069 non-null object\n",
      "name                            3069 non-null object\n",
      "negativereason_gold             3069 non-null object\n",
      "retweet_count                   3069 non-null int64\n",
      "text                            3069 non-null object\n",
      "tweet_coord                     3069 non-null object\n",
      "tweet_created                   3069 non-null object\n",
      "tweet_location                  3069 non-null object\n",
      "user_timezone                   3069 non-null object\n",
      "dtypes: float64(1), int64(2), object(12)\n",
      "memory usage: 383.6+ KB\n"
     ]
    }
   ],
   "source": [
    "neu_data.info()"
   ]
  },
  {
   "cell_type": "code",
   "execution_count": 205,
   "metadata": {},
   "outputs": [
    {
     "name": "stdout",
     "output_type": "stream",
     "text": [
      "<class 'pandas.core.frame.DataFrame'>\n",
      "Int64Index: 9082 entries, 1 to 14484\n",
      "Data columns (total 15 columns):\n",
      "tweet_id                        9082 non-null int64\n",
      "airline_sentiment               9082 non-null object\n",
      "airline_sentiment_confidence    9082 non-null float64\n",
      "negativereason                  9082 non-null object\n",
      "negativereason_confidence       9082 non-null object\n",
      "airline                         9082 non-null object\n",
      "airline_sentiment_gold          9082 non-null object\n",
      "name                            9082 non-null object\n",
      "negativereason_gold             9082 non-null object\n",
      "retweet_count                   9082 non-null int64\n",
      "text                            9082 non-null object\n",
      "tweet_coord                     9082 non-null object\n",
      "tweet_created                   9082 non-null object\n",
      "tweet_location                  9082 non-null object\n",
      "user_timezone                   9082 non-null object\n",
      "dtypes: float64(1), int64(2), object(12)\n",
      "memory usage: 1.1+ MB\n"
     ]
    }
   ],
   "source": [
    "neg_data.info()\n"
   ]
  },
  {
   "cell_type": "code",
   "execution_count": 206,
   "metadata": {},
   "outputs": [
    {
     "name": "stdout",
     "output_type": "stream",
     "text": [
      "<class 'pandas.core.frame.DataFrame'>\n",
      "Int64Index: 2334 entries, 15 to 14482\n",
      "Data columns (total 15 columns):\n",
      "tweet_id                        2334 non-null int64\n",
      "airline_sentiment               2334 non-null object\n",
      "airline_sentiment_confidence    2334 non-null float64\n",
      "negativereason                  2334 non-null object\n",
      "negativereason_confidence       2334 non-null object\n",
      "airline                         2334 non-null object\n",
      "airline_sentiment_gold          2334 non-null object\n",
      "name                            2334 non-null object\n",
      "negativereason_gold             2334 non-null object\n",
      "retweet_count                   2334 non-null int64\n",
      "text                            2334 non-null object\n",
      "tweet_coord                     2334 non-null object\n",
      "tweet_created                   2334 non-null object\n",
      "tweet_location                  2334 non-null object\n",
      "user_timezone                   2334 non-null object\n",
      "dtypes: float64(1), int64(2), object(12)\n",
      "memory usage: 291.8+ KB\n"
     ]
    }
   ],
   "source": [
    "pos_data.info()"
   ]
  },
  {
   "cell_type": "code",
   "execution_count": 196,
   "metadata": {},
   "outputs": [],
   "source": [
    "con.close()"
   ]
  },
  {
   "cell_type": "code",
   "execution_count": 207,
   "metadata": {},
   "outputs": [
    {
     "data": {
      "text/plain": [
       "array([\"Can't Tell\", 'Late Flight', 'Customer Service Issue',\n",
       "       'Bad Flight', 'Flight Booking Problems', 'Lost Luggage',\n",
       "       'Cancelled Flight', 'Flight Attendant Complaints', 'longlines',\n",
       "       'Damaged Luggage'], dtype=object)"
      ]
     },
     "execution_count": 207,
     "metadata": {},
     "output_type": "execute_result"
    }
   ],
   "source": [
    "neg_data['negativereason'].head()\n",
    "neg_data['negativereason'].unique()"
   ]
  },
  {
   "cell_type": "code",
   "execution_count": 208,
   "metadata": {},
   "outputs": [
    {
     "data": {
      "text/plain": [
       "<matplotlib.axes._subplots.AxesSubplot at 0x1193fb390>"
      ]
     },
     "execution_count": 208,
     "metadata": {},
     "output_type": "execute_result"
    },
    {
     "data": {
      "image/png": "[encoded data removed]",
      "text/plain": [
       "<Figure size 432x288 with 1 Axes>"
      ]
     },
     "metadata": {
      "needs_background": "light"
     },
     "output_type": "display_data"
    }
   ],
   "source": [
    "neg_datagroup = neg_data.groupby('negativereason').count().reset_index().sort_values(by = 'airline_sentiment', ascending = False)\n",
    "neg_datagroup['airline_sentiment'].plot(kind = 'bar')"
   ]
  },
  {
   "cell_type": "code",
   "execution_count": 209,
   "metadata": {},
   "outputs": [
    {
     "data": {
      "text/html": [
       "<div>\n",
       "<style scoped>\n",
       "    .dataframe tbody tr th:only-of-type {\n",
       "        vertical-align: middle;\n",
       "    }\n",
       "\n",
       "    .dataframe tbody tr th {\n",
       "        vertical-align: top;\n",
       "    }\n",
       "\n",
       "    .dataframe thead th {\n",
       "        text-align: right;\n",
       "    }\n",
       "</style>\n",
       "<table border=\"1\" class=\"dataframe\">\n",
       "  <thead>\n",
       "    <tr style=\"text-align: right;\">\n",
       "      <th></th>\n",
       "      <th>airline</th>\n",
       "      <th>airline_sentiment</th>\n",
       "    </tr>\n",
       "  </thead>\n",
       "  <tbody>\n",
       "    <tr>\n",
       "      <th>4</th>\n",
       "      <td>United</td>\n",
       "      <td>2633</td>\n",
       "    </tr>\n",
       "    <tr>\n",
       "      <th>3</th>\n",
       "      <td>US Airways</td>\n",
       "      <td>2263</td>\n",
       "    </tr>\n",
       "    <tr>\n",
       "      <th>0</th>\n",
       "      <td>American</td>\n",
       "      <td>1864</td>\n",
       "    </tr>\n",
       "    <tr>\n",
       "      <th>2</th>\n",
       "      <td>Southwest</td>\n",
       "      <td>1186</td>\n",
       "    </tr>\n",
       "    <tr>\n",
       "      <th>1</th>\n",
       "      <td>Delta</td>\n",
       "      <td>955</td>\n",
       "    </tr>\n",
       "    <tr>\n",
       "      <th>5</th>\n",
       "      <td>Virgin America</td>\n",
       "      <td>181</td>\n",
       "    </tr>\n",
       "  </tbody>\n",
       "</table>\n",
       "</div>"
      ],
      "text/plain": [
       "          airline  airline_sentiment\n",
       "4          United               2633\n",
       "3      US Airways               2263\n",
       "0        American               1864\n",
       "2       Southwest               1186\n",
       "1           Delta                955\n",
       "5  Virgin America                181"
      ]
     },
     "execution_count": 209,
     "metadata": {},
     "output_type": "execute_result"
    }
   ],
   "source": [
    "neg_dataairline = neg_data.groupby('airline').count().reset_index()\n",
    "neg_dataairline.sort_values(by = 'airline_sentiment', ascending = False)[['airline','airline_sentiment']]"
   ]
  },
  {
   "cell_type": "code",
   "execution_count": 210,
   "metadata": {},
   "outputs": [
    {
     "data": {
      "text/html": [
       "<div>\n",
       "<style scoped>\n",
       "    .dataframe tbody tr th:only-of-type {\n",
       "        vertical-align: middle;\n",
       "    }\n",
       "\n",
       "    .dataframe tbody tr th {\n",
       "        vertical-align: top;\n",
       "    }\n",
       "\n",
       "    .dataframe thead th {\n",
       "        text-align: right;\n",
       "    }\n",
       "</style>\n",
       "<table border=\"1\" class=\"dataframe\">\n",
       "  <thead>\n",
       "    <tr style=\"text-align: right;\">\n",
       "      <th></th>\n",
       "      <th>negativereason</th>\n",
       "      <th>negativereason_confidence</th>\n",
       "      <th>text</th>\n",
       "    </tr>\n",
       "  </thead>\n",
       "  <tbody>\n",
       "    <tr>\n",
       "      <th>6556</th>\n",
       "      <td>Flight Booking Problems</td>\n",
       "      <td>0.3122</td>\n",
       "      <td>@USAirways had to Cancelled Flight 4 of my flights because my versace biceps wouldn't stow completely under the seat in front of me.</td>\n",
       "    </tr>\n",
       "    <tr>\n",
       "      <th>11087</th>\n",
       "      <td>Flight Booking Problems</td>\n",
       "      <td>0.3125</td>\n",
       "      <td>@USAirways what's going on with your website &amp;amp; mobile app??? Help!!!</td>\n",
       "    </tr>\n",
       "    <tr>\n",
       "      <th>14484</th>\n",
       "      <td>Flight Booking Problems</td>\n",
       "      <td>0.3146</td>\n",
       "      <td>@USAirways  is there a better time to call? My flight is on Friday and I need to change it. Worried I may be on hold until then.</td>\n",
       "    </tr>\n",
       "    <tr>\n",
       "      <th>12898</th>\n",
       "      <td>Can't Tell</td>\n",
       "      <td>0.3152</td>\n",
       "      <td>@JetBlue - Hopefully that will help someone in the future. Would there have been a different procedure if I had discovered the theft sooner?</td>\n",
       "    </tr>\n",
       "    <tr>\n",
       "      <th>14471</th>\n",
       "      <td>Bad Flight</td>\n",
       "      <td>0.3164</td>\n",
       "      <td>@AmericanAir thanks for getting back to me. But I will find other airlines in the future.</td>\n",
       "    </tr>\n",
       "    <tr>\n",
       "      <th>10877</th>\n",
       "      <td>Cancelled Flight</td>\n",
       "      <td>0.3166</td>\n",
       "      <td>@AmericanAir  when do you anticipate decisions for Cancelled Flightlations at DFW tomorrow morning? Need to rearrange hotel reservations, etc. ASAP!</td>\n",
       "    </tr>\n",
       "    <tr>\n",
       "      <th>9172</th>\n",
       "      <td>Cancelled Flight</td>\n",
       "      <td>0.3166</td>\n",
       "      <td>@AmericanAir Hopefully you guys are willing to cover my lovely car rental and living charges...I love being here for two extra days..</td>\n",
       "    </tr>\n",
       "    <tr>\n",
       "      <th>13795</th>\n",
       "      <td>Customer Service Issue</td>\n",
       "      <td>0.3168</td>\n",
       "      <td>@AmericanAir thanks for finally letting me get through to book my flight. Frustration  set in... #donedeal #talktoahuman</td>\n",
       "    </tr>\n",
       "    <tr>\n",
       "      <th>1507</th>\n",
       "      <td>Late Flight</td>\n",
       "      <td>0.3168</td>\n",
       "      <td>@USAirways tell the flight from clt to srq 5080 to wait!!!!!!</td>\n",
       "    </tr>\n",
       "    <tr>\n",
       "      <th>12184</th>\n",
       "      <td>Can't Tell</td>\n",
       "      <td>0.3179</td>\n",
       "      <td>@SouthwestAir do these scavenger hunt  locations have anything in common because I'm playing detective trying to figure out the one for ATL.</td>\n",
       "    </tr>\n",
       "    <tr>\n",
       "      <th>1310</th>\n",
       "      <td>Customer Service Issue</td>\n",
       "      <td>0.3187</td>\n",
       "      <td>@JetBlue shout out to the crew on flight 89 headed back to the big apple, they kept my glass half full the whole flight! #jetbluejfk</td>\n",
       "    </tr>\n",
       "    <tr>\n",
       "      <th>4352</th>\n",
       "      <td>Can't Tell</td>\n",
       "      <td>0.3189</td>\n",
       "      <td>@USAirways I'm logged into a Flight Booking Problems. I need to add API before travelling to the states but I cannot see where to do it</td>\n",
       "    </tr>\n",
       "    <tr>\n",
       "      <th>11823</th>\n",
       "      <td>Cancelled Flight</td>\n",
       "      <td>0.3217</td>\n",
       "      <td>@united Ok thank you, do you provide complimentary hotel accommodations since I'll have to stay overnight?</td>\n",
       "    </tr>\n",
       "    <tr>\n",
       "      <th>13201</th>\n",
       "      <td>longlines</td>\n",
       "      <td>0.3217</td>\n",
       "      <td>@AmericanAir If SNA curfew causes diversion, do you provide transportation from LAX? On AA1237 now, pilot not sure if we have time.</td>\n",
       "    </tr>\n",
       "    <tr>\n",
       "      <th>6231</th>\n",
       "      <td>Bad Flight</td>\n",
       "      <td>0.3221</td>\n",
       "      <td>@united hello I am flying first class and am behind 20 people on zone 1!!!!!  Pls pass on to app dept - you should board 1st class first</td>\n",
       "    </tr>\n",
       "    <tr>\n",
       "      <th>5623</th>\n",
       "      <td>Cancelled Flight</td>\n",
       "      <td>0.3222</td>\n",
       "      <td>@united I was flying home for a 9:30am event tomorrow. You pushed back my flight. Now I have a $400 ticket that won't get me home in time.</td>\n",
       "    </tr>\n",
       "    <tr>\n",
       "      <th>2892</th>\n",
       "      <td>Late Flight</td>\n",
       "      <td>0.3222</td>\n",
       "      <td>@USAirways I do to as I have an afternoon Conference in Las Vegas and I would rather plan ahead than run thru the airport and then attempt</td>\n",
       "    </tr>\n",
       "    <tr>\n",
       "      <th>11637</th>\n",
       "      <td>Lost Luggage</td>\n",
       "      <td>0.3227</td>\n",
       "      <td>@SouthwestAir yeah they're somewhere. Hopefully getting them back today. Just frustrated tweeting.</td>\n",
       "    </tr>\n",
       "    <tr>\n",
       "      <th>12136</th>\n",
       "      <td>Can't Tell</td>\n",
       "      <td>0.3227</td>\n",
       "      <td>@SouthwestAir how about #destinationdragon tix for tonite for the inconvenience since I am not there to play scavenger hunt?</td>\n",
       "    </tr>\n",
       "    <tr>\n",
       "      <th>1827</th>\n",
       "      <td>Flight Booking Problems</td>\n",
       "      <td>0.3228</td>\n",
       "      <td>@JetBlue Only middle seats. SFO -&amp;gt; BOS. Not fun. She keeps getting $10 credits. Would much rather have a working TV.</td>\n",
       "    </tr>\n",
       "    <tr>\n",
       "      <th>4670</th>\n",
       "      <td>Can't Tell</td>\n",
       "      <td>0.323</td>\n",
       "      <td>@SouthwestAir will you please start offering services out of @triflight and @AshevilleAir to other airports.. Have to drive 3-4 hrs to use u</td>\n",
       "    </tr>\n",
       "    <tr>\n",
       "      <th>1963</th>\n",
       "      <td>Cancelled Flight</td>\n",
       "      <td>0.323</td>\n",
       "      <td>@united if u miss first leg of ur flight, you have to pay hundreds of $'s just to keep your second leg? How much to keep my earned miles?</td>\n",
       "    </tr>\n",
       "    <tr>\n",
       "      <th>12972</th>\n",
       "      <td>Customer Service Issue</td>\n",
       "      <td>0.3231</td>\n",
       "      <td>@United I have no way of making phones calls... Need to handle via Twitter/email/web. Thank you!</td>\n",
       "    </tr>\n",
       "    <tr>\n",
       "      <th>2961</th>\n",
       "      <td>Late Flight</td>\n",
       "      <td>0.3237</td>\n",
       "      <td>@SouthwestAir @thirty_lives birthday is the 24th and he's not seeing Imagine Dragons at #DestinationDragons ?</td>\n",
       "    </tr>\n",
       "    <tr>\n",
       "      <th>2670</th>\n",
       "      <td>Flight Booking Problems</td>\n",
       "      <td>0.324</td>\n",
       "      <td>@united get a clue. I am a 1K/2mm miler and that is the response you give?</td>\n",
       "    </tr>\n",
       "    <tr>\n",
       "      <th>3477</th>\n",
       "      <td>Can't Tell</td>\n",
       "      <td>0.324</td>\n",
       "      <td>@VirginAmerica seriously, though. will there not be direct flights from SFO-FLL in may???</td>\n",
       "    </tr>\n",
       "    <tr>\n",
       "      <th>5303</th>\n",
       "      <td>Can't Tell</td>\n",
       "      <td>0.324</td>\n",
       "      <td>@united I had one interview I was the last person what does that mean?</td>\n",
       "    </tr>\n",
       "    <tr>\n",
       "      <th>2033</th>\n",
       "      <td>Lost Luggage</td>\n",
       "      <td>0.3241</td>\n",
       "      <td>@USAirways: I experienced what defines customer service on #FLT1999. A flight attendant willing to follow up with a passenger on bag charges</td>\n",
       "    </tr>\n",
       "    <tr>\n",
       "      <th>2137</th>\n",
       "      <td>Can't Tell</td>\n",
       "      <td>0.3249</td>\n",
       "      <td>@SouthwestAir How do I stop getting credit card apps? I already have a card!</td>\n",
       "    </tr>\n",
       "    <tr>\n",
       "      <th>2301</th>\n",
       "      <td>Flight Booking Problems</td>\n",
       "      <td>0.3251</td>\n",
       "      <td>@united flying tomorrow from mexico to US. Mileage tkts dont show 1k status. Help</td>\n",
       "    </tr>\n",
       "  </tbody>\n",
       "</table>\n",
       "</div>"
      ],
      "text/plain": [
       "                negativereason negativereason_confidence  \\\n",
       "6556   Flight Booking Problems                    0.3122   \n",
       "11087  Flight Booking Problems                    0.3125   \n",
       "14484  Flight Booking Problems                    0.3146   \n",
       "12898               Can't Tell                    0.3152   \n",
       "14471               Bad Flight                    0.3164   \n",
       "10877         Cancelled Flight                    0.3166   \n",
       "9172          Cancelled Flight                    0.3166   \n",
       "13795   Customer Service Issue                    0.3168   \n",
       "1507               Late Flight                    0.3168   \n",
       "12184               Can't Tell                    0.3179   \n",
       "1310    Customer Service Issue                    0.3187   \n",
       "4352                Can't Tell                    0.3189   \n",
       "11823         Cancelled Flight                    0.3217   \n",
       "13201                longlines                    0.3217   \n",
       "6231                Bad Flight                    0.3221   \n",
       "5623          Cancelled Flight                    0.3222   \n",
       "2892               Late Flight                    0.3222   \n",
       "11637             Lost Luggage                    0.3227   \n",
       "12136               Can't Tell                    0.3227   \n",
       "1827   Flight Booking Problems                    0.3228   \n",
       "4670                Can't Tell                     0.323   \n",
       "1963          Cancelled Flight                     0.323   \n",
       "12972   Customer Service Issue                    0.3231   \n",
       "2961               Late Flight                    0.3237   \n",
       "2670   Flight Booking Problems                     0.324   \n",
       "3477                Can't Tell                     0.324   \n",
       "5303                Can't Tell                     0.324   \n",
       "2033              Lost Luggage                    0.3241   \n",
       "2137                Can't Tell                    0.3249   \n",
       "2301   Flight Booking Problems                    0.3251   \n",
       "\n",
       "                                                                                                                                                       text  \n",
       "6556                   @USAirways had to Cancelled Flight 4 of my flights because my versace biceps wouldn't stow completely under the seat in front of me.  \n",
       "11087                                                                              @USAirways what's going on with your website &amp; mobile app??? Help!!!  \n",
       "14484                      @USAirways  is there a better time to call? My flight is on Friday and I need to change it. Worried I may be on hold until then.  \n",
       "12898          @JetBlue - Hopefully that will help someone in the future. Would there have been a different procedure if I had discovered the theft sooner?  \n",
       "14471                                                             @AmericanAir thanks for getting back to me. But I will find other airlines in the future.  \n",
       "10877  @AmericanAir  when do you anticipate decisions for Cancelled Flightlations at DFW tomorrow morning? Need to rearrange hotel reservations, etc. ASAP!  \n",
       "9172                  @AmericanAir Hopefully you guys are willing to cover my lovely car rental and living charges...I love being here for two extra days..  \n",
       "13795                              @AmericanAir thanks for finally letting me get through to book my flight. Frustration  set in... #donedeal #talktoahuman  \n",
       "1507                                                                                          @USAirways tell the flight from clt to srq 5080 to wait!!!!!!  \n",
       "12184          @SouthwestAir do these scavenger hunt  locations have anything in common because I'm playing detective trying to figure out the one for ATL.  \n",
       "1310                   @JetBlue shout out to the crew on flight 89 headed back to the big apple, they kept my glass half full the whole flight! #jetbluejfk  \n",
       "4352                @USAirways I'm logged into a Flight Booking Problems. I need to add API before travelling to the states but I cannot see where to do it  \n",
       "11823                                            @united Ok thank you, do you provide complimentary hotel accommodations since I'll have to stay overnight?  \n",
       "13201                   @AmericanAir If SNA curfew causes diversion, do you provide transportation from LAX? On AA1237 now, pilot not sure if we have time.  \n",
       "6231               @united hello I am flying first class and am behind 20 people on zone 1!!!!!  Pls pass on to app dept - you should board 1st class first  \n",
       "5623             @united I was flying home for a 9:30am event tomorrow. You pushed back my flight. Now I have a $400 ticket that won't get me home in time.  \n",
       "2892             @USAirways I do to as I have an afternoon Conference in Las Vegas and I would rather plan ahead than run thru the airport and then attempt  \n",
       "11637                                                    @SouthwestAir yeah they're somewhere. Hopefully getting them back today. Just frustrated tweeting.  \n",
       "12136                          @SouthwestAir how about #destinationdragon tix for tonite for the inconvenience since I am not there to play scavenger hunt?  \n",
       "1827                                @JetBlue Only middle seats. SFO -&gt; BOS. Not fun. She keeps getting $10 credits. Would much rather have a working TV.  \n",
       "4670           @SouthwestAir will you please start offering services out of @triflight and @AshevilleAir to other airports.. Have to drive 3-4 hrs to use u  \n",
       "1963              @united if u miss first leg of ur flight, you have to pay hundreds of $'s just to keep your second leg? How much to keep my earned miles?  \n",
       "12972                                                      @United I have no way of making phones calls... Need to handle via Twitter/email/web. Thank you!  \n",
       "2961                                          @SouthwestAir @thirty_lives birthday is the 24th and he's not seeing Imagine Dragons at #DestinationDragons ?  \n",
       "2670                                                                             @united get a clue. I am a 1K/2mm miler and that is the response you give?  \n",
       "3477                                                              @VirginAmerica seriously, though. will there not be direct flights from SFO-FLL in may???  \n",
       "5303                                                                                 @united I had one interview I was the last person what does that mean?  \n",
       "2033           @USAirways: I experienced what defines customer service on #FLT1999. A flight attendant willing to follow up with a passenger on bag charges  \n",
       "2137                                                                           @SouthwestAir How do I stop getting credit card apps? I already have a card!  \n",
       "2301                                                                      @united flying tomorrow from mexico to US. Mileage tkts dont show 1k status. Help  "
      ]
     },
     "execution_count": 210,
     "metadata": {},
     "output_type": "execute_result"
    }
   ],
   "source": [
    "pd.set_option('max_colwidth', 150)\n",
    "neg_data[['negativereason','negativereason_confidence','text']].sort_values(by = 'negativereason_confidence').head(30)"
   ]
  },
  {
   "cell_type": "code",
   "execution_count": 211,
   "metadata": {},
   "outputs": [
    {
     "data": {
      "text/plain": [
       "array([''], dtype=object)"
      ]
     },
     "execution_count": 211,
     "metadata": {},
     "output_type": "execute_result"
    }
   ],
   "source": [
    "neu_data['negativereason'].unique()"
   ]
  },
  {
   "cell_type": "code",
   "execution_count": 212,
   "metadata": {},
   "outputs": [],
   "source": [
    "neu_data =  neu_data.groupby"
   ]
  },
  {
   "cell_type": "code",
   "execution_count": 213,
   "metadata": {},
   "outputs": [
    {
     "data": {
      "text/plain": [
       "array([''], dtype=object)"
      ]
     },
     "execution_count": 213,
     "metadata": {},
     "output_type": "execute_result"
    }
   ],
   "source": [
    "pos_data['negativereason'].unique()"
   ]
  },
  {
   "cell_type": "code",
   "execution_count": 214,
   "metadata": {},
   "outputs": [
    {
     "data": {
      "text/html": [
       "<div>\n",
       "<style scoped>\n",
       "    .dataframe tbody tr th:only-of-type {\n",
       "        vertical-align: middle;\n",
       "    }\n",
       "\n",
       "    .dataframe tbody tr th {\n",
       "        vertical-align: top;\n",
       "    }\n",
       "\n",
       "    .dataframe thead th {\n",
       "        text-align: right;\n",
       "    }\n",
       "</style>\n",
       "<table border=\"1\" class=\"dataframe\">\n",
       "  <thead>\n",
       "    <tr style=\"text-align: right;\">\n",
       "      <th></th>\n",
       "      <th>tweet_id</th>\n",
       "      <th>airline_sentiment</th>\n",
       "      <th>airline_sentiment_confidence</th>\n",
       "      <th>negativereason</th>\n",
       "      <th>negativereason_confidence</th>\n",
       "      <th>airline</th>\n",
       "      <th>airline_sentiment_gold</th>\n",
       "      <th>name</th>\n",
       "      <th>negativereason_gold</th>\n",
       "      <th>retweet_count</th>\n",
       "      <th>text</th>\n",
       "      <th>tweet_coord</th>\n",
       "      <th>tweet_created</th>\n",
       "      <th>tweet_location</th>\n",
       "      <th>user_timezone</th>\n",
       "      <th>positive</th>\n",
       "    </tr>\n",
       "  </thead>\n",
       "  <tbody>\n",
       "    <tr>\n",
       "      <th>0</th>\n",
       "      <td>567588278875213824</td>\n",
       "      <td>neutral</td>\n",
       "      <td>1.0</td>\n",
       "      <td></td>\n",
       "      <td></td>\n",
       "      <td>Delta</td>\n",
       "      <td></td>\n",
       "      <td>JetBlueNews</td>\n",
       "      <td></td>\n",
       "      <td>0</td>\n",
       "      <td>@JetBlue's new CEO seeks the right balance to please passengers and Wall ... - Greenfield Daily Reporter http://t.co/LM3opxkxch</td>\n",
       "      <td></td>\n",
       "      <td>2015-02-16 23:36:05 -0800</td>\n",
       "      <td>USA</td>\n",
       "      <td>Sydney</td>\n",
       "      <td>no</td>\n",
       "    </tr>\n",
       "    <tr>\n",
       "      <th>1</th>\n",
       "      <td>567590027375702016</td>\n",
       "      <td>negative</td>\n",
       "      <td>1.0</td>\n",
       "      <td>Can't Tell</td>\n",
       "      <td>0.6503</td>\n",
       "      <td>Delta</td>\n",
       "      <td></td>\n",
       "      <td>nesi_1992</td>\n",
       "      <td></td>\n",
       "      <td>0</td>\n",
       "      <td>@JetBlue is REALLY getting on my nerves !! 😡😡 #nothappy</td>\n",
       "      <td></td>\n",
       "      <td>2015-02-16 23:43:02 -0800</td>\n",
       "      <td>undecided</td>\n",
       "      <td>Pacific Time (US &amp; Canada)</td>\n",
       "      <td>no</td>\n",
       "    </tr>\n",
       "    <tr>\n",
       "      <th>2</th>\n",
       "      <td>567591480085463040</td>\n",
       "      <td>negative</td>\n",
       "      <td>1.0</td>\n",
       "      <td>Late Flight</td>\n",
       "      <td>0.346</td>\n",
       "      <td>United</td>\n",
       "      <td></td>\n",
       "      <td>CPoutloud</td>\n",
       "      <td></td>\n",
       "      <td>0</td>\n",
       "      <td>@united yes. We waited in line for almost an hour to do so. Some passengers just left not wanting to wait past 1am.</td>\n",
       "      <td></td>\n",
       "      <td>2015-02-16 23:48:48 -0800</td>\n",
       "      <td>Washington, DC</td>\n",
       "      <td></td>\n",
       "      <td>no</td>\n",
       "    </tr>\n",
       "    <tr>\n",
       "      <th>3</th>\n",
       "      <td>567592368451248130</td>\n",
       "      <td>negative</td>\n",
       "      <td>1.0</td>\n",
       "      <td>Late Flight</td>\n",
       "      <td>1</td>\n",
       "      <td>United</td>\n",
       "      <td></td>\n",
       "      <td>brenduch</td>\n",
       "      <td></td>\n",
       "      <td>0</td>\n",
       "      <td>@united the we got into the gate at IAH on time and have given our seats and closed the flight. If you know people is arriving, have to wait</td>\n",
       "      <td></td>\n",
       "      <td>2015-02-16 23:52:20 -0800</td>\n",
       "      <td></td>\n",
       "      <td>Buenos Aires</td>\n",
       "      <td>no</td>\n",
       "    </tr>\n",
       "    <tr>\n",
       "      <th>4</th>\n",
       "      <td>567594449874587648</td>\n",
       "      <td>negative</td>\n",
       "      <td>1.0</td>\n",
       "      <td>Customer Service Issue</td>\n",
       "      <td>0.3451</td>\n",
       "      <td>Southwest</td>\n",
       "      <td></td>\n",
       "      <td>VahidESQ</td>\n",
       "      <td></td>\n",
       "      <td>0</td>\n",
       "      <td>@SouthwestAir its cool that my bags take a bit longer, dont give me baggage blue balls-turn the carousel on, tell me it's coming, then not.</td>\n",
       "      <td></td>\n",
       "      <td>2015-02-17 00:00:36 -0800</td>\n",
       "      <td>Los Angeles, CA</td>\n",
       "      <td>Pacific Time (US &amp; Canada)</td>\n",
       "      <td>no</td>\n",
       "    </tr>\n",
       "  </tbody>\n",
       "</table>\n",
       "</div>"
      ],
      "text/plain": [
       "             tweet_id airline_sentiment  airline_sentiment_confidence  \\\n",
       "0  567588278875213824           neutral                           1.0   \n",
       "1  567590027375702016          negative                           1.0   \n",
       "2  567591480085463040          negative                           1.0   \n",
       "3  567592368451248130          negative                           1.0   \n",
       "4  567594449874587648          negative                           1.0   \n",
       "\n",
       "           negativereason negativereason_confidence    airline  \\\n",
       "0                                                        Delta   \n",
       "1              Can't Tell                    0.6503      Delta   \n",
       "2             Late Flight                     0.346     United   \n",
       "3             Late Flight                         1     United   \n",
       "4  Customer Service Issue                    0.3451  Southwest   \n",
       "\n",
       "  airline_sentiment_gold         name negativereason_gold  retweet_count  \\\n",
       "0                         JetBlueNews                                  0   \n",
       "1                           nesi_1992                                  0   \n",
       "2                           CPoutloud                                  0   \n",
       "3                            brenduch                                  0   \n",
       "4                            VahidESQ                                  0   \n",
       "\n",
       "                                                                                                                                           text  \\\n",
       "0               @JetBlue's new CEO seeks the right balance to please passengers and Wall ... - Greenfield Daily Reporter http://t.co/LM3opxkxch   \n",
       "1                                                                                       @JetBlue is REALLY getting on my nerves !! 😡😡 #nothappy   \n",
       "2                           @united yes. We waited in line for almost an hour to do so. Some passengers just left not wanting to wait past 1am.   \n",
       "3  @united the we got into the gate at IAH on time and have given our seats and closed the flight. If you know people is arriving, have to wait   \n",
       "4   @SouthwestAir its cool that my bags take a bit longer, dont give me baggage blue balls-turn the carousel on, tell me it's coming, then not.   \n",
       "\n",
       "  tweet_coord              tweet_created   tweet_location  \\\n",
       "0              2015-02-16 23:36:05 -0800              USA   \n",
       "1              2015-02-16 23:43:02 -0800        undecided   \n",
       "2              2015-02-16 23:48:48 -0800   Washington, DC   \n",
       "3              2015-02-16 23:52:20 -0800                    \n",
       "4              2015-02-17 00:00:36 -0800  Los Angeles, CA   \n",
       "\n",
       "                user_timezone positive  \n",
       "0                      Sydney       no  \n",
       "1  Pacific Time (US & Canada)       no  \n",
       "2                                   no  \n",
       "3                Buenos Aires       no  \n",
       "4  Pacific Time (US & Canada)       no  "
      ]
     },
     "execution_count": 214,
     "metadata": {},
     "output_type": "execute_result"
    }
   ],
   "source": [
    "data['positive'] = 'no'\n",
    "data.loc[data['airline_sentiment'] == 'positive', 'positive'] = 'yes'\n",
    "data.head()"
   ]
  },
  {
   "cell_type": "code",
   "execution_count": 215,
   "metadata": {},
   "outputs": [],
   "source": [
    "cursor.execute(\n",
    "    '''ALTER TABLE Tweets ADD COLUMN positive  varchar(3);\n",
    "\n",
    "''')\n",
    "con.commit()"
   ]
  },
  {
   "cell_type": "code",
   "execution_count": 216,
   "metadata": {},
   "outputs": [
    {
     "data": {
      "text/html": [
       "<div>\n",
       "<style scoped>\n",
       "    .dataframe tbody tr th:only-of-type {\n",
       "        vertical-align: middle;\n",
       "    }\n",
       "\n",
       "    .dataframe tbody tr th {\n",
       "        vertical-align: top;\n",
       "    }\n",
       "\n",
       "    .dataframe thead th {\n",
       "        text-align: right;\n",
       "    }\n",
       "</style>\n",
       "<table border=\"1\" class=\"dataframe\">\n",
       "  <thead>\n",
       "    <tr style=\"text-align: right;\">\n",
       "      <th></th>\n",
       "      <th>tweet_id</th>\n",
       "      <th>positive</th>\n",
       "    </tr>\n",
       "  </thead>\n",
       "  <tbody>\n",
       "    <tr>\n",
       "      <th>0</th>\n",
       "      <td>567588278875213824</td>\n",
       "      <td>no</td>\n",
       "    </tr>\n",
       "    <tr>\n",
       "      <th>1</th>\n",
       "      <td>567590027375702016</td>\n",
       "      <td>no</td>\n",
       "    </tr>\n",
       "    <tr>\n",
       "      <th>2</th>\n",
       "      <td>567591480085463040</td>\n",
       "      <td>no</td>\n",
       "    </tr>\n",
       "    <tr>\n",
       "      <th>3</th>\n",
       "      <td>567592368451248130</td>\n",
       "      <td>no</td>\n",
       "    </tr>\n",
       "    <tr>\n",
       "      <th>4</th>\n",
       "      <td>567594449874587648</td>\n",
       "      <td>no</td>\n",
       "    </tr>\n",
       "  </tbody>\n",
       "</table>\n",
       "</div>"
      ],
      "text/plain": [
       "             tweet_id positive\n",
       "0  567588278875213824       no\n",
       "1  567590027375702016       no\n",
       "2  567591480085463040       no\n",
       "3  567592368451248130       no\n",
       "4  567594449874587648       no"
      ]
     },
     "execution_count": 216,
     "metadata": {},
     "output_type": "execute_result"
    }
   ],
   "source": [
    "final_data = data[['tweet_id','positive']]\n",
    "final_data.head()"
   ]
  },
  {
   "cell_type": "code",
   "execution_count": 217,
   "metadata": {},
   "outputs": [],
   "source": [
    "final_data.to_sql('positive', con = con)\n",
    "con.commit()"
   ]
  },
  {
   "cell_type": "code",
   "execution_count": 218,
   "metadata": {},
   "outputs": [
    {
     "data": {
      "text/plain": [
       "[(0, 567588278875213824, 'no'),\n",
       " (1, 567590027375702016, 'no'),\n",
       " (2, 567591480085463040, 'no'),\n",
       " (3, 567592368451248130, 'no'),\n",
       " (4, 567594449874587648, 'no'),\n",
       " (5, 567594579310825473, 'no'),\n",
       " (6, 567595670463205376, 'no'),\n",
       " (7, 567614049425555457, 'no'),\n",
       " (8, 567617081336950784, 'no'),\n",
       " (9, 567617486703853568, 'no'),\n",
       " (10, 567623209026334720, 'no'),\n",
       " (11, 567627253991735296, 'no'),\n",
       " (12, 567630296783155203, 'no'),\n",
       " (13, 567634106058821632, 'no'),\n",
       " (14, 567643252753694721, 'no')]"
      ]
     },
     "execution_count": 218,
     "metadata": {},
     "output_type": "execute_result"
    }
   ],
   "source": [
    "query = ''' SELECT * FROM positive LIMIT 20;\n",
    "'''\n",
    "cursor.execute(query)\n",
    "cursor.fetchmany(15)"
   ]
  },
  {
   "cell_type": "code",
   "execution_count": 219,
   "metadata": {},
   "outputs": [],
   "source": [
    "cursor.execute(\n",
    "    ''' UPDATE Tweets\n",
    "        SET positive = (SELECT positive FROM positive\n",
    "                        WHERE Tweets.tweet_id =  positive.tweet_id);\n",
    "''')\n",
    "\n",
    "con.commit()"
   ]
  },
  {
   "cell_type": "code",
   "execution_count": 220,
   "metadata": {},
   "outputs": [],
   "source": [
    "con.close()"
   ]
  },
  {
   "cell_type": "code",
   "execution_count": null,
   "metadata": {},
   "outputs": [],
   "source": []
  }
 ],
 "metadata": {
  "kernelspec": {
   "display_name": "Python 3",
   "language": "python",
   "name": "python3"
  },
  "language_info": {
   "codemirror_mode": {
    "name": "ipython",
    "version": 3
   },
   "file_extension": ".py",
   "mimetype": "text/x-python",
   "name": "python",
   "nbconvert_exporter": "python",
   "pygments_lexer": "ipython3",
   "version": "3.7.3"
  }
 },
 "nbformat": 4,
 "nbformat_minor": 2
}
