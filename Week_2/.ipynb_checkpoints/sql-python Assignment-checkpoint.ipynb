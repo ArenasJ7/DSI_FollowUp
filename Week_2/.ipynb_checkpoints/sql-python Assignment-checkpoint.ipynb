{
 "cells": [
  {
   "cell_type": "markdown",
   "metadata": {},
   "source": [
    "#  SQL-Python Assignment"
   ]
  },
  {
   "cell_type": "code",
   "execution_count": 310,
   "metadata": {},
   "outputs": [],
   "source": [
    "import psycopg2\n",
    "from datetime import datetime\n",
    "from datetime import date"
   ]
  },
  {
   "cell_type": "markdown",
   "metadata": {},
   "source": [
    "* First let's take the current date. This will be our reference when taking the daily snapshot."
   ]
  },
  {
   "cell_type": "code",
   "execution_count": 296,
   "metadata": {},
   "outputs": [
    {
     "name": "stdout",
     "output_type": "stream",
     "text": [
      "20140814\n"
     ]
    }
   ],
   "source": [
    "curr_date = '2014-08-14'\n",
    "ts = datetime.strptime(curr_date, '%Y-%m-%d').strftime(\"%Y%m%d\")\n",
    "print(ts)"
   ]
  },
  {
   "cell_type": "code",
   "execution_count": 297,
   "metadata": {},
   "outputs": [],
   "source": [
    "# Before running the following command it's necessary to create a\n",
    "# database using postgres shell. Then load the socialmedia.sql \n",
    "# file to the social media database.\n",
    "# After this is done, we can run the next command\n",
    "\n",
    "conn = psycopg2.connect(dbname='socialmedia', host='localhost', user = 'postgres', password = 'feliz1')"
   ]
  },
  {
   "cell_type": "markdown",
   "metadata": {},
   "source": [
    "* Create table with the necessary data for the assignment"
   ]
  },
  {
   "cell_type": "code",
   "execution_count": 298,
   "metadata": {},
   "outputs": [],
   "source": [
    "c = conn.cursor()\n",
    "\n",
    "c.execute(\n",
    "    ''' CREATE TABLE logins_7d(\n",
    "    userid integer,\n",
    "    reg_date timestamp without time zone,\n",
    "    last_login timestamp without time zone,\n",
    "    logins_7d integer,\n",
    "    logins_7d_mobile integer,\n",
    "    logins_7d_web integer,\n",
    "    opt_out varchar(3)\n",
    "    );''')\n",
    "\n",
    "conn.commit()\n",
    "conn.close()"
   ]
  },
  {
   "cell_type": "markdown",
   "metadata": {},
   "source": [
    "* In the following section the tables and querys for the assignment will be made."
   ]
  },
  {
   "cell_type": "code",
   "execution_count": 304,
   "metadata": {},
   "outputs": [],
   "source": [
    "conn = psycopg2.connect(dbname='socialmedia', host='localhost', user = 'postgres', password = 'feliz1')"
   ]
  },
  {
   "cell_type": "code",
   "execution_count": 305,
   "metadata": {},
   "outputs": [],
   "source": [
    "c = conn.cursor()"
   ]
  },
  {
   "cell_type": "code",
   "execution_count": 306,
   "metadata": {},
   "outputs": [],
   "source": [
    "c.execute(\n",
    "    ''' CREATE TEMP TABLE temp AS \n",
    "    SELECT userid, SUM(CASE WHEN logins.type = 'web' THEN 1 ELSE 0 END) as cnt_web, SUM(CASE WHEN logins.type = 'mobile' THEN 1 ELSE 0 END) AS cnt_mobile\n",
    "    FROM logins\n",
    "    WHERE logins.tmstmp > timestamp %(ts)s - interval '7 days'\n",
    "    GROUP BY userid\n",
    "    ORDER BY userid;\n",
    "    ''',{'ts':ts}\n",
    ")\n",
    "\n",
    "conn.commit()\n",
    "\n",
    "c.execute(\n",
    "    ''' CREATE TEMP TABLE temp2 AS\n",
    "    SELECT userid, MAX(tmstmp) AS last_log\n",
    "    FROM logins\n",
    "    WHERE logins.tmstmp > timestamp %(ts)s - interval '7 days'\n",
    "    GROUP BY userid\n",
    "    ORDER BY userid;\n",
    "    ''',{'ts':ts}\n",
    "    )\n",
    "\n",
    "conn.commit()\n",
    "\n",
    "c.execute(\n",
    "    '''CREATE TEMP TABLE temp3 AS\n",
    "    SELECT userid, COUNT(*) AS cnt\n",
    "    FROM logins\n",
    "    WHERE logins.tmstmp > timestamp %(ts)s - interval '7 days'\n",
    "    GROUP BY userid\n",
    "    ORDER BY userid;\n",
    "''',{'ts':ts})\n",
    "\n",
    "conn.commit()\n",
    "\n",
    "c.execute(\n",
    "    '''CREATE TEMP TABLE opt_out AS\n",
    "    SELECT userid, COUNT(*) AS opt_cnt\n",
    "    FROM optout\n",
    "    GROUP BY userid ORDER BY userid;\n",
    "\n",
    "''')\n",
    "\n",
    "conn.commit()"
   ]
  },
  {
   "cell_type": "code",
   "execution_count": 307,
   "metadata": {},
   "outputs": [],
   "source": [
    "c.execute(\n",
    "    '''INSERT INTO logins_7d \n",
    "        SELECT temp.userid AS userid,registrations.tmstmp AS reg_date, temp2.last_log AS last_login, \n",
    "        temp3.cnt AS logins_7d, temp.cnt_mobile AS logins_7d_mobile, temp.cnt_web AS logins_7d_web, opt_out.opt_cnt AS optout\n",
    "        FROM temp\n",
    "        LEFT JOIN temp2 ON temp.userid = temp2.userid\n",
    "        LEFT JOIN temp3 ON temp.userid = temp3.userid\n",
    "        LEFT JOIN opt_out ON temp.userid = opt_out.userid\n",
    "        JOIN registrations ON temp.userid = registrations.userid;\n",
    "    \n",
    "    ''')\n",
    "\n",
    "conn.commit()\n"
   ]
  },
  {
   "cell_type": "code",
   "execution_count": 308,
   "metadata": {},
   "outputs": [
    {
     "data": {
      "text/plain": [
       "[(0,\n",
       "  datetime.datetime(2014, 6, 23, 22, 25, 59),\n",
       "  datetime.datetime(2014, 8, 13, 13, 5, 23),\n",
       "  3,\n",
       "  3,\n",
       "  0,\n",
       "  None),\n",
       " (1,\n",
       "  datetime.datetime(2013, 12, 21, 20, 11, 2),\n",
       "  datetime.datetime(2014, 8, 12, 20, 49, 22),\n",
       "  6,\n",
       "  2,\n",
       "  4,\n",
       "  None),\n",
       " (2,\n",
       "  datetime.datetime(2014, 4, 18, 10, 5, 11),\n",
       "  datetime.datetime(2014, 8, 14, 8, 20),\n",
       "  5,\n",
       "  4,\n",
       "  1,\n",
       "  None),\n",
       " (3,\n",
       "  datetime.datetime(2013, 12, 17, 16, 1, 59),\n",
       "  datetime.datetime(2014, 8, 13, 19, 59, 38),\n",
       "  4,\n",
       "  3,\n",
       "  1,\n",
       "  None),\n",
       " (4,\n",
       "  datetime.datetime(2014, 8, 11, 19, 22, 32),\n",
       "  datetime.datetime(2014, 8, 9, 5, 10, 7),\n",
       "  1,\n",
       "  1,\n",
       "  0,\n",
       "  None),\n",
       " (5,\n",
       "  datetime.datetime(2013, 8, 31, 5, 22, 58),\n",
       "  datetime.datetime(2014, 8, 10, 2, 5, 54),\n",
       "  1,\n",
       "  1,\n",
       "  0,\n",
       "  None),\n",
       " (6,\n",
       "  datetime.datetime(2013, 8, 18, 10, 9, 28),\n",
       "  datetime.datetime(2014, 8, 12, 18, 44, 34),\n",
       "  1,\n",
       "  0,\n",
       "  1,\n",
       "  None),\n",
       " (7,\n",
       "  datetime.datetime(2014, 3, 21, 22, 55, 47),\n",
       "  datetime.datetime(2014, 8, 12, 5, 4, 12),\n",
       "  2,\n",
       "  2,\n",
       "  0,\n",
       "  None),\n",
       " (8,\n",
       "  datetime.datetime(2014, 5, 3, 1, 48, 29),\n",
       "  datetime.datetime(2014, 8, 11, 23, 50, 14),\n",
       "  3,\n",
       "  0,\n",
       "  3,\n",
       "  None),\n",
       " (9,\n",
       "  datetime.datetime(2014, 6, 6, 12, 13, 59),\n",
       "  datetime.datetime(2014, 8, 11, 14, 3, 31),\n",
       "  2,\n",
       "  1,\n",
       "  1,\n",
       "  None),\n",
       " (10,\n",
       "  datetime.datetime(2013, 8, 31, 15, 32, 46),\n",
       "  datetime.datetime(2014, 8, 10, 15, 35, 51),\n",
       "  3,\n",
       "  1,\n",
       "  2,\n",
       "  '1'),\n",
       " (11,\n",
       "  datetime.datetime(2013, 8, 16, 19, 55),\n",
       "  datetime.datetime(2014, 8, 10, 0, 44, 44),\n",
       "  2,\n",
       "  1,\n",
       "  1,\n",
       "  None),\n",
       " (12,\n",
       "  datetime.datetime(2013, 9, 12, 22, 30, 31),\n",
       "  datetime.datetime(2014, 8, 13, 3, 26, 51),\n",
       "  2,\n",
       "  1,\n",
       "  1,\n",
       "  None),\n",
       " (13,\n",
       "  datetime.datetime(2014, 7, 29, 11, 14, 7),\n",
       "  datetime.datetime(2014, 8, 14, 12, 38, 51),\n",
       "  5,\n",
       "  5,\n",
       "  0,\n",
       "  None),\n",
       " (14,\n",
       "  datetime.datetime(2013, 11, 3, 0, 11, 38),\n",
       "  datetime.datetime(2014, 8, 11, 22, 52, 8),\n",
       "  3,\n",
       "  1,\n",
       "  2,\n",
       "  None)]"
      ]
     },
     "execution_count": 308,
     "metadata": {},
     "output_type": "execute_result"
    }
   ],
   "source": [
    "query = ('''\n",
    "    SELECT * FROM temp LIMIT 10;\n",
    "''')\n",
    "\n",
    "query2 = ('''\n",
    "    SELECT * FROM temp2 LIMIT 10;\n",
    "''')\n",
    "\n",
    "query3 = ('''\n",
    "    SELECT * FROM temp3 LIMIT 10;\n",
    "''')\n",
    "\n",
    "query4 = (\n",
    "    ''' SELECT * FROM logins_7d LIMIT 20;\n",
    "    ''')\n",
    "c.execute(query4)\n",
    "c.fetchmany(15)"
   ]
  },
  {
   "cell_type": "code",
   "execution_count": 309,
   "metadata": {},
   "outputs": [],
   "source": [
    "conn.close()"
   ]
  },
  {
   "cell_type": "code",
   "execution_count": null,
   "metadata": {},
   "outputs": [],
   "source": []
  }
 ],
 "metadata": {
  "kernelspec": {
   "display_name": "Python 3",
   "language": "python",
   "name": "python3"
  },
  "language_info": {
   "codemirror_mode": {
    "name": "ipython",
    "version": 3
   },
   "file_extension": ".py",
   "mimetype": "text/x-python",
   "name": "python",
   "nbconvert_exporter": "python",
   "pygments_lexer": "ipython3",
   "version": "3.7.3"
  }
 },
 "nbformat": 4,
 "nbformat_minor": 2
}
