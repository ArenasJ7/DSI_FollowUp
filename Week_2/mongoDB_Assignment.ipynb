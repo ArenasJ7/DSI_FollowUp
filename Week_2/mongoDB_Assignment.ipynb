{
 "cells": [
  {
   "cell_type": "code",
   "execution_count": 2,
   "metadata": {},
   "outputs": [
    {
     "name": "stdout",
     "output_type": "stream",
     "text": [
      "['admin', 'clicks', 'config', 'local', 'mydatabase', 'nyt_dump']\n"
     ]
    }
   ],
   "source": [
    "import pymongo\n",
    "from pymongo import MongoClient\n",
    "import json\n",
    "\n",
    "myclient = pymongo.MongoClient(\"mongodb://localhost:27017/\")\n",
    "\n",
    "new_db = myclient[\"mydatabase\"]\n",
    "\n",
    "#clicks.drop()\n",
    "\n",
    "print(myclient.list_database_names())\n",
    "\n"
   ]
  },
  {
   "cell_type": "code",
   "execution_count": 3,
   "metadata": {},
   "outputs": [
    {
     "name": "stdout",
     "output_type": "stream",
     "text": [
      "{'_id': ObjectId('5d9619a4cf31a8aaff860841'), 'a': 'Mozilla/5.0 (Windows NT 6.1) AppleWebKit/537.31 (KHTML, like Gecko) Chrome/26.0.1410.64 Safari/537.31', 'c': 'IN', 'nk': 0, 'tz': 'Asia/Calcutta', 'gr': '38', 'g': '15r91', 'h': '10OBm3W', 'l': 'pontifier', 'al': 'en-US,en;q=0.8', 'hh': 'j.mp', 'r': 'direct', 'u': 'http://www.nsa.gov/', 't': 1368774597, 'hc': 1365701422, 'cy': 'Jamshedpur', 'll': [22.799999, 86.183296], 'date': datetime.datetime(2013, 5, 17, 2, 9, 57)}\n"
     ]
    }
   ],
   "source": [
    "file_data = []\n",
    "\n",
    "with open('click_log.json','r') as f:\n",
    "    for line in f:\n",
    "        file_data.append(json.loads(line))\n",
    "    \n",
    "clicks = new_db['clicks']\n",
    "\n",
    "clicks.insert_many(file_data)\n",
    "\n",
    "x = clicks.find_one()\n",
    "print(x)"
   ]
  },
  {
   "cell_type": "markdown",
   "metadata": {},
   "source": [
    "* Looking at the number of clicks where city is \"San Francisco\""
   ]
  },
  {
   "cell_type": "code",
   "execution_count": 4,
   "metadata": {},
   "outputs": [
    {
     "name": "stdout",
     "output_type": "stream",
     "text": [
      "{'_id': ObjectId('5d9619a4cf31a8aaff860a9a'), 'cy': 'San Francisco'}\n",
      "{'_id': ObjectId('5d9619a4cf31a8aaff860a9b'), 'cy': 'San Francisco'}\n",
      "{'_id': ObjectId('5d9619a4cf31a8aaff860a9d'), 'cy': 'San Francisco'}\n",
      "{'_id': ObjectId('5d9619a4cf31a8aaff860aa3'), 'cy': 'San Francisco'}\n",
      "{'_id': ObjectId('5d9619a4cf31a8aaff860cd0'), 'cy': 'San Francisco'}\n",
      "{'_id': ObjectId('5d9619a4cf31a8aaff860cd1'), 'cy': 'San Francisco'}\n",
      "{'_id': ObjectId('5d9619a4cf31a8aaff860cd2'), 'cy': 'San Francisco'}\n",
      "{'_id': ObjectId('5d9619a4cf31a8aaff861037'), 'cy': 'San Francisco'}\n",
      "{'_id': ObjectId('5d9619a4cf31a8aaff8610fe'), 'cy': 'San Francisco'}\n",
      "{'_id': ObjectId('5d9619a4cf31a8aaff861109'), 'cy': 'San Francisco'}\n"
     ]
    }
   ],
   "source": [
    "query1 = {\"cy\": \"San Francisco\"}\n",
    "\n",
    "\n",
    "# Getting al the fields from the query\n",
    "#x = clicks.find(query1).limit(5) \n",
    "\n",
    "# Getting only a specific field from the query\n",
    "x = clicks.find(query1, {'cy':1}).limit(10)\n",
    "\n",
    "for m in x:\n",
    "    print(m)"
   ]
  },
  {
   "cell_type": "markdown",
   "metadata": {},
   "source": [
    "* Counting the amount of clicks that came from San Francisco"
   ]
  },
  {
   "cell_type": "code",
   "execution_count": 199,
   "metadata": {},
   "outputs": [
    {
     "name": "stderr",
     "output_type": "stream",
     "text": [
      "//anaconda3/lib/python3.7/site-packages/ipykernel_launcher.py:7: DeprecationWarning: count is deprecated. Use Collection.count_documents instead.\n",
      "  import sys\n"
     ]
    },
    {
     "data": {
      "text/plain": [
       "11"
      ]
     },
     "execution_count": 199,
     "metadata": {},
     "output_type": "execute_result"
    }
   ],
   "source": [
    "query1 = {\"cy\": \"San Francisco\"}\n",
    "\n",
    "\n",
    "# Getting al the fields from the query\n",
    "x = clicks.find(query1)\n",
    "\n",
    "x.count()"
   ]
  },
  {
   "cell_type": "markdown",
   "metadata": {},
   "source": [
    "* Counting distinct web browsers"
   ]
  },
  {
   "cell_type": "code",
   "execution_count": 200,
   "metadata": {},
   "outputs": [
    {
     "name": "stdout",
     "output_type": "stream",
     "text": [
      "559\n"
     ]
    }
   ],
   "source": [
    "x = clicks.distinct('a')\n",
    "print(len(x))"
   ]
  },
  {
   "cell_type": "code",
   "execution_count": 201,
   "metadata": {},
   "outputs": [
    {
     "name": "stderr",
     "output_type": "stream",
     "text": [
      "//anaconda3/lib/python3.7/site-packages/ipykernel_launcher.py:3: DeprecationWarning: count is deprecated. Use Collection.count_documents instead.\n",
      "  This is separate from the ipykernel package so we can avoid doing imports until\n"
     ]
    },
    {
     "data": {
      "text/plain": [
       "2829"
      ]
     },
     "execution_count": 201,
     "metadata": {},
     "output_type": "execute_result"
    }
   ],
   "source": [
    "\n",
    "x = clicks.find({'$or':[{'a':{'$regex':'^Mozilla'}},{'a':{'$regex':'^Opera'}}]})\n",
    "\n",
    "x.count()\n"
   ]
  },
  {
   "cell_type": "code",
   "execution_count": 215,
   "metadata": {},
   "outputs": [
    {
     "name": "stdout",
     "output_type": "stream",
     "text": [
      "{'_id': ObjectId('5d9619a4cf31a8aaff860841'), 'a': 'Mozilla/5.0 (Windows NT 6.1) AppleWebKit/537.31 (KHTML, like Gecko) Chrome/26.0.1410.64 Safari/537.31', 'c': 'IN', 'nk': 0, 'tz': 'Asia/Calcutta', 'gr': '38', 'g': '15r91', 'h': '10OBm3W', 'l': 'pontifier', 'al': 'en-US,en;q=0.8', 'hh': 'j.mp', 'r': 'direct', 'u': 'http://www.nsa.gov/', 't': 1368774597, 'hc': 1365701422, 'cy': 'Jamshedpur', 'll': [22.799999, 86.183296], 'date': datetime.datetime(2013, 5, 17, 2, 9, 57)}\n",
      "{'_id': ObjectId('5d9619a4cf31a8aaff860842'), 'a': 'Mozilla/4.0 (compatible; MSIE 8.0; Windows NT 6.1; Trident/4.0; SLCC2; .NET CLR 2.0.50727; .NET CLR 3.5.30729; .NET CLR 3.0.30729; .NET4.0C; .NET4.0E; InfoPath.3; MS-RTC LM 8)', 'c': 'US', 'nk': 1, 'tz': 'America/New_York', 'gr': 'DC', 'g': 'UcYpGN', 'h': 'SkcRGU', 'l': 'o_33avl0ri1b', 'al': 'en-US', 'hh': '1.usa.gov', 'r': 'http://fwp.mt.gov/', 'u': 'http://fwp.mt.gov/myfwp/', 't': 1368774600, 'hc': 1352828850, 'cy': 'Washington', 'll': [38.893299, -77.014603], 'date': datetime.datetime(2013, 5, 17, 2, 10)}\n",
      "{'_id': ObjectId('5d9619a4cf31a8aaff860843'), 'a': 'Mozilla/5.0 (iPhone; CPU iPhone OS 6_1_3 like Mac OS X) AppleWebKit/536.26 (KHTML, like Gecko) Mobile/10B329', 'c': 'US', 'nk': 0, 'tz': 'America/Los_Angeles', 'gr': 'CA', 'g': '1084Psg', 'h': '19Cztuz', 'l': 'tweetdeckapi', 'al': 'en-us', 'hh': '1.usa.gov', 'r': 'http://t.co/btKvKFBaF5', 'u': 'http://science.nasa.gov/science-news/science-at-nasa/2013/16may_lunarimpact/', 't': 1368774599, 'hc': 1368774179, 'cy': 'Palm Desert', 'll': [33.7724, -116.345802], 'date': datetime.datetime(2013, 5, 17, 2, 9, 59)}\n",
      "{'_id': ObjectId('5d9619a4cf31a8aaff860844'), '_heartbeat_': 1368774601}\n",
      "{'_id': ObjectId('5d9619a4cf31a8aaff860845'), 'a': 'Mozilla/5.0 (compatible; MSIE 10.0; Windows NT 6.1; WOW64; Trident/6.0)', 'c': 'NL', 'nk': 0, 'tz': 'Europe/Amsterdam', 'gr': '06', 'g': '15r91', 'h': '10OBm3W', 'l': 'pontifier', 'al': 'en-GB', 'hh': 'j.mp', 'r': 'direct', 'u': 'http://www.nsa.gov/', 't': 1368774599, 'hc': 1365701422, 'cy': 'Oss', 'll': [51.766701, 5.5333], 'date': datetime.datetime(2013, 5, 17, 2, 9, 59)}\n",
      "{'_id': ObjectId('5d9619a4cf31a8aaff860846'), 'a': 'Opera/9.80 (VRE; Opera Mini/4.2/29.3594; U; en) Presto/2.8.119 Version/11.10', 'c': None, 'nk': 0, 'tz': '', 'g': '10wNFQH', 'h': '10wNFQG', 'l': 'medlineplus4you', 'al': 'en', 'hh': '1.usa.gov', 'r': 'http://t.co/pUx3YOu5Jk', 'u': 'http://www.nlm.nih.gov/medlineplus/news/fullstory_136556.html', 't': 1368774602, 'hc': 1368560441, 'date': datetime.datetime(2013, 5, 17, 2, 10, 2)}\n",
      "{'_id': ObjectId('5d9619a4cf31a8aaff860847'), 'a': 'Mozilla/5.0 (Linux; U; Android 2.2.1; en-gb; GT-I9000 Build/FROYO) AppleWebKit/533.1 (KHTML, like Gecko) Version/4.0 Mobile Safari/533.1', 'c': 'GB', 'nk': 0, 'tz': 'Europe/London', 'gr': 'F2', 'g': '18OdFhW', 'h': '18OdFhV', 'l': 'nasatwitter', 'al': 'en-GB, en-US', 'hh': 'go.nasa.gov', 'r': 'http://t.co/bTuLjAIpxg', 'u': 'http://www.jpl.nasa.gov/news/news.php?release=2013-166', 't': 1368774604, 'hc': 1368738515, 'cy': 'Andover', 'll': [51.200001, -1.4833], 'date': datetime.datetime(2013, 5, 17, 2, 10, 4)}\n",
      "{'_id': ObjectId('5d9619a4cf31a8aaff860848'), 'a': 'Mozilla/5.0 (Windows NT 6.1) AppleWebKit/537.31 (KHTML, like Gecko) Chrome/26.0.1410.64 Safari/537.31', 'c': 'JO', 'nk': 0, 'tz': 'Asia/Amman', 'gr': '02', 'g': 'YMmcOm', 'h': 'YMmcOm', 'l': 'bitly', 'al': 'en-US,en;q=0.8', 'hh': '1.usa.gov', 'r': 'https://www.facebook.com/', 'u': 'http://videocast.nih.gov/summary.asp?Live=12720&bhcp=1', 't': 1368774608, 'hc': 1368717942, 'cy': 'Amman', 'll': [31.950001, 35.9333], 'date': datetime.datetime(2013, 5, 17, 2, 10, 8)}\n",
      "{'_id': ObjectId('5d9619a4cf31a8aaff860849'), 'a': 'UCWEB/2.0 (Linux; U; Adr 4.1.1; en-US; GT-P3100) U2/1.0.0 UCBrowser/8.2.0.242 U2/1.0.0 Mobile', 'c': None, 'nk': 0, 'tz': '', 'g': '15r91', 'h': '10OBm3W', 'l': 'pontifier', 'al': 'en-us', 'hh': 'j.mp', 'r': 'direct', 'u': 'http://www.nsa.gov/', 't': 1368774610, 'hc': 1365701422, 'date': datetime.datetime(2013, 5, 17, 2, 10, 10)}\n",
      "{'_id': ObjectId('5d9619a4cf31a8aaff86084a'), 'a': 'Mozilla/5.0 (Windows NT 6.1; rv:20.0) Gecko/20100101 Firefox/20.0', 'c': None, 'nk': 0, 'tz': '', 'g': '15r91', 'h': '10OBm3W', 'l': 'pontifier', 'al': 'en-US,en;q=0.5', 'hh': 'j.mp', 'r': 'http://www.facebook.com/', 'u': 'http://www.nsa.gov/', 't': 1368774613, 'hc': 1365701422, 'date': datetime.datetime(2013, 5, 17, 2, 10, 13)}\n"
     ]
    }
   ],
   "source": [
    "from datetime import datetime\n",
    "\n",
    "m = clicks.find()\n",
    "\n",
    "for x in m:\n",
    "    if 't' in x.keys():\n",
    "        dt = datetime.fromtimestamp(x['t'])\n",
    "        new_value_2 = {'$set': {'date': dt}}\n",
    "        query = {'_id': x['_id']}\n",
    "        clicks.update_one(query, new_value_2)\n",
    "        \n",
    "    else:\n",
    "        pass\n",
    "\n",
    "q = clicks.find().limit(10)\n",
    "\n",
    "for i in q:\n",
    "    print(i['date'])"
   ]
  }
 ],
 "metadata": {
  "kernelspec": {
   "display_name": "Python 3",
   "language": "python",
   "name": "python3"
  },
  "language_info": {
   "codemirror_mode": {
    "name": "ipython",
    "version": 3
   },
   "file_extension": ".py",
   "mimetype": "text/x-python",
   "name": "python",
   "nbconvert_exporter": "python",
   "pygments_lexer": "ipython3",
   "version": "3.7.3"
  }
 },
 "nbformat": 4,
 "nbformat_minor": 2
}
